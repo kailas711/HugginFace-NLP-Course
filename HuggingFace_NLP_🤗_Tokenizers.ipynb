{
  "cells": [
    {
      "cell_type": "markdown",
      "metadata": {
        "id": "RYR-PDfUG_sc"
      },
      "source": [
        "# Training a new tokenizer from old one.\n",
        "\n",
        "If a language is trained on a different corpus then you need to train a new tokenizer from scratch for the new corpus.\n",
        "\n",
        "Transformer Models use *subword tokenization algorithm* which splits words into subwords which are occuring most frequently in the corpus. For that the tokenizer algorithm need to take a hard look at the samples (training).\n",
        "\n",
        "Training a tokenizer is different from training a model , model uses SGD to update params and it is stohastic. While training tokenizer estimates the fequent words using statistical models which is always deterministic in nature. We'll get the same result on repeated re-run.\n",
        "\n",
        "We use the `AutoTokenizer.train_new_from_iterator()` for that.\n",
        "\n",
        "**Getting new corpus**"
      ]
    },
    {
      "cell_type": "code",
      "execution_count": null,
      "metadata": {
        "id": "yEjsnCAkf0QK"
      },
      "outputs": [],
      "source": [
        "# !pip install datasets"
      ]
    },
    {
      "cell_type": "code",
      "execution_count": null,
      "metadata": {
        "colab": {
          "base_uri": "https://localhost:8080/"
        },
        "id": "JJRZ2-ExH0Vs",
        "outputId": "cda7e313-b9d5-4d2d-e425-d8fc476e68e3"
      },
      "outputs": [
        {
          "name": "stdout",
          "output_type": "stream",
          "text": [
            "dataset info: \n",
            " Dataset({\n",
            "    features: ['repository_name', 'func_path_in_repository', 'func_name', 'whole_func_string', 'language', 'func_code_string', 'func_code_tokens', 'func_documentation_string', 'func_documentation_tokens', 'split_name', 'func_code_url'],\n",
            "    num_rows: 412178\n",
            "})\n",
            "def core_properties(self):\n",
            "        \"\"\"\n",
            "        Instance of |CoreProperties| holding the read/write Dublin Core\n",
            "        document properties for this presentation. Creates a default core\n",
            "        properties part if one is not present (not common).\n",
            "        \"\"\"\n",
            "        try:\n",
            "            return self.part_related_by(RT.CORE_PROPERTIES)\n",
            "        except KeyError:\n",
            "            core_props = CorePropertiesPart.default()\n",
            "            self.relate_to(core_props, RT.CORE_PROPERTIES)\n",
            "            return core_props\n"
          ]
        }
      ],
      "source": [
        "from datasets import load_dataset\n",
        "\n",
        "raw_datasets = load_dataset(\"code_search_net\", \"python\")\n",
        "print(\"dataset info: \\n\" , raw_datasets[\"train\"])\n",
        "\n",
        "print(raw_datasets[\"train\"][123456][\"whole_func_string\"])"
      ]
    },
    {
      "cell_type": "markdown",
      "metadata": {
        "id": "bFod658sJidT"
      },
      "source": [
        "There is both code and its description in docstring, hence we need to tokenize both in the dataset and the tokenizer need to be trained for both also.\n",
        "\n",
        "First we need to transform the dataset into a interator of list of texts, which is ( a list of list of texts ). Using lists of texts will enable our tokenizer to go faster (training on batches of texts instead of processing individual texts one by one). Using a Python generator, we can avoid Python loading anything into memory until it's actually necessary 🤗 Datasets does not load everything into RAM but stores the elements of the dataset on disk.\n",
        "\n",
        "The below line does not fetch any results as it is an generator object. The purpose of that is to avoid loading the whole data in the memory and instead laod when it is absolutely needed."
      ]
    },
    {
      "cell_type": "code",
      "execution_count": null,
      "metadata": {
        "id": "W2W-Ws-DKn_W"
      },
      "outputs": [],
      "source": [
        "def get_training_corpus():\n",
        "    return (\n",
        "        raw_datasets[\"train\"][i : i + 1000][\"whole_func_string\"]\n",
        "        for i in range(0, len(raw_datasets[\"train\"]), 1000))\n",
        "\n",
        "\n",
        "training_corpus = get_training_corpus()"
      ]
    },
    {
      "cell_type": "markdown",
      "metadata": {
        "id": "UUS7IqJZKyK3"
      },
      "source": [
        "**Training a new tokenizer**\n",
        "\n",
        "We don't need to train a tokenizer entirely from scratch instead we can load an existing tokenizer and train from that checkpoint. This way we don't need to specify the special tokens we want to ue.  We aim to just add new things to the existing vocabulary instead of creating one from scratch itself.\n",
        "\n",
        "- Note that `AutoTokenizer.train_new_from_iterator()` only works if the tokenizer you are using is a “fast” tokenizer\n"
      ]
    },
    {
      "cell_type": "code",
      "execution_count": null,
      "metadata": {
        "colab": {
          "base_uri": "https://localhost:8080/"
        },
        "id": "IfYzc9WOLfiD",
        "outputId": "76e3824b-1dcf-41b1-f2a3-70659e4e639f"
      },
      "outputs": [
        {
          "data": {
            "text/plain": [
              "['def',\n",
              " 'Ġadd',\n",
              " '_',\n",
              " 'n',\n",
              " 'umbers',\n",
              " '(',\n",
              " 'a',\n",
              " ',',\n",
              " 'Ġb',\n",
              " '):',\n",
              " 'Ċ',\n",
              " 'Ġ',\n",
              " 'Ġ',\n",
              " 'Ġ',\n",
              " 'Ġ\"\"\"',\n",
              " 'Add',\n",
              " 'Ġthe',\n",
              " 'Ġtwo',\n",
              " 'Ġnumbers',\n",
              " 'Ġ`',\n",
              " 'a',\n",
              " '`',\n",
              " 'Ġand',\n",
              " 'Ġ`',\n",
              " 'b',\n",
              " '`',\n",
              " '.\"',\n",
              " '\"\"',\n",
              " 'Ċ',\n",
              " 'Ġ',\n",
              " 'Ġ',\n",
              " 'Ġ',\n",
              " 'Ġreturn',\n",
              " 'Ġa',\n",
              " 'Ġ+',\n",
              " 'Ġb']"
            ]
          },
          "execution_count": 7,
          "metadata": {},
          "output_type": "execute_result"
        }
      ],
      "source": [
        "from transformers import AutoTokenizer\n",
        "\n",
        "old_tokenizer = AutoTokenizer.from_pretrained(\"gpt2\", device = \"auto\")\n",
        "\n",
        "example = '''def add_numbers(a, b):\n",
        "    \"\"\"Add the two numbers `a` and `b`.\"\"\"\n",
        "    return a + b'''\n",
        "\n",
        "tokens = old_tokenizer.tokenize(example)\n",
        "tokens"
      ]
    },
    {
      "cell_type": "markdown",
      "metadata": {
        "id": "zcEebuEo59ne"
      },
      "source": [
        "As you can see there is a lot if spaces and newline tokens , this is a problem as the code has a lot of intentations would result in a lot of tokens like that  like Ġ and Ċ.\n",
        "\n",
        "Here we again see the special symbols Ġ and Ċ that denote spaces and newlines, but we can also see that our tokenizer learned some tokens that are highly specific to a corpus of Python functions like the token `'def'`."
      ]
    },
    {
      "cell_type": "code",
      "execution_count": null,
      "metadata": {
        "colab": {
          "background_save": true
        },
        "id": "_CVzfdSyLsWT"
      },
      "outputs": [],
      "source": [
        "tokenizer = old_tokenizer.train_new_from_iterator(training_corpus, 52000)"
      ]
    },
    {
      "cell_type": "code",
      "execution_count": null,
      "metadata": {
        "colab": {
          "background_save": true
        },
        "id": "3oG4YG67L-gC",
        "outputId": "6a85c499-bd91-46e2-ed27-47bcad79a8d6"
      },
      "outputs": [
        {
          "name": "stdout",
          "output_type": "stream",
          "text": [
            "The new tokens \n",
            ": ['class', 'ĠLinear', 'Layer', '():', 'ĊĠĠĠ', 'Ġdef', 'Ġ__', 'init', '__(', 'self', ',', 'Ġinput', '_', 'size', ',', 'Ġoutput', '_', 'size', '):', 'ĊĠĠĠĠĠĠĠ', 'Ġself', '.', 'weight', 'Ġ=', 'Ġtorch', '.', 'randn', '(', 'input', '_', 'size', ',', 'Ġoutput', '_', 'size', ')', 'ĊĠĠĠĠĠĠĠ', 'Ġself', '.', 'bias', 'Ġ=', 'Ġtorch', '.', 'zeros', '(', 'output', '_', 'size', ')', 'ĊĊĠĠĠ', 'Ġdef', 'Ġ__', 'call', '__(', 'self', ',', 'Ġx', '):', 'ĊĠĠĠĠĠĠĠ', 'Ġreturn', 'Ġx', 'Ġ@', 'Ġself', '.', 'weights', 'Ġ+', 'Ġself', '.', 'bias', 'ĊĠĠĠĠ']\n"
          ]
        },
        {
          "data": {
            "text/plain": [
              "('code-search-net-tokenizer/tokenizer_config.json',\n",
              " 'code-search-net-tokenizer/special_tokens_map.json',\n",
              " 'code-search-net-tokenizer/vocab.json',\n",
              " 'code-search-net-tokenizer/merges.txt',\n",
              " 'code-search-net-tokenizer/added_tokens.json',\n",
              " 'code-search-net-tokenizer/tokenizer.json')"
            ]
          },
          "execution_count": 9,
          "metadata": {},
          "output_type": "execute_result"
        }
      ],
      "source": [
        "example = \"\"\"class LinearLayer():\n",
        "    def __init__(self, input_size, output_size):\n",
        "        self.weight = torch.randn(input_size, output_size)\n",
        "        self.bias = torch.zeros(output_size)\n",
        "\n",
        "    def __call__(self, x):\n",
        "        return x @ self.weights + self.bias\n",
        "    \"\"\"\n",
        "\n",
        "tokens = tokenizer.tokenize(example)\n",
        "print(\"The new tokens \\n:\", tokens)\n",
        "\n",
        "tokenizer.save_pretrained(\"code-search-net-tokenizer\")"
      ]
    },
    {
      "cell_type": "code",
      "source": [
        "tokens"
      ],
      "metadata": {
        "colab": {
          "base_uri": "https://localhost:8080/"
        },
        "id": "t4odQWmJkuEx",
        "outputId": "14106c66-c66b-40b1-d82b-8249b6b0888e"
      },
      "execution_count": null,
      "outputs": [
        {
          "output_type": "execute_result",
          "data": {
            "text/plain": [
              "['class',\n",
              " 'ĠLinear',\n",
              " 'Layer',\n",
              " '():',\n",
              " 'ĊĠĠĠ',\n",
              " 'Ġdef',\n",
              " 'Ġ__',\n",
              " 'init',\n",
              " '__(',\n",
              " 'self',\n",
              " ',',\n",
              " 'Ġinput',\n",
              " '_',\n",
              " 'size',\n",
              " ',',\n",
              " 'Ġoutput',\n",
              " '_',\n",
              " 'size',\n",
              " '):',\n",
              " 'ĊĠĠĠĠĠĠĠ',\n",
              " 'Ġself',\n",
              " '.',\n",
              " 'weight',\n",
              " 'Ġ=',\n",
              " 'Ġtorch',\n",
              " '.',\n",
              " 'randn',\n",
              " '(',\n",
              " 'input',\n",
              " '_',\n",
              " 'size',\n",
              " ',',\n",
              " 'Ġoutput',\n",
              " '_',\n",
              " 'size',\n",
              " ')',\n",
              " 'ĊĠĠĠĠĠĠĠ',\n",
              " 'Ġself',\n",
              " '.',\n",
              " 'bias',\n",
              " 'Ġ=',\n",
              " 'Ġtorch',\n",
              " '.',\n",
              " 'zeros',\n",
              " '(',\n",
              " 'output',\n",
              " '_',\n",
              " 'size',\n",
              " ')',\n",
              " 'ĊĊĠĠĠ',\n",
              " 'Ġdef',\n",
              " 'Ġ__',\n",
              " 'call',\n",
              " '__(',\n",
              " 'self',\n",
              " ',',\n",
              " 'Ġx',\n",
              " '):',\n",
              " 'ĊĠĠĠĠĠĠĠ',\n",
              " 'Ġreturn',\n",
              " 'Ġx',\n",
              " 'Ġ@',\n",
              " 'Ġself',\n",
              " '.',\n",
              " 'weights',\n",
              " 'Ġ+',\n",
              " 'Ġself',\n",
              " '.',\n",
              " 'bias',\n",
              " 'ĊĠĠĠĠ']"
            ]
          },
          "metadata": {},
          "execution_count": 10
        }
      ]
    },
    {
      "cell_type": "markdown",
      "metadata": {
        "id": "4TY3JVuqPU81"
      },
      "source": [
        "In addition to the token corresponding to an indentation, here we can also see a token for a double indentation: ĊĠĠĠĠĠĠĠ. The special Python words like class, init, call, self, and return are each tokenized as one token, and we can see that as well as splitting on _ and . the tokenizer correctly splits even camel-cased names: LinearLayer is tokenized as [\"ĠLinear\", \"Layer\"].\n",
        "\n",
        "### Fast Tokenizers\n",
        "Slow tokenizers are those written in Python inside the 🤗 Transformers library, while the fast versions are the ones provided by 🤗 Tokenizers, which are written in Rust. Tokenizer can do more than just enocode text into token ID and decode them back. To explore this more we try to reproduced **token-classification (NER)**  and even **question-answering** pipelines.\n",
        "\n",
        "The output of a tokenizer is just not a python Dict, instead it is a special `BatchEncoding` object. Which supports parallelization. Fast Tokenizers are not just fats but they also comes with a feature called *offset mapping*.\n",
        "\n",
        "- *offset mapping* means the tokenizer can always map the tokens to the original text it originated from and back (Mapping each word to the tokens it generated or mapping each character of the original text to the token it’s inside)\n"
      ]
    },
    {
      "cell_type": "code",
      "execution_count": null,
      "metadata": {
        "colab": {
          "base_uri": "https://localhost:8080/"
        },
        "id": "VFUWodsYPWaP",
        "outputId": "f2221e2b-3d32-409e-b7e7-01897e53efe2"
      },
      "outputs": [
        {
          "output_type": "stream",
          "name": "stdout",
          "text": [
            "<class 'transformers.tokenization_utils_base.BatchEncoding'>\n",
            "\n",
            "True\n",
            "\n",
            "The tokens : ['[CLS]', 'My', 'name', 'is', 'S', '##yl', '##va', '##in', 'and', 'I', 'work', 'at', 'Hu', '##gging', 'Face', 'in', 'Brooklyn', '.', '[SEP]']\n",
            "[None, 0, 1, 2, 3, 3, 3, 3, 4, 5, 6, 7, 8, 8, 9, 10, 11, 12, None]\n"
          ]
        }
      ],
      "source": [
        "from transformers import AutoTokenizer\n",
        "\n",
        "tokenizer = AutoTokenizer.from_pretrained(\"bert-base-cased\")\n",
        "example = \"My name is Sylvain and I work at Hugging Face in Brooklyn.\"\n",
        "encoding = tokenizer(example)\n",
        "print(type(encoding))\n",
        "print()\n",
        "print(tokenizer.is_fast)\n",
        "print()\n",
        "print(\"The tokens :\", encoding.tokens())\n",
        "print(encoding.word_ids())"
      ]
    },
    {
      "cell_type": "markdown",
      "metadata": {
        "id": "9XBOQxPcZAo5"
      },
      "source": [
        "# Inside the token-classification *pipeline*\n",
        "\n",
        "First we get a base result from the pretrained pipeline. The aggrigation strategy used is `simple` it only does an average of the scores. There are other strategies like `max`, `average` and `first`.\n",
        "\n",
        "Lastly, we can map any word or token to characters in the original text, and vice versa, via the `word_to_chars()` or `token_to_chars()` and `char_to_word()` or `char_to_token()` methods."
      ]
    },
    {
      "cell_type": "code",
      "execution_count": null,
      "metadata": {
        "colab": {
          "base_uri": "https://localhost:8080/"
        },
        "id": "96YtWdcCRqkD",
        "outputId": "cc8a91db-9122-4a05-c473-9d0253e21e27"
      },
      "outputs": [
        {
          "output_type": "stream",
          "name": "stderr",
          "text": [
            "Some weights of the model checkpoint at dbmdz/bert-large-cased-finetuned-conll03-english were not used when initializing BertForTokenClassification: ['bert.pooler.dense.bias', 'bert.pooler.dense.weight']\n",
            "- This IS expected if you are initializing BertForTokenClassification from the checkpoint of a model trained on another task or with another architecture (e.g. initializing a BertForSequenceClassification model from a BertForPreTraining model).\n",
            "- This IS NOT expected if you are initializing BertForTokenClassification from the checkpoint of a model that you expect to be exactly identical (initializing a BertForSequenceClassification model from a BertForSequenceClassification model).\n",
            "Some weights of the model checkpoint at dbmdz/bert-large-cased-finetuned-conll03-english were not used when initializing BertForTokenClassification: ['bert.pooler.dense.bias', 'bert.pooler.dense.weight']\n",
            "- This IS expected if you are initializing BertForTokenClassification from the checkpoint of a model trained on another task or with another architecture (e.g. initializing a BertForSequenceClassification model from a BertForPreTraining model).\n",
            "- This IS NOT expected if you are initializing BertForTokenClassification from the checkpoint of a model that you expect to be exactly identical (initializing a BertForSequenceClassification model from a BertForSequenceClassification model).\n"
          ]
        }
      ],
      "source": [
        "from transformers import pipeline\n",
        "import warnings\n",
        "warnings.filterwarnings(\"ignore\")\n",
        "\n",
        "token_classifier = pipeline(\"token-classification\",\n",
        "                            model = \"dbmdz/bert-large-cased-finetuned-conll03-english\")\n",
        "token_classifier_aggrigate = pipeline(\"token-classification\", aggregation_strategy=\"simple\",\n",
        "                                      model = \"dbmdz/bert-large-cased-finetuned-conll03-english\")"
      ]
    },
    {
      "cell_type": "code",
      "source": [
        "print(\"Aggrigate tokens :\\n\",token_classifier_aggrigate(\"My name is Sylvain and I work at Hugging Face in Brooklyn.\"))\n",
        "print(\"Individual scores :\\n\",token_classifier(\"My name is Sylvain and I work at Hugging Face in Brooklyn.\"))"
      ],
      "metadata": {
        "colab": {
          "base_uri": "https://localhost:8080/"
        },
        "id": "wzuwYTU-HgIg",
        "outputId": "2b932f72-b4df-4baf-ea05-1cd4f9d49512"
      },
      "execution_count": null,
      "outputs": [
        {
          "output_type": "stream",
          "name": "stdout",
          "text": [
            "Aggrigate tokens :\n",
            " [{'entity_group': 'PER', 'score': 0.9981694, 'word': 'Sylvain', 'start': 11, 'end': 18}, {'entity_group': 'ORG', 'score': 0.9796019, 'word': 'Hugging Face', 'start': 33, 'end': 45}, {'entity_group': 'LOC', 'score': 0.9932106, 'word': 'Brooklyn', 'start': 49, 'end': 57}]\n",
            "Individual scores :\n",
            " [{'entity': 'I-PER', 'score': 0.99938285, 'index': 4, 'word': 'S', 'start': 11, 'end': 12}, {'entity': 'I-PER', 'score': 0.99815494, 'index': 5, 'word': '##yl', 'start': 12, 'end': 14}, {'entity': 'I-PER', 'score': 0.99590707, 'index': 6, 'word': '##va', 'start': 14, 'end': 16}, {'entity': 'I-PER', 'score': 0.99923277, 'index': 7, 'word': '##in', 'start': 16, 'end': 18}, {'entity': 'I-ORG', 'score': 0.9738931, 'index': 12, 'word': 'Hu', 'start': 33, 'end': 35}, {'entity': 'I-ORG', 'score': 0.976115, 'index': 13, 'word': '##gging', 'start': 35, 'end': 40}, {'entity': 'I-ORG', 'score': 0.9887976, 'index': 14, 'word': 'Face', 'start': 41, 'end': 45}, {'entity': 'I-LOC', 'score': 0.9932106, 'index': 16, 'word': 'Brooklyn', 'start': 49, 'end': 57}]\n"
          ]
        }
      ]
    },
    {
      "cell_type": "code",
      "execution_count": null,
      "metadata": {
        "colab": {
          "base_uri": "https://localhost:8080/"
        },
        "id": "9JXSLvRNZGGq",
        "outputId": "bf0680f5-2981-46e7-9dfc-764fc6d582c5"
      },
      "outputs": [
        {
          "output_type": "stream",
          "name": "stderr",
          "text": [
            "Some weights of the model checkpoint at dbmdz/bert-large-cased-finetuned-conll03-english were not used when initializing BertForTokenClassification: ['bert.pooler.dense.bias', 'bert.pooler.dense.weight']\n",
            "- This IS expected if you are initializing BertForTokenClassification from the checkpoint of a model trained on another task or with another architecture (e.g. initializing a BertForSequenceClassification model from a BertForPreTraining model).\n",
            "- This IS NOT expected if you are initializing BertForTokenClassification from the checkpoint of a model that you expect to be exactly identical (initializing a BertForSequenceClassification model from a BertForSequenceClassification model).\n"
          ]
        }
      ],
      "source": [
        "from transformers import AutoTokenizer, AutoModelForTokenClassification\n",
        "\n",
        "model_checkpoint = \"dbmdz/bert-large-cased-finetuned-conll03-english\"\n",
        "tokenizer = AutoTokenizer.from_pretrained(model_checkpoint)\n",
        "model = AutoModelForTokenClassification.from_pretrained(model_checkpoint)"
      ]
    },
    {
      "cell_type": "code",
      "source": [
        "example = \"My name is Sylvain and I work at Hugging Face in Brooklyn.\"\n",
        "inputs = tokenizer(example, return_tensors=\"pt\")\n",
        "outputs = model(**inputs)\n",
        "\n",
        "print(\"Number of tokens :\")\n",
        "print(inputs[\"input_ids\"].shape)\n",
        "print(outputs.logits.shape)"
      ],
      "metadata": {
        "colab": {
          "base_uri": "https://localhost:8080/"
        },
        "id": "1nlZiKI1JFrb",
        "outputId": "4b8f3b0f-09de-4369-b8b0-420b1e2f1eb9"
      },
      "execution_count": null,
      "outputs": [
        {
          "output_type": "stream",
          "name": "stdout",
          "text": [
            "torch.Size([1, 19])\n",
            "torch.Size([1, 19, 9])\n"
          ]
        }
      ]
    },
    {
      "cell_type": "code",
      "source": [
        "model.config.id2label"
      ],
      "metadata": {
        "colab": {
          "base_uri": "https://localhost:8080/"
        },
        "id": "YWVOstzQKuJ7",
        "outputId": "03991815-a821-43d9-e96c-f735bf8ba5ca"
      },
      "execution_count": null,
      "outputs": [
        {
          "output_type": "execute_result",
          "data": {
            "text/plain": [
              "{0: 'O',\n",
              " 1: 'B-MISC',\n",
              " 2: 'I-MISC',\n",
              " 3: 'B-PER',\n",
              " 4: 'I-PER',\n",
              " 5: 'B-ORG',\n",
              " 6: 'I-ORG',\n",
              " 7: 'B-LOC',\n",
              " 8: 'I-LOC'}"
            ]
          },
          "metadata": {},
          "execution_count": 24
        }
      ]
    },
    {
      "cell_type": "markdown",
      "source": [
        "Since we're using AutoModelForTokenClassification we  logits for each token in the sequence ( 19 tokens ). The model has 9 different labels from 0-8 as shown above. Hence the shape `[1, 19, 9]`.\n",
        "\n",
        "- To convert these logits we need to use argmax in `torch`."
      ],
      "metadata": {
        "id": "C1m7pFxYJLad"
      }
    },
    {
      "cell_type": "code",
      "source": [
        "import torch\n",
        "\n",
        "probabilities = torch.nn.functional.softmax(outputs.logits, dim=-1)[0].tolist()\n",
        "predictions = outputs.logits.argmax(dim=-1)[0].tolist()\n",
        "print(predictions)"
      ],
      "metadata": {
        "colab": {
          "base_uri": "https://localhost:8080/"
        },
        "id": "ZqU4XmCMLAeu",
        "outputId": "5722ac8d-49fd-478e-da50-dae9d97385a6"
      },
      "execution_count": null,
      "outputs": [
        {
          "output_type": "stream",
          "name": "stdout",
          "text": [
            "[0, 0, 0, 0, 4, 4, 4, 4, 0, 0, 0, 0, 6, 6, 6, 0, 8, 0, 0]\n"
          ]
        }
      ]
    },
    {
      "cell_type": "code",
      "source": [
        "## We can reproduce the entire pipeline\n",
        "\n",
        "results = []\n",
        "inputs_with_offsets = tokenizer(example, return_offsets_mapping=True) # Offset mapping return start and end\n",
        "tokens = inputs_with_offsets.tokens()\n",
        "offsets = inputs_with_offsets[\"offset_mapping\"]\n",
        "\n",
        "for idx, pred in enumerate(predictions):\n",
        "    label = model.config.id2label[pred]\n",
        "    start, end = offsets[idx]\n",
        "    if label != \"O\":\n",
        "        results.append(\n",
        "            {\"entity\": label, \"score\": probabilities[idx][pred], \"word\": tokens[idx]})\n",
        "\n",
        "    print({\"entity\": label, \"score\": probabilities[idx][pred], \"word\": tokens[idx], \"start\": start, \"end\": end,})"
      ],
      "metadata": {
        "colab": {
          "base_uri": "https://localhost:8080/"
        },
        "id": "StvntsnJPCLZ",
        "outputId": "4eb3d8f8-dab7-429e-fa5f-fce4c6cc8220"
      },
      "execution_count": null,
      "outputs": [
        {
          "output_type": "stream",
          "name": "stdout",
          "text": [
            "{'entity': 'O', 'score': 0.9994322657585144, 'word': '[CLS]', 'start': 0, 'end': 0}\n",
            "{'entity': 'O', 'score': 0.9989631175994873, 'word': 'My', 'start': 0, 'end': 2}\n",
            "{'entity': 'O', 'score': 0.999708354473114, 'word': 'name', 'start': 3, 'end': 7}\n",
            "{'entity': 'O', 'score': 0.9998350143432617, 'word': 'is', 'start': 8, 'end': 10}\n",
            "{'entity': 'I-PER', 'score': 0.9993828535079956, 'word': 'S', 'start': 11, 'end': 12}\n",
            "{'entity': 'I-PER', 'score': 0.9981548190116882, 'word': '##yl', 'start': 12, 'end': 14}\n",
            "{'entity': 'I-PER', 'score': 0.995907187461853, 'word': '##va', 'start': 14, 'end': 16}\n",
            "{'entity': 'I-PER', 'score': 0.9992327690124512, 'word': '##in', 'start': 16, 'end': 18}\n",
            "{'entity': 'O', 'score': 0.999804675579071, 'word': 'and', 'start': 19, 'end': 22}\n",
            "{'entity': 'O', 'score': 0.9995046854019165, 'word': 'I', 'start': 23, 'end': 24}\n",
            "{'entity': 'O', 'score': 0.9996776580810547, 'word': 'work', 'start': 25, 'end': 29}\n",
            "{'entity': 'O', 'score': 0.999434769153595, 'word': 'at', 'start': 30, 'end': 32}\n",
            "{'entity': 'I-ORG', 'score': 0.9738931059837341, 'word': 'Hu', 'start': 33, 'end': 35}\n",
            "{'entity': 'I-ORG', 'score': 0.9761149883270264, 'word': '##gging', 'start': 35, 'end': 40}\n",
            "{'entity': 'I-ORG', 'score': 0.9887974858283997, 'word': 'Face', 'start': 41, 'end': 45}\n",
            "{'entity': 'O', 'score': 0.9995326995849609, 'word': 'in', 'start': 46, 'end': 48}\n",
            "{'entity': 'I-LOC', 'score': 0.99321049451828, 'word': 'Brooklyn', 'start': 49, 'end': 57}\n",
            "{'entity': 'O', 'score': 0.9994322657585144, 'word': '.', 'start': 57, 'end': 58}\n",
            "{'entity': 'O', 'score': 0.9994322657585144, 'word': '[SEP]', 'start': 0, 'end': 0}\n"
          ]
        }
      ]
    },
    {
      "cell_type": "markdown",
      "metadata": {
        "id": "NyYRBTb9V0Ta"
      },
      "source": [
        "The label 0 corrsponds to 'outside', tokens that are not in named entity. Then we have 2 types of labels for each named entiry staring with B and I . These represent the location of the tokens in the entity like BXXX - token is at begining of the entity XXX and IXXX - means token is inside the entity XXX.\n",
        "\n",
        "Although the label **'4-IPER' was the output of the model** , it is not wrong because the lables starting with B-in the IOB1 format (shown in blue) are only ever used to divide two neighboring entities of the same kind. Our model attributes the label I-PER to the S token because it was trained on a dataset in that format.\n",
        "\n",
        "![image.png](data:image/png;base64,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)\n",
        "\n",
        "**Grouping entities**\n",
        "\n",
        "Using the offsets to determine the start and end keys for each entity is handy, but that information isn’t strictly necessary, however, the offsets will save us a lot of messy code.\n",
        "\n",
        "For example, if we wanted to group together the tokens Hu, ##gging, and Face, we could make special rules that say the first two should be attached while removing the ##, and the Face should be added with a space since it does not begin with ## — but that would only work for this particular type of tokenizer (Sentence Pience or BPE ).\n",
        "\n",
        "With the offsets, all that custom code goes away: we just can take the span in the original text that begins with the first token and ends with the last token.\n",
        "\n",
        "*We can write custom code to group entities* - https://huggingface.co/learn/nlp-course/chapter6/3?fw=pt"
      ]
    },
    {
      "cell_type": "code",
      "source": [
        "example[33:45]"
      ],
      "metadata": {
        "colab": {
          "base_uri": "https://localhost:8080/",
          "height": 36
        },
        "id": "cuyW443TQQpo",
        "outputId": "9c6f404a-07a7-4d26-f140-c28096abf363"
      },
      "execution_count": null,
      "outputs": [
        {
          "output_type": "execute_result",
          "data": {
            "text/plain": [
              "'Hugging Face'"
            ],
            "application/vnd.google.colaboratory.intrinsic+json": {
              "type": "string"
            }
          },
          "metadata": {},
          "execution_count": 36
        }
      ]
    },
    {
      "cell_type": "markdown",
      "source": [
        "# Fast Tokenizer with Q/A pipeline.\n",
        "\n",
        "We'll see how to use off-set mapping in *Question answering*, by grabing the answer to the question at hand from the context, a bit like we did for the grouped entities in the previous section. *Unlike last pielines with small context, this pipeline one can handle very long contexts and tokens.*\n",
        "\n",
        "The models in this pipelines are trained to predict the index of the tokens strating the answer and the index of the token of the ending of the answer."
      ],
      "metadata": {
        "id": "UJr-2qDBQP_b"
      }
    },
    {
      "cell_type": "code",
      "execution_count": null,
      "metadata": {
        "colab": {
          "base_uri": "https://localhost:8080/",
          "height": 301,
          "referenced_widgets": [
            "79dc234d3f094650b99538100cf9b685",
            "34ff485603874f96853b0927bb04665d",
            "fd978f37c302450097d4839e9c4bc0b3",
            "01ca804380b9411c8662f72b9904806c",
            "02fb2c8c3e4443f09766aa3a054c132f",
            "669824c8717e4f5e9a0a7baab193bcf3",
            "666868674d7a4401b29891ab244d1412",
            "075ddd9a6473438cb64fc1c0b9bb7b47",
            "104615c185ae47978a637b9dff8bf9d2",
            "c66027105b4c4bcb89610eee064f3ce2",
            "6b0567a951dd41a686a8e108d8496f7f",
            "aaf3eea672714326b3ddbc4a9b08fba5",
            "46a8c43206f648b7960b2b49dbeba140",
            "21e9e231f6e84d56becfd1ed2d554fe8",
            "deb8be49902447d0a428d6591e6e987c",
            "efec8f9378524827bf8a061021944f0c",
            "cb282ed943c547d5a2d52d44fb1c7840",
            "0a6f0dbf954646969a1520ff5f092200",
            "067c22147d524b4ca9eb74b415b667bd",
            "660a6af9e1b64da694109cc2830135d2",
            "eff820319ace4ff4ac3b9025307bfa3a",
            "a272e0d4fb2949ef912cb082df537430",
            "12b826083eaa483b98375cc13c39303a",
            "76bd97ac82bf45a995c449f532acfa58",
            "29a11d9653ee49a0af797cb054cf06f1",
            "4931639a9c0d482695e4398d7d60069f",
            "d373234d967545d2a2be4f238bf40a07",
            "a081024131294afeb58556ff6b68d5e6",
            "ec90f9b6f9c04e32a738d28ecf651331",
            "fc19071600d24093af1f7a3f9ea8b300",
            "d22553483585472d92177aa5e2985411",
            "02820457e66546d78f20c6f25828ad4d",
            "2d788e5ea761455ba3722eeee7022cc3",
            "8a9357f8e29d4110b2ab8ade1c65f68a",
            "7c5ca00a1fba447caf908bc318608008",
            "ae0762d5d85444dba7116c61bec79ce9",
            "e7ae73776b7145b4afddf2b630e6678f",
            "b6ed2df5573343c0a993d8b060ea8398",
            "f21cbf69bbce40e295b03c520519f758",
            "ce931fae37444c44bfd66741aaff1458",
            "44ed5ea3347d4950804b53077509cea9",
            "17dec6e01a754c80beb48e327d6609e7",
            "0db8361f9a3249d7b2945c65236113f5",
            "e80623bf71a74e5f957bc946358b9407",
            "459354a40ee649609c1f6d04262f0889",
            "b79199096ef945549065b9fad035f4ca",
            "f56671a63cab460dbd18b72d9569949d",
            "27d9452b6b51491fa00585a26e5eb36d",
            "c8241efc45464eac9b726907e14bb474",
            "c282bb1107474dcc882d17a30bcb5014",
            "3e14a3cec4964b4c9b7c8d0913031694",
            "608666e4b9ad406892337ac1fcee3ca1",
            "93b27d4178234b6eaebcbb54bc26ac18",
            "9edc39c036ea412b9cd24f3fdb10c68c",
            "d7828fdf2d644cbea5b47d7a81df919e"
          ]
        },
        "id": "ABOtsdEsb-lW",
        "outputId": "be8725e4-b107-4446-fe34-fff8a7e861fc"
      },
      "outputs": [
        {
          "output_type": "stream",
          "name": "stderr",
          "text": [
            "No model was supplied, defaulted to distilbert/distilbert-base-cased-distilled-squad and revision 626af31 (https://huggingface.co/distilbert/distilbert-base-cased-distilled-squad).\n",
            "Using a pipeline without specifying a model name and revision in production is not recommended.\n"
          ]
        },
        {
          "output_type": "display_data",
          "data": {
            "text/plain": [
              "config.json:   0%|          | 0.00/473 [00:00<?, ?B/s]"
            ],
            "application/vnd.jupyter.widget-view+json": {
              "version_major": 2,
              "version_minor": 0,
              "model_id": "79dc234d3f094650b99538100cf9b685"
            }
          },
          "metadata": {}
        },
        {
          "output_type": "display_data",
          "data": {
            "text/plain": [
              "model.safetensors:   0%|          | 0.00/261M [00:00<?, ?B/s]"
            ],
            "application/vnd.jupyter.widget-view+json": {
              "version_major": 2,
              "version_minor": 0,
              "model_id": "aaf3eea672714326b3ddbc4a9b08fba5"
            }
          },
          "metadata": {}
        },
        {
          "output_type": "display_data",
          "data": {
            "text/plain": [
              "tokenizer_config.json:   0%|          | 0.00/49.0 [00:00<?, ?B/s]"
            ],
            "application/vnd.jupyter.widget-view+json": {
              "version_major": 2,
              "version_minor": 0,
              "model_id": "12b826083eaa483b98375cc13c39303a"
            }
          },
          "metadata": {}
        },
        {
          "output_type": "display_data",
          "data": {
            "text/plain": [
              "vocab.txt:   0%|          | 0.00/213k [00:00<?, ?B/s]"
            ],
            "application/vnd.jupyter.widget-view+json": {
              "version_major": 2,
              "version_minor": 0,
              "model_id": "8a9357f8e29d4110b2ab8ade1c65f68a"
            }
          },
          "metadata": {}
        },
        {
          "output_type": "display_data",
          "data": {
            "text/plain": [
              "tokenizer.json:   0%|          | 0.00/436k [00:00<?, ?B/s]"
            ],
            "application/vnd.jupyter.widget-view+json": {
              "version_major": 2,
              "version_minor": 0,
              "model_id": "459354a40ee649609c1f6d04262f0889"
            }
          },
          "metadata": {}
        },
        {
          "output_type": "execute_result",
          "data": {
            "text/plain": [
              "{'score': 0.9814445376396179,\n",
              " 'start': 406,\n",
              " 'end': 433,\n",
              " 'answer': 'Jax, PyTorch and TensorFlow'}"
            ]
          },
          "metadata": {},
          "execution_count": 37
        }
      ],
      "source": [
        "from transformers import pipeline\n",
        "question_answerer = pipeline(\"question-answering\")\n",
        "\n",
        "question = \"Which deep learning libraries back 🤗 Transformers?\"\n",
        "\n",
        "context = \"\"\"\n",
        "🤗 Transformers: State of the Art NLP\n",
        "\n",
        "🤗 Transformers provides thousands of pretrained models to perform tasks on texts such as classification, information extraction,\n",
        "question answering, summarization, translation, text generation and more in over 100 languages.\n",
        "Its aim is to make cutting-edge NLP easier to use for everyone.\n",
        "\n",
        "🤗 Transformers is backed by the three most popular deep learning libraries — Jax, PyTorch and TensorFlow — with a seamless integration\n",
        "between them. It's straightforward to train your models with one before loading them for inference with the other.\n",
        "\"\"\"\n",
        "question_answerer(question=question, context=context)"
      ]
    },
    {
      "cell_type": "code",
      "execution_count": null,
      "metadata": {
        "colab": {
          "base_uri": "https://localhost:8080/",
          "height": 194,
          "referenced_widgets": [
            "a478faae4fdb47f382c69d9fbb171467",
            "4c72d2171c00404abae9d623fdeaa1a6",
            "166a4a0575eb4497b759e3db0dc47349",
            "ebe5f8768a434c7caf89196e5088464b",
            "e531249163084163900126d2f897c291",
            "de1ba5797700498c894c8f5a2f613c86",
            "32d5b012edd4486e8a9f76f3bc6627f1",
            "c327ec613a70434abf18326caa40114e",
            "a78268b0278f4a64840592d376521d60",
            "570f44eeeaca4df2a47275ce2f275878",
            "78be1878fe6f4683aaaf6eec65c29276",
            "ef6631b73ceb47c1a363d70c36df0099",
            "06612e9bd6474144bd2319c94a1c637b",
            "414cc605f4844feca4a675e41d439014",
            "37e1cb662f8946d39725003575b0901a",
            "5329d9b93fc14ebc8ffddeb47b8f9979",
            "26b45171123e4543beb9ab72b32db336",
            "faf454578ddf42de828eaa071a307267",
            "c9f6fdb8236b4ceda7433c6dc10766b2",
            "62262aeb5a27416d904dcf3e8737690a",
            "b3610d9367384142a685aab3370c737d",
            "3514f82611c44618888a373dd781a952",
            "be80b9ded4414bcfb4e7c93b31efcc3c",
            "c6032f7781d7414391c30184cd73fb13",
            "fff82f8816d4426b80fa17b72db4b919",
            "19e4912ce9b74038b27ca2f820ad5f22",
            "355c3f6b538b494683105013d444fd08",
            "92a889db9bec42c3b8a151f40474ed19",
            "7ff8046fdb48473083417bd1aa7a1460",
            "600f8668513e4a688ed02d52fd5dfda0",
            "6b2146783f68492eba0b02b7198c0d06",
            "8a731efa94074c5a938a32eb84b79c0b",
            "7e1bcc4a5c24498d85c33b61f6fe704f",
            "38217f80b0af4aa3861a9b57b9a042f6",
            "d054c395c2524fd8b51cc4b8cfec3200",
            "82ffa0a0ca3b40a18ee3d34be2c53706",
            "9ff2092f1a4b487dbe7b823333a2d6f4",
            "8b6cdb862ed24cde9ba2f1c52bc83584",
            "40eaf8b23067410f813442b5ba15c110",
            "1bf1f84cd9fd4e3fa42891d3ebd4f9cc",
            "e56b30d5721d4ab2827dfb9b8d538c39",
            "cd488dbcf7c54614a14773f4fb66a431",
            "933d3ce96bd44a4a92559911886e69fd",
            "35a7f6b739f149f99cb2958d35aeeb19",
            "3374ffdcad16483ba192c0744588097c",
            "e88e55211ae440f7b00bd3afd603cbaa",
            "7ca2b1e62f2f4827927ef146bfc0a272",
            "8adc0eb956b44a45a38a820f02404101",
            "08ab597d0f57479da077b3560995ee55",
            "158d287783bd4279ac30908b75f83395",
            "5f553006f18a40109bcb1397926f8549",
            "73b9ffcdb36b44d3bff849889464b5ff",
            "d1e4776720fd4d33b29cbb98ecbef357",
            "06a27ac3ac454744bdcd86a9008dfe82",
            "f196783ac990440aba9db020ae5fa1c1"
          ]
        },
        "id": "AewQhl32WLC6",
        "outputId": "0f8db047-4e07-4a4f-eee4-b458cffd8468"
      },
      "outputs": [
        {
          "output_type": "display_data",
          "data": {
            "text/plain": [
              "tokenizer_config.json:   0%|          | 0.00/49.0 [00:00<?, ?B/s]"
            ],
            "application/vnd.jupyter.widget-view+json": {
              "version_major": 2,
              "version_minor": 0,
              "model_id": "a478faae4fdb47f382c69d9fbb171467"
            }
          },
          "metadata": {}
        },
        {
          "output_type": "display_data",
          "data": {
            "text/plain": [
              "config.json:   0%|          | 0.00/473 [00:00<?, ?B/s]"
            ],
            "application/vnd.jupyter.widget-view+json": {
              "version_major": 2,
              "version_minor": 0,
              "model_id": "ef6631b73ceb47c1a363d70c36df0099"
            }
          },
          "metadata": {}
        },
        {
          "output_type": "display_data",
          "data": {
            "text/plain": [
              "vocab.txt:   0%|          | 0.00/213k [00:00<?, ?B/s]"
            ],
            "application/vnd.jupyter.widget-view+json": {
              "version_major": 2,
              "version_minor": 0,
              "model_id": "be80b9ded4414bcfb4e7c93b31efcc3c"
            }
          },
          "metadata": {}
        },
        {
          "output_type": "display_data",
          "data": {
            "text/plain": [
              "tokenizer.json:   0%|          | 0.00/436k [00:00<?, ?B/s]"
            ],
            "application/vnd.jupyter.widget-view+json": {
              "version_major": 2,
              "version_minor": 0,
              "model_id": "38217f80b0af4aa3861a9b57b9a042f6"
            }
          },
          "metadata": {}
        },
        {
          "output_type": "display_data",
          "data": {
            "text/plain": [
              "model.safetensors:   0%|          | 0.00/261M [00:00<?, ?B/s]"
            ],
            "application/vnd.jupyter.widget-view+json": {
              "version_major": 2,
              "version_minor": 0,
              "model_id": "3374ffdcad16483ba192c0744588097c"
            }
          },
          "metadata": {}
        },
        {
          "output_type": "stream",
          "name": "stdout",
          "text": [
            "torch.Size([1, 130]) torch.Size([1, 130])\n"
          ]
        }
      ],
      "source": [
        "from transformers import AutoTokenizer, AutoModelForQuestionAnswering\n",
        "\n",
        "model_checkpoint = \"distilbert-base-cased-distilled-squad\"\n",
        "tokenizer = AutoTokenizer.from_pretrained(model_checkpoint)\n",
        "model = AutoModelForQuestionAnswering.from_pretrained(model_checkpoint)\n",
        "\n",
        "inputs = tokenizer(question, context, return_tensors=\"pt\")\n",
        "outputs = model(**inputs)\n",
        "\n",
        "start_logits = outputs.start_logits\n",
        "end_logits = outputs.end_logits\n",
        "print(start_logits.shape, end_logits.shape)"
      ]
    },
    {
      "cell_type": "markdown",
      "metadata": {
        "id": "QyDoOiGZaebg"
      },
      "source": [
        "Models for question answering work a little differently from the models we’ve seen up to now. The model has been trained to predict the index of the token starting the answer (here 21) and the index of the token where the answer ends (here 24). This is why those models don’t return one tensor of logits but two: one for the start token of the answer, and one for the end token of the answer.\n",
        "\n",
        "Now converting these logits into probabilities , before that we need to mask some indecies that are not part of the context.\n",
        "\n",
        "Our input is `[CLS] question [SEP] context [SEP]`. So we need to mask the tokens of the question as well as the [SEP] token. Since we will apply a softmax afterward, we just need to replace the logits we want to mask with a large negative number. Here, we use -10000:\n",
        "\n"
      ]
    },
    {
      "cell_type": "code",
      "execution_count": null,
      "metadata": {
        "id": "uT-6t4P5ZSuA"
      },
      "outputs": [],
      "source": [
        "import torch\n",
        "\n",
        "sequence_ids = inputs.sequence_ids()\n",
        "# Mask everything apart from the tokens of the context\n",
        "mask = [i != 1 for i in sequence_ids]\n",
        "# Unmask the [CLS] token\n",
        "mask[0] = False\n",
        "mask = torch.tensor(mask)[None]\n",
        "\n",
        "start_logits[mask] = -10000\n",
        "end_logits[mask] = -10000\n",
        "\n",
        "start_probabilities = torch.nn.functional.softmax(start_logits, dim=-1)[0]\n",
        "end_probabilities = torch.nn.functional.softmax(end_logits, dim=-1)[0]\n",
        "\n",
        "# “The answer starts at start_index” and “The answer ends at end_index”"
      ]
    },
    {
      "cell_type": "markdown",
      "metadata": {
        "id": "IdfzrVhz4CM4"
      },
      "source": [
        "At this stage, we could take the argmax of the start and end probabilities. We could just take the start and end probabilities but there is a catch, we might end up with **start_index** that is bigger than **end_index** (if start is bigger then we're traveling in reverse index). So we will compute probabilities of each possible `start_index` and `end_index` where `start_index <= end_index` then take the tuple `(start_index, end_index)` with the highest probability.\n",
        "\n",
        "Then we’ll mask the values where `start_index > end_index` by setting them to 0\n",
        "\n"
      ]
    },
    {
      "cell_type": "code",
      "execution_count": null,
      "metadata": {
        "colab": {
          "base_uri": "https://localhost:8080/"
        },
        "id": "5SXJ9MUB4MjB",
        "outputId": "658d6408-3872-4620-9aaa-b2fd21389bbf"
      },
      "outputs": [
        {
          "output_type": "stream",
          "name": "stdout",
          "text": [
            "Start index : 87\n",
            "End index : 98\n",
            "tensor(0.9814, grad_fn=<SelectBackward0>)\n"
          ]
        }
      ],
      "source": [
        "# First let’s compute all the possible products:\n",
        "scores = start_probabilities[:, None] * end_probabilities[None, :]\n",
        "# Then we’ll mask the values where start_index > end_index by setting them to 0\n",
        "scores = torch.triu(scores)\n",
        "#The torch.triu() function returns the upper triangular part of the 2D tensor\n",
        "\n",
        "max_index = scores.argmax().item()\n",
        "start_index = max_index // scores.shape[1]\n",
        "end_index = max_index % scores.shape[1]\n",
        "# use the floor division // and modulus % operations to get the start_index and end_index:\n",
        "print(\"Start index :\", start_index)\n",
        "print(\"End index :\", end_index)\n",
        "print(scores[start_index, end_index])"
      ]
    },
    {
      "cell_type": "markdown",
      "metadata": {
        "id": "_tCSaPUO5Eda"
      },
      "source": [
        "We have the start_index and end_index of the answer in terms of tokens, so now we just need to convert to the character indices in the context. This is where the offsets will be super useful. We can grab them and use them like we did in the token classification task:"
      ]
    },
    {
      "cell_type": "code",
      "execution_count": null,
      "metadata": {
        "colab": {
          "base_uri": "https://localhost:8080/"
        },
        "id": "H-rrrULW5Ev3",
        "outputId": "5321f91f-548b-4a3b-dfaf-09c28569c3b0"
      },
      "outputs": [
        {
          "output_type": "stream",
          "name": "stdout",
          "text": [
            "Jax, PyTorch and TensorFlow\n",
            "{'answer': 'Jax, PyTorch and TensorFlow', 'start': 406, 'end': 433, 'score': tensor(0.9814, grad_fn=<SelectBackward0>)}\n",
            "130\n"
          ]
        }
      ],
      "source": [
        "inputs_with_offsets = tokenizer(question, context, return_offsets_mapping=True)\n",
        "offsets = inputs_with_offsets[\"offset_mapping\"]\n",
        "\n",
        "start_char, _ = offsets[start_index]\n",
        "_, end_char = offsets[end_index]\n",
        "answer = context[start_char:end_char]\n",
        "\n",
        "print(answer)\n",
        "\n",
        "result = {\n",
        "    \"answer\": answer,\n",
        "    \"start\": start_char,\n",
        "    \"end\": end_char,\n",
        "    \"score\": scores[start_index, end_index]}\n",
        "\n",
        "print(result)\n",
        "\n",
        "inputs = tokenizer(question, context)\n",
        "print(len(inputs[\"input_ids\"]))"
      ]
    },
    {
      "cell_type": "markdown",
      "metadata": {
        "id": "cReMGc8S7-ce"
      },
      "source": [
        "**Handling long contexts**\n",
        "\n",
        "If we tokenize our inputs to maximum length then there is a very high risk of losing context, our answer might be at the end of the context too.\n",
        "\n",
        "TO fix this the question answer pipeline offer us 2 strategy:\n",
        "\n",
        "- One is to use the `only_second` truncation. Although this is not the solution.\n",
        "\n",
        "```inputs = tokenizer(question, long_context, max_length=384, truncation=\"only_second\")```\n",
        "\n",
        "- The solution is to split the context into smaller chunks specifying the maximum length. To make sure we don’t split the context at exactly the wrong place to make it possible to find the answer."
      ]
    },
    {
      "cell_type": "code",
      "execution_count": null,
      "metadata": {
        "colab": {
          "base_uri": "https://localhost:8080/"
        },
        "id": "HJTgVxC85_Uo",
        "outputId": "e03c35fa-27dc-4acc-a3c5-bd1c2ee5bb0e"
      },
      "outputs": [
        {
          "output_type": "stream",
          "name": "stdout",
          "text": [
            "[CLS] This sentence is not [SEP]\n",
            "[CLS] is not too long [SEP]\n",
            "[CLS] too long but we [SEP]\n",
            "[CLS] but we are going [SEP]\n",
            "[CLS] are going to split [SEP]\n",
            "[CLS] to split it anyway [SEP]\n",
            "[CLS] it anyway. But [SEP]\n",
            "[CLS]. But it is [SEP]\n",
            "[CLS] it is fineee [SEP]\n"
          ]
        }
      ],
      "source": [
        "sentence = \"This sentence is not too long but we are going to split it anyway. But it is fineee\"\n",
        "inputs = tokenizer(sentence, truncation=True, return_overflowing_tokens=True, max_length=6, stride=2)\n",
        "\n",
        "for ids in inputs[\"input_ids\"]:\n",
        "    print(tokenizer.decode(ids))"
      ]
    },
    {
      "cell_type": "code",
      "execution_count": null,
      "metadata": {
        "colab": {
          "base_uri": "https://localhost:8080/"
        },
        "id": "3jxh2m6j8v4l",
        "outputId": "0aa1796e-65ee-4364-c1f8-0db9b720d766"
      },
      "outputs": [
        {
          "output_type": "stream",
          "name": "stdout",
          "text": [
            "dict_keys(['input_ids', 'attention_mask', 'overflow_to_sample_mapping'])\n",
            "[0, 0, 0, 0, 0, 0, 0, 0, 0]\n"
          ]
        }
      ],
      "source": [
        "print(inputs.keys())\n",
        "#The last key, overflow_to_sample_mapping, is a map that tells us which sentence each of the results corresponds to\n",
        "print(inputs[\"overflow_to_sample_mapping\"])"
      ]
    },
    {
      "cell_type": "code",
      "execution_count": null,
      "metadata": {
        "colab": {
          "base_uri": "https://localhost:8080/"
        },
        "id": "MoE1D_k681oo",
        "outputId": "b289e56b-8f2c-426c-9e20-8ea8ddc01b37"
      },
      "outputs": [
        {
          "output_type": "stream",
          "name": "stdout",
          "text": [
            "[0, 0, 0, 0, 0, 0, 0, 1, 1, 1, 1]\n"
          ]
        }
      ],
      "source": [
        "sentences = [\n",
        "    \"This sentence is not too long but we are going to split it anyway.\",\n",
        "    \"This sentence is shorter but will still get split.\",]\n",
        "inputs = tokenizer(\n",
        "    sentences, truncation=True, return_overflowing_tokens=True, max_length=6, stride=2)\n",
        "\n",
        "print(inputs[\"overflow_to_sample_mapping\"])"
      ]
    },
    {
      "cell_type": "markdown",
      "source": [
        "In the case of long context, the pipeline for `question-answering` usually holds a `max_length` of 384 and `stride` 128 by default as it has been pre-trained like that although we can set it. Thus we'll use those params and also padding too.\n",
        "\n",
        "- These inputs  will contain the input IDs and attention masks the model expects, as well as the offsets and the `overflow_to_sample_mapping`. Since the model does not need these we'll pop them out.\n"
      ],
      "metadata": {
        "id": "RcCoSEGvt0Ny"
      }
    },
    {
      "cell_type": "code",
      "source": [
        "long_context = \"\"\"\n",
        "🤗 Transformers: State of the Art NLP\n",
        "\n",
        "🤗 Transformers provides thousands of pretrained models to perform tasks on texts such as classification, information extraction,\n",
        "question answering, summarization, translation, text generation and more in over 100 languages.\n",
        "Its aim is to make cutting-edge NLP easier to use for everyone.\n",
        "\n",
        "🤗 Transformers provides APIs to quickly download and use those pretrained models on a given text, fine-tune them on your own datasets and\n",
        "then share them with the community on our model hub. At the same time, each python module defining an architecture is fully standalone and\n",
        "can be modified to enable quick research experiments.\n",
        "\n",
        "Why should I use transformers?\n",
        "\n",
        "1. Easy-to-use state-of-the-art models:\n",
        "  - High performance on NLU and NLG tasks.\n",
        "  - Low barrier to entry for educators and practitioners.\n",
        "  - Few user-facing abstractions with just three classes to learn.\n",
        "  - A unified API for using all our pretrained models.\n",
        "  - Lower compute costs, smaller carbon footprint:\n",
        "\n",
        "2. Researchers can share trained models instead of always retraining.\n",
        "  - Practitioners can reduce compute time and production costs.\n",
        "  - Dozens of architectures with over 10,000 pretrained models, some in more than 100 languages.\n",
        "\n",
        "3. Choose the right framework for every part of a model's lifetime:\n",
        "  - Train state-of-the-art models in 3 lines of code.\n",
        "  - Move a single model between TF2.0/PyTorch frameworks at will.\n",
        "  - Seamlessly pick the right framework for training, evaluation and production.\n",
        "\n",
        "4. Easily customize a model or an example to your needs:\n",
        "  - We provide examples for each architecture to reproduce the results published by its original authors.\n",
        "  - Model internals are exposed as consistently as possible.\n",
        "  - Model files can be used independently of the library for quick experiments.\n",
        "\n",
        "🤗 Transformers is backed by the three most popular deep learning libraries — Jax, PyTorch and TensorFlow — with a seamless integration\n",
        "between them. It's straightforward to train your models with one before loading them for inference with the other.\n",
        "\"\"\"\n",
        "question_answerer(question=question, context=long_context)"
      ],
      "metadata": {
        "colab": {
          "base_uri": "https://localhost:8080/"
        },
        "id": "SqrvHgf-wjJi",
        "outputId": "a0250508-b8e0-420b-87d3-a798d121136f"
      },
      "execution_count": null,
      "outputs": [
        {
          "output_type": "execute_result",
          "data": {
            "text/plain": [
              "{'score': 0.9714871048927307,\n",
              " 'start': 1892,\n",
              " 'end': 1919,\n",
              " 'answer': 'Jax, PyTorch and TensorFlow'}"
            ]
          },
          "metadata": {},
          "execution_count": 62
        }
      ]
    },
    {
      "cell_type": "code",
      "source": [
        "inputs = tokenizer(\n",
        "    question,\n",
        "    long_context,\n",
        "    stride=128,\n",
        "    max_length=384,\n",
        "    padding=\"longest\",\n",
        "    truncation=\"only_second\",\n",
        "    return_overflowing_tokens=True,\n",
        "    return_offsets_mapping=True,)\n",
        "\n",
        "# popping out the things the model does not need.\n",
        "_ = inputs.pop(\"overflow_to_sample_mapping\")\n",
        "offsets = inputs.pop(\"offset_mapping\")\n",
        "\n",
        "inputs = inputs.convert_to_tensors(\"pt\")\n",
        "print(inputs[\"input_ids\"].shape)\n",
        "\n",
        "outputs = model(**inputs)\n",
        "start_logits = outputs.start_logits\n",
        "end_logits = outputs.end_logits\n",
        "print(start_logits.shape, end_logits.shape)\n",
        "\n",
        "# Like before, we first mask the tokens that are not part of the context before taking the softmax.\n",
        "sequence_ids = inputs.sequence_ids()\n",
        "# Mask everything apart from the tokens of the context\n",
        "mask = [i != 1 for i in sequence_ids]\n",
        "# Unmask the [CLS] token\n",
        "mask[0] = False\n",
        "# Mask all the [PAD] tokens\n",
        "mask = torch.logical_or(torch.tensor(mask)[None], (inputs[\"attention_mask\"] == 0))\n",
        "\n",
        "start_logits[mask] = -10000\n",
        "end_logits[mask] = -10000\n",
        "\n",
        "#Then we can use the softmax to convert our logits to probabilities:\n",
        "start_probabilities = torch.nn.functional.softmax(start_logits, dim=-1)\n",
        "end_probabilities = torch.nn.functional.softmax(end_logits, dim=-1)\n",
        "\n",
        "candidates = []\n",
        "for start_probs, end_probs in zip(start_probabilities, end_probabilities):\n",
        "    scores = start_probs[:, None] * end_probs[None, :]\n",
        "    idx = torch.triu(scores).argmax().item()\n",
        "\n",
        "    start_idx = idx // scores.shape[1]\n",
        "    end_idx = idx % scores.shape[1]\n",
        "    score = scores[start_idx, end_idx].item()\n",
        "    candidates.append((start_idx, end_idx, score))\n",
        "\n",
        "print(candidates)"
      ],
      "metadata": {
        "colab": {
          "base_uri": "https://localhost:8080/"
        },
        "id": "7YfGQTdUsS1X",
        "outputId": "13ac100f-0805-4897-ebf1-ab90f6b00b84"
      },
      "execution_count": null,
      "outputs": [
        {
          "output_type": "stream",
          "name": "stdout",
          "text": [
            "torch.Size([2, 384])\n",
            "torch.Size([2, 384]) torch.Size([2, 384])\n",
            "[(0, 18, 0.33867067098617554), (173, 184, 0.9714868664741516)]\n"
          ]
        }
      ]
    },
    {
      "cell_type": "markdown",
      "source": [
        "Those two candidates correspond to the best answers the model was able to find in each chunk. The model is way more confident the right answer is in the second part (which is a good sign!)."
      ],
      "metadata": {
        "id": "N8tqIr79xCSD"
      }
    },
    {
      "cell_type": "markdown",
      "metadata": {
        "id": "om6-VF29-kmx"
      },
      "source": [
        "# Normalization and Pre-Tokenization.\n",
        "\n",
        "![image.png](data:image/png;base64,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)\n",
        "\n",
        "Normalization operation is done based on certain rules so that we remove noise that is not usefull for learning in the model. Some normalization can be very harmful if not adapted to the corpus properly!!!\n",
        "\n",
        "\n",
        "The normalization step involves some general cleanup, such as removing needless whitespace, lowercasing, and/or removing accents."
      ]
    },
    {
      "cell_type": "code",
      "execution_count": null,
      "metadata": {
        "colab": {
          "base_uri": "https://localhost:8080/"
        },
        "id": "29ceXr7q9CHB",
        "outputId": "5968bcd0-37a2-4e24-e6e9-59fa848d945e"
      },
      "outputs": [
        {
          "output_type": "stream",
          "name": "stdout",
          "text": [
            "<class 'tokenizers.Tokenizer'>\n",
            "hello how are u? i have a balloon\n"
          ]
        }
      ],
      "source": [
        "from transformers import AutoTokenizer\n",
        "\n",
        "tokenizer = AutoTokenizer.from_pretrained(\"bert-base-uncased\")\n",
        "\n",
        "print(type(tokenizer.backend_tokenizer))\n",
        "print(tokenizer.backend_tokenizer.normalizer.normalize_str(\"Héllò hôw are ü? I havé a ballòòn\"))"
      ]
    },
    {
      "cell_type": "markdown",
      "metadata": {
        "id": "F3i4u_DnEZ9T"
      },
      "source": [
        "Tokenizers cannot be trained on raw texts instead it needs to be split into small entities first like words. Tokenizer can simply split a raw text into words on whitespace and punctuation."
      ]
    },
    {
      "cell_type": "code",
      "execution_count": null,
      "metadata": {
        "colab": {
          "base_uri": "https://localhost:8080/"
        },
        "id": "eEiSdJ2mBV3d",
        "outputId": "3a5626a8-bcc6-4b2a-f45b-81ecacdf91b3"
      },
      "outputs": [
        {
          "output_type": "execute_result",
          "data": {
            "text/plain": [
              "[('Hello', (0, 5)),\n",
              " (',', (5, 6)),\n",
              " ('how', (7, 10)),\n",
              " ('are', (11, 14)),\n",
              " ('you', (16, 19)),\n",
              " ('?', (19, 20))]"
            ]
          },
          "metadata": {},
          "execution_count": 68
        }
      ],
      "source": [
        "tokenizer.backend_tokenizer.pre_tokenizer.pre_tokenize_str(\"Hello, how are  you?\")"
      ]
    },
    {
      "cell_type": "markdown",
      "source": [
        "Notice how the tokenizer is already keeping track of the offsets, which is how it can give us the offset mapping we used in the previous section. Here the tokenizer ignores the two spaces and replaces them with just one, but the offset jumps between are and you to account for that.\n",
        "\n",
        "Since we’re using a BERT tokenizer, the pre-tokenization involves splitting on whitespace and punctuation. Other tokenizers can have different rules for this step. For example, if we use the GPT-2 tokenizer:"
      ],
      "metadata": {
        "id": "Z0wZHqeJ44Il"
      }
    },
    {
      "cell_type": "code",
      "source": [
        "tokenizer = AutoTokenizer.from_pretrained(\"gpt2\")\n",
        "tokenizer.backend_tokenizer.pre_tokenizer.pre_tokenize_str(\"Hello, how are  you?\")"
      ],
      "metadata": {
        "colab": {
          "base_uri": "https://localhost:8080/"
        },
        "id": "Qs3hWErm45wS",
        "outputId": "6913bace-d9ca-454b-de5e-7c0370eb5d82"
      },
      "execution_count": null,
      "outputs": [
        {
          "output_type": "execute_result",
          "data": {
            "text/plain": [
              "[('Hello', (0, 5)),\n",
              " (',', (5, 6)),\n",
              " ('Ġhow', (6, 10)),\n",
              " ('Ġare', (10, 14)),\n",
              " ('Ġ', (14, 15)),\n",
              " ('Ġyou', (15, 19)),\n",
              " ('?', (19, 20))]"
            ]
          },
          "metadata": {},
          "execution_count": 70
        }
      ]
    },
    {
      "cell_type": "markdown",
      "metadata": {
        "id": "ftQZx5WmFgHB"
      },
      "source": [
        "# Algorithms\n",
        "\n",
        "![image.png](data:image/png;base64,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)\n",
        "\n",
        "# Byte-Pair Encoding tokenization\n",
        "\n",
        "The idea of BPE was proposed as a text compression algorithm at first. BPE starts with an initial vocabulary and then increase its size accordingly.\n",
        "\n",
        "- BPE training starts by computing the unique set of words used in the corpus (after the normalization and pre-tokenization steps are completed) at the very least, and probably some Unicode characters as well.\n",
        "\n",
        "- At any step during the tokenizer training, the BPE algorithm will search for the most frequent pair of existing tokens (by “pair,” here we mean two consecutive tokens in a word). That most frequent pair is the one that will be merged, and we rinse and repeat for the next step.\n",
        "\n",
        "- In real world cases some tokenizers might replace stuff like emojis into `ukn` tokens that's why these models fail in NLP tasks.\n",
        "\n",
        "- The GPT-2 and RoBERTa tokenizers (which are pretty similar) have a clever way to deal with this: they don’t look at words as being written with Unicode characters, but with bytes. This way the base vocabulary has a small size (256), but has every character you can think and not end up being converted to the unknown token. This trick is called **byte-level BPE.**\n",
        "\n",
        "- After getting this base vocabulary, we add new tokens until the desired vocabulary size is reached by learning merges rules\n",
        "-  which are rules to merge two elements of the existing vocabulary together into a new one. So, at the beginning these merges will create tokens with two characters, and then, as training progresses, longer subwords.\n",
        "\n",
        "**Tokenization follows the training process closely**\n",
        "\n",
        "\n",
        "1.   Normalization\n",
        "2.   Pre-tokenization\n",
        "3.   Splitting the words into individual characters\n",
        "4.   Applying the merge rules learned in order on those splits\n",
        "\n",
        "\n",
        "For example the word \"bug\" will be tokenized as [\"b\", \"ug\"]. \"mug\", however, will be tokenized as [\"[UNK]\", \"ug\"] since the letter \"m\" was not in the base vocabulary.\n",
        "\n",
        "\n",
        "**Implementing BPE**\n",
        "\n",
        "This implementation would not work in large corpus , this is just for understanding of the working concepts. First we'll take some sentence which will be treated as a corpus."
      ]
    },
    {
      "cell_type": "code",
      "execution_count": null,
      "metadata": {
        "id": "UH9UMcr9nLuV"
      },
      "outputs": [],
      "source": [
        "corpus = [\n",
        "    \"This is the Hugging Face Course.\",\n",
        "    \"This chapter is about tokenization.\",\n",
        "    \"This section shows several tokenizer algorithms.\",\n",
        "    \"Hopefully, you will be able to understand how they are trained and generate tokens.\",\n",
        "]"
      ]
    },
    {
      "cell_type": "markdown",
      "metadata": {
        "id": "PHVmsaTnqbN7"
      },
      "source": [
        "Next, we need to pre-tokenize that corpus into words. Since we are replicating a BPE tokenizer (like GPT-2), we will use the gpt2 tokenizer for the pre-tokenization:\n",
        "\n",
        "and also we compute the frequencies of each word in the corpus as we do the pre-tokenization:"
      ]
    },
    {
      "cell_type": "code",
      "execution_count": null,
      "metadata": {
        "colab": {
          "base_uri": "https://localhost:8080/"
        },
        "id": "EvZevH7sqbhC",
        "outputId": "edae39df-9a48-4b69-c704-dce27c51d904"
      },
      "outputs": [
        {
          "output_type": "stream",
          "name": "stdout",
          "text": [
            "defaultdict(<class 'int'>, {'This': 3, 'Ġis': 2, 'Ġthe': 1, 'ĠHugging': 1, 'ĠFace': 1, 'ĠCourse': 1, '.': 4, 'Ġchapter': 1, 'Ġabout': 1, 'Ġtokenization': 1, 'Ġsection': 1, 'Ġshows': 1, 'Ġseveral': 1, 'Ġtokenizer': 1, 'Ġalgorithms': 1, 'Hopefully': 1, ',': 1, 'Ġyou': 1, 'Ġwill': 1, 'Ġbe': 1, 'Ġable': 1, 'Ġto': 1, 'Ġunderstand': 1, 'Ġhow': 1, 'Ġthey': 1, 'Ġare': 1, 'Ġtrained': 1, 'Ġand': 1, 'Ġgenerate': 1, 'Ġtokens': 1})\n"
          ]
        }
      ],
      "source": [
        "from transformers import AutoTokenizer\n",
        "from collections import defaultdict\n",
        "\n",
        "tokenizer = AutoTokenizer.from_pretrained(\"gpt2\")\n",
        "word_freqs = defaultdict(int)\n",
        "\n",
        "# we compute the frequencies of each word in the corpus as we do the pre-tokenization:\n",
        "for text in corpus:\n",
        "    words_with_offsets = tokenizer.backend_tokenizer.pre_tokenizer.pre_tokenize_str(text)\n",
        "    new_words = [word for word, offset in words_with_offsets]\n",
        "    for word in new_words:\n",
        "        word_freqs[word] += 1\n",
        "\n",
        "print(word_freqs)"
      ]
    },
    {
      "cell_type": "markdown",
      "metadata": {
        "id": "V1NCRex5qqUA"
      },
      "source": [
        "- The next step is to compute the base vocabulary, formed by all the characters used in the corpus:\n",
        "\n",
        "- We also add the special tokens used by the model at the beginning of that vocabulary. In the case of GPT-2, the only special token is \"<|endoftext|>\"\n",
        "\n",
        "- We now need to split each word into individual characters, to be able to start training:"
      ]
    },
    {
      "cell_type": "code",
      "execution_count": null,
      "metadata": {
        "colab": {
          "base_uri": "https://localhost:8080/"
        },
        "id": "9GIXf_mSqdI0",
        "outputId": "9e1ca278-c49c-40cc-a409-3ffbfce29dbf"
      },
      "outputs": [
        {
          "name": "stdout",
          "output_type": "stream",
          "text": [
            "[',', '.', 'C', 'F', 'H', 'T', 'a', 'b', 'c', 'd', 'e', 'f', 'g', 'h', 'i', 'k', 'l', 'm', 'n', 'o', 'p', 'r', 's', 't', 'u', 'v', 'w', 'y', 'z', 'Ġ']\n"
          ]
        }
      ],
      "source": [
        "# The next step is to compute the base vocabulary, formed by all the characters used in the corpus:\n",
        "alphabet = []\n",
        "for word in word_freqs.keys():\n",
        "    for letter in word:\n",
        "        if letter not in alphabet:\n",
        "            alphabet.append(letter)\n",
        "alphabet.sort()\n",
        "print(alphabet)\n",
        "\n",
        "vocab = [\"<|endoftext|>\"] + alphabet.copy()\n",
        "\n",
        "splits = {word: [c for c in word] for word in word_freqs.keys()}\n",
        "\n",
        "# finding the most frequent pais\n",
        "best_pair = \"\"\n",
        "max_freq = None\n",
        "\n",
        "for pair, freq in pair_freqs.items():\n",
        "    if max_freq is None or max_freq < freq:\n",
        "        best_pair = pair\n",
        "        max_freq = freq\n",
        "\n",
        "print(best_pair, max_freq)"
      ]
    },
    {
      "cell_type": "markdown",
      "metadata": {
        "id": "vhScdyZjrXdw"
      },
      "source": [
        "As per the rules the first merge to learn is ('Ġ', 't') -> 'Ġt', and we add 'Ġt' to the vocabulary:\n",
        "\n",
        "To continue, we need to apply that merge in our splits dictionary. Let’s write another function for this:\n",
        "\n",
        "\n"
      ]
    },
    {
      "cell_type": "code",
      "execution_count": null,
      "metadata": {
        "colab": {
          "base_uri": "https://localhost:8080/"
        },
        "id": "Rr2TvP5JrTkQ",
        "outputId": "b834720d-ebf3-49bc-ddf3-dc51ef66277b"
      },
      "outputs": [
        {
          "name": "stdout",
          "output_type": "stream",
          "text": [
            "['Ġt', 'r', 'a', 'i', 'n', 'e', 'd']\n"
          ]
        }
      ],
      "source": [
        "merges = {(\"Ġ\", \"t\"): \"Ġt\"}\n",
        "vocab.append(\"Ġt\")\n",
        "\n",
        "def merge_pair(a, b, splits):\n",
        "    for word in word_freqs:\n",
        "        split = splits[word]\n",
        "        if len(split) == 1:\n",
        "            continue\n",
        "\n",
        "        i = 0\n",
        "        while i < len(split) - 1:\n",
        "            if split[i] == a and split[i + 1] == b:\n",
        "                split = split[:i] + [a + b] + split[i + 2 :]\n",
        "            else:\n",
        "                i += 1\n",
        "        splits[word] = split\n",
        "    return splits\n",
        "\n",
        "splits = merge_pair(\"Ġ\", \"t\", splits)\n",
        "print(splits[\"Ġtrained\"])"
      ]
    },
    {
      "cell_type": "markdown",
      "metadata": {
        "id": "jbM_Z1dRrpA6"
      },
      "source": [
        "Now we have everything we need to loop until we have learned all the merges we want. Let’s aim for a vocab size of 50:\n",
        "\n"
      ]
    },
    {
      "cell_type": "code",
      "execution_count": null,
      "metadata": {
        "colab": {
          "base_uri": "https://localhost:8080/"
        },
        "id": "El6odNbErhxf",
        "outputId": "86a9474b-74c6-4769-8a30-c872013e250a"
      },
      "outputs": [
        {
          "name": "stdout",
          "output_type": "stream",
          "text": [
            "{('Ġ', 't'): 'Ġt', ('i', 's'): 'is', ('e', 'r'): 'er', ('Ġ', 'a'): 'Ġa', ('Ġt', 'o'): 'Ġto', ('e', 'n'): 'en', ('T', 'h'): 'Th', ('Th', 'is'): 'This', ('o', 'u'): 'ou', ('s', 'e'): 'se', ('Ġto', 'k'): 'Ġtok', ('Ġtok', 'en'): 'Ġtoken', ('n', 'd'): 'nd', ('Ġ', 'is'): 'Ġis', ('Ġt', 'h'): 'Ġth', ('Ġth', 'e'): 'Ġthe', ('i', 'n'): 'in', ('Ġa', 'b'): 'Ġab'}\n"
          ]
        }
      ],
      "source": [
        "vocab_size = 50\n",
        "\n",
        "while len(vocab) < vocab_size:\n",
        "    pair_freqs = compute_pair_freqs(splits)\n",
        "    best_pair = \"\"\n",
        "    max_freq = None\n",
        "    for pair, freq in pair_freqs.items():\n",
        "        if max_freq is None or max_freq < freq:\n",
        "            best_pair = pair\n",
        "            max_freq = freq\n",
        "    splits = merge_pair(*best_pair, splits)\n",
        "    merges[best_pair] = best_pair[0] + best_pair[1]\n",
        "    vocab.append(best_pair[0] + best_pair[1])\n",
        "\n",
        "print(merges)"
      ]
    },
    {
      "cell_type": "markdown",
      "metadata": {
        "id": "SiLSlKk5rwCs"
      },
      "source": [
        "To tokenize a new text, we pre-tokenize it, split it, then apply all the merge rules learned:\n",
        "\n"
      ]
    },
    {
      "cell_type": "code",
      "execution_count": null,
      "metadata": {
        "colab": {
          "base_uri": "https://localhost:8080/"
        },
        "id": "uXq2SYl4rqVW",
        "outputId": "f9655e38-f0a1-4af6-dcd3-c06ba00b01fe"
      },
      "outputs": [
        {
          "data": {
            "text/plain": [
              "['This', 'Ġis', 'Ġ', 'n', 'o', 't', 'Ġa', 'Ġtoken', '.']"
            ]
          },
          "execution_count": 21,
          "metadata": {},
          "output_type": "execute_result"
        }
      ],
      "source": [
        "def tokenize(text):\n",
        "    pre_tokenize_result = tokenizer._tokenizer.pre_tokenizer.pre_tokenize_str(text)\n",
        "    pre_tokenized_text = [word for word, offset in pre_tokenize_result]\n",
        "    splits = [[l for l in word] for word in pre_tokenized_text]\n",
        "    for pair, merge in merges.items():\n",
        "        for idx, split in enumerate(splits):\n",
        "            i = 0\n",
        "            while i < len(split) - 1:\n",
        "                if split[i] == pair[0] and split[i + 1] == pair[1]:\n",
        "                    split = split[:i] + [merge] + split[i + 2 :]\n",
        "                else:\n",
        "                    i += 1\n",
        "            splits[idx] = split\n",
        "\n",
        "    return sum(splits, [])\n",
        "\n",
        "tokenize(\"This is not a token.\")"
      ]
    },
    {
      "cell_type": "markdown",
      "metadata": {
        "id": "9ypwHDWkuxPK"
      },
      "source": [
        "# WordPiece tokenization Algorithm\n",
        "\n",
        "- WordPiece is the tokenization algorithm Google developed to pretrain BERT. It has since been reused in quite a few Transformer models based on BERT, such as DistilBERT, MobileBERT. It’s very similar to BPE in terms of the training, but the actual tokenization is done differently.\n",
        "\n",
        "- Like BPE WordPiece start with small vocabulary including the special tokens used by the model. Since it identifies words by adding a prefix (## for BERT) each word is initially split by adding that prefix for letters that are not starting a word: Example: `word` is split into `w ##o ##r ##d`.\n",
        "\n",
        "- Then, again like BPE, WordPiece learns merge rules. The main difference is the way the pair to be merged is selected. Instead of selecting the most frequent pair, WordPiece computes a score for each pair, using the following formula:\n",
        "\n",
        "  `score=(freq_of_pair)/(freq_of_first_element×freq_of_second_element)`\n",
        "\n",
        "By dividing the frequency of the pair by the product of the frequencies of each of its parts, the algorithm prioritizes the merging of pairs where the individual parts are less frequent in the vocabulary.\n",
        "\n",
        "For instance, it won’t necessarily merge (\"un\", \"##able\") even if that pair occurs very frequently in the vocabulary, because the two pairs \"un\" and \"##able\" will likely each appear in a lot of other words and have a high frequency. In contrast, a pair like (\"hu\", \"##gging\") will probably be merged faster (assuming the word “hugging” appears often in the vocabulary) since \"hu\" and \"##gging\" are likely to be less frequent individually.\n",
        "\n",
        "**Tokenization**\n",
        "\n",
        "Lets look at the same example from BPE:\n",
        "\n",
        "`(\"hug\", 10), (\"pug\", 5), (\"pun\", 12), (\"bun\", 4), (\"hugs\", 5)`\n",
        "\n",
        "The splits will be:\n",
        "\n",
        "`(\"h\" \"##u\" \"##g\", 10), (\"p\" \"##u\" \"##g\", 5), (\"p\" \"##u\" \"##n\", 12), (\"b\" \"##u\" \"##n\", 4), (\"h\" \"##u\" \"##g\" \"##s\", 5)`\n",
        "\n",
        "so the initial vocabulary will be [\"b\", \"h\", \"p\", \"##g\", \"##n\", \"##s\", \"##u\"]  The most frequent pair is (\"##u\", \"##g\") (present 20 times), but the individual frequency of \"##u\" is very high, so its score is not the highest (it’s 1 / 36). All pairs with a \"##u\" actually have that same score (1 / 36), so the best score goes to the pair (\"##g\", \"##s\") — the only one without a \"##u\" — at 1 / 20, and the first merge learned is (\"##g\", \"##s\") -> (\"##gs\").\n",
        "\n",
        "*Note that when we merge, we remove the ## between the two tokens, so we add \"##gs and we continue like this until we reach the desired vocabulary size.*\n",
        "\n",
        "**Tokenization Algorithm**\n",
        "Tokenization differs in WordPiece and BPE in that WordPiece only saves the final vocabulary, not the merge rules learned. Starting from the word to tokenize, WordPiece finds the longest subword that is in the vocabulary, then splits on it. For instance, if we use the vocabulary learned in the example above, for the word \"hugs\" the longest subword starting from the beginning that is inside the vocabulary is \"hug\", so we split there and get [\"hug\", \"##s\"]. We then continue with \"##s\", which is in the vocabulary, so the tokenization of \"hugs\" is [\"hug\", \"##s\"].\n",
        "\n",
        "With BPE, we would have applied the merges learned in order and tokenized this as [\"hu\", \"##gs\"], so the encoding is different.\n",
        "\n",
        "As another example, let’s see how the word \"bugs\" would be tokenized. \"b\" is the longest subword starting at the beginning of the word that is in the vocabulary, so we split there and get [\"b\", \"##ugs\"]. Then \"##u\" is the longest subword starting at the beginning of \"##ugs\" that is in the vocabulary, so we split there and get [\"b\", \"##u, \"##gs\"]. Finally, \"##gs\" is in the vocabulary, so this last list is the tokenization of \"bugs\".\n",
        "\n",
        "\n"
      ]
    },
    {
      "cell_type": "code",
      "source": [
        "corpus = [\n",
        "    \"This is the Hugging Face Course.\",\n",
        "    \"This chapter is about tokenization.\",\n",
        "    \"This section shows several tokenizer algorithms.\",\n",
        "    \"Hopefully, you will be able to understand how they are trained and generate tokens.\",\n",
        "]\n",
        "\n",
        "# Pretokenization\n",
        "from transformers import AutoTokenizer\n",
        "\n",
        "tokenizer = AutoTokenizer.from_pretrained(\"bert-base-cased\")"
      ],
      "metadata": {
        "id": "Fg8DT9HuR5X8"
      },
      "execution_count": null,
      "outputs": []
    },
    {
      "cell_type": "markdown",
      "source": [
        "Then we compute the frequencies of each word in the corpus as we do the pre-tokenization:\n",
        "\n"
      ],
      "metadata": {
        "id": "aN_hD_5kS8nL"
      }
    },
    {
      "cell_type": "code",
      "source": [
        "from collections import defaultdict\n",
        "\n",
        "word_freqs = defaultdict(int)\n",
        "for text in corpus:\n",
        "    words_with_offsets = tokenizer.backend_tokenizer.pre_tokenizer.pre_tokenize_str(text)\n",
        "    new_words = [word for word, offset in words_with_offsets]\n",
        "    for word in new_words:\n",
        "        word_freqs[word] += 1\n",
        "\n",
        "word_freqs"
      ],
      "metadata": {
        "colab": {
          "base_uri": "https://localhost:8080/"
        },
        "id": "G2t3SCYFS6Om",
        "outputId": "ac2c0b56-3edf-4f6f-f31b-705d8f0c46d6"
      },
      "execution_count": null,
      "outputs": [
        {
          "output_type": "execute_result",
          "data": {
            "text/plain": [
              "defaultdict(int,\n",
              "            {'This': 3,\n",
              "             'is': 2,\n",
              "             'the': 1,\n",
              "             'Hugging': 1,\n",
              "             'Face': 1,\n",
              "             'Course': 1,\n",
              "             '.': 4,\n",
              "             'chapter': 1,\n",
              "             'about': 1,\n",
              "             'tokenization': 1,\n",
              "             'section': 1,\n",
              "             'shows': 1,\n",
              "             'several': 1,\n",
              "             'tokenizer': 1,\n",
              "             'algorithms': 1,\n",
              "             'Hopefully': 1,\n",
              "             ',': 1,\n",
              "             'you': 1,\n",
              "             'will': 1,\n",
              "             'be': 1,\n",
              "             'able': 1,\n",
              "             'to': 1,\n",
              "             'understand': 1,\n",
              "             'how': 1,\n",
              "             'they': 1,\n",
              "             'are': 1,\n",
              "             'trained': 1,\n",
              "             'and': 1,\n",
              "             'generate': 1,\n",
              "             'tokens': 1})"
            ]
          },
          "metadata": {},
          "execution_count": 7
        }
      ]
    },
    {
      "cell_type": "markdown",
      "source": [
        "As we saw before, the alphabet is the unique set composed of all the first letters of words, and all the other letters that appear in words prefixed by ##:"
      ],
      "metadata": {
        "id": "GHPe25KiTSH7"
      }
    },
    {
      "cell_type": "code",
      "source": [
        "alphabet = []\n",
        "for word in word_freqs.keys():\n",
        "    if word[0] not in alphabet:\n",
        "        alphabet.append(word[0])\n",
        "    for letter in word[1:]:\n",
        "        if f\"##{letter}\" not in alphabet:\n",
        "            alphabet.append(f\"##{letter}\")\n",
        "\n",
        "alphabet.sort()\n",
        "alphabet\n",
        "\n",
        "print(alphabet)\n",
        "\n",
        "# We also add special tokens to the vocabulary\n",
        "vocab = [\"[PAD]\", \"[UNK]\", \"[CLS]\", \"[SEP]\", \"[MASK]\"] + alphabet.copy()"
      ],
      "metadata": {
        "colab": {
          "base_uri": "https://localhost:8080/"
        },
        "id": "zSWI7oIHTED6",
        "outputId": "feb672b4-3f47-4ea4-b47d-604fe9426887"
      },
      "execution_count": null,
      "outputs": [
        {
          "output_type": "stream",
          "name": "stdout",
          "text": [
            "['##a', '##b', '##c', '##d', '##e', '##f', '##g', '##h', '##i', '##k', '##l', '##m', '##n', '##o', '##p', '##r', '##s', '##t', '##u', '##v', '##w', '##y', '##z', ',', '.', 'C', 'F', 'H', 'T', 'a', 'b', 'c', 'g', 'h', 'i', 's', 't', 'u', 'w', 'y']\n"
          ]
        }
      ]
    },
    {
      "cell_type": "markdown",
      "source": [
        "Next we split each word, with all the letters that are not the first prefixed by ##.\n",
        "\n",
        "Then write a function that computes the score of each pair. We'll need to use this at each step of the training:\n"
      ],
      "metadata": {
        "id": "O_FXvZnMdo6i"
      }
    },
    {
      "cell_type": "code",
      "source": [
        "splits = {\n",
        "    word: [c if i == 0 else f\"##{c}\" for i, c in enumerate(word)]\n",
        "    for word in word_freqs.keys()\n",
        "}\n",
        "\n",
        "def compute_pair_scores(splits):\n",
        "    letter_freqs = defaultdict(int)\n",
        "    pair_freqs = defaultdict(int)\n",
        "    for word, freq in word_freqs.items():\n",
        "        split = splits[word]\n",
        "        if len(split) == 1:\n",
        "            letter_freqs[split[0]] += freq\n",
        "            continue\n",
        "        for i in range(len(split) - 1):\n",
        "            pair = (split[i], split[i + 1])\n",
        "            letter_freqs[split[i]] += freq\n",
        "            pair_freqs[pair] += freq\n",
        "        letter_freqs[split[-1]] += freq\n",
        "\n",
        "    scores = {\n",
        "        pair: freq / (letter_freqs[pair[0]] * letter_freqs[pair[1]])\n",
        "        for pair, freq in pair_freqs.items()\n",
        "    }\n",
        "    return scores\n",
        "\n",
        "# Testing the function\n",
        "\n",
        "pair_scores = compute_pair_scores(splits)\n",
        "for i, key in enumerate(pair_scores.keys()):\n",
        "    print(f\"{key}: {pair_scores[key]}\")\n",
        "    if i >= 5:\n",
        "        break"
      ],
      "metadata": {
        "id": "AXsczUl8TWXo",
        "colab": {
          "base_uri": "https://localhost:8080/"
        },
        "outputId": "84d33584-ca39-4085-a7b3-23b7f3c4d606"
      },
      "execution_count": null,
      "outputs": [
        {
          "output_type": "stream",
          "name": "stdout",
          "text": [
            "('T', '##h'): 0.125\n",
            "('##h', '##i'): 0.03409090909090909\n",
            "('##i', '##s'): 0.02727272727272727\n",
            "('i', '##s'): 0.1\n",
            "('t', '##h'): 0.03571428571428571\n",
            "('##h', '##e'): 0.011904761904761904\n"
          ]
        }
      ]
    },
    {
      "cell_type": "markdown",
      "source": [
        "Now, finding the pair with the best score only takes a quick loop:\n",
        "\n"
      ],
      "metadata": {
        "id": "t-pzolE4eICN"
      }
    },
    {
      "cell_type": "code",
      "source": [
        "best_pair = \"\"\n",
        "max_score = None\n",
        "for pair, score in pair_scores.items():\n",
        "    if max_score is None or max_score < score:\n",
        "        best_pair = pair\n",
        "        max_score = score\n",
        "\n",
        "print(best_pair, max_score)\n",
        "\n",
        "# So the first merge to learn is ('a', '##b') -> 'ab', and we add 'ab' to the vocabulary:\n",
        "vocab.append(\"ab\")"
      ],
      "metadata": {
        "colab": {
          "base_uri": "https://localhost:8080/"
        },
        "id": "fm-egVEDd5v7",
        "outputId": "bce5913a-8675-4b69-c6a0-f045ebbb4373"
      },
      "execution_count": null,
      "outputs": [
        {
          "output_type": "stream",
          "name": "stdout",
          "text": [
            "('a', '##b') 0.2\n"
          ]
        }
      ]
    },
    {
      "cell_type": "markdown",
      "source": [
        "To continue, we need to apply that merge in our splits dictionary. Let’s write another function for this:\n",
        "\n"
      ],
      "metadata": {
        "id": "CjhQbTiBeYau"
      }
    },
    {
      "cell_type": "code",
      "source": [
        "def merge_pair(a, b, splits):\n",
        "    for word in word_freqs:\n",
        "        split = splits[word]\n",
        "        if len(split) == 1:\n",
        "            continue\n",
        "        i = 0\n",
        "        while i < len(split) - 1:\n",
        "            if split[i] == a and split[i + 1] == b:\n",
        "                merge = a + b[2:] if b.startswith(\"##\") else a + b\n",
        "                split = split[:i] + [merge] + split[i + 2 :]\n",
        "            else:\n",
        "                i += 1\n",
        "        splits[word] = split\n",
        "    return splits\n",
        "\n",
        "# Testing out the function\n",
        "splits = merge_pair(\"a\", \"##b\", splits)\n",
        "splits[\"about\"]"
      ],
      "metadata": {
        "colab": {
          "base_uri": "https://localhost:8080/"
        },
        "id": "1i19335ReKBE",
        "outputId": "97e7e63f-50f0-4ba1-8d15-6a676d963889"
      },
      "execution_count": null,
      "outputs": [
        {
          "output_type": "execute_result",
          "data": {
            "text/plain": [
              "['ab', '##o', '##u', '##t']"
            ]
          },
          "metadata": {},
          "execution_count": 14
        }
      ]
    },
    {
      "cell_type": "markdown",
      "source": [
        "With all these function apply it to a loop over to a vicabularoty of 70 we need to loop until we have learned all the merges we want. We need to target the vocabulary of 70."
      ],
      "metadata": {
        "id": "IYwh29KAeiAO"
      }
    },
    {
      "cell_type": "code",
      "source": [
        "vocab_size = 70\n",
        "while len(vocab) < vocab_size:\n",
        "    scores = compute_pair_scores(splits)\n",
        "    best_pair, max_score = \"\", None\n",
        "    for pair, score in scores.items():\n",
        "        if max_score is None or max_score < score:\n",
        "            best_pair = pair\n",
        "            max_score = score\n",
        "    splits = merge_pair(*best_pair, splits)\n",
        "    new_token = (\n",
        "        best_pair[0] + best_pair[1][2:]\n",
        "        if best_pair[1].startswith(\"##\")\n",
        "        else best_pair[0] + best_pair[1]\n",
        "    )\n",
        "    vocab.append(new_token)\n",
        "\n",
        "print(vocab)"
      ],
      "metadata": {
        "colab": {
          "base_uri": "https://localhost:8080/"
        },
        "id": "vtYUJ9YleYz7",
        "outputId": "dd780e3b-38d1-44b6-f258-ee8db720fc1e"
      },
      "execution_count": null,
      "outputs": [
        {
          "output_type": "stream",
          "name": "stdout",
          "text": [
            "['[PAD]', '[UNK]', '[CLS]', '[SEP]', '[MASK]', '##a', '##b', '##c', '##d', '##e', '##f', '##g', '##h', '##i', '##k', '##l', '##m', '##n', '##o', '##p', '##r', '##s', '##t', '##u', '##v', '##w', '##y', '##z', ',', '.', 'C', 'F', 'H', 'T', 'a', 'b', 'c', 'g', 'h', 'i', 's', 't', 'u', 'w', 'y', 'ab', '##fu', 'Fa', 'Fac', '##ct', '##ful', '##full', '##fully', 'Th', 'ch', '##hm', 'cha', 'chap', 'chapt', '##thm', 'Hu', 'Hug', 'Hugg', 'sh', 'th', 'is', '##thms', '##za', '##zat', '##ut']\n"
          ]
        }
      ]
    },
    {
      "cell_type": "markdown",
      "source": [
        "To tokenize a new text, we pre-tokenize it, split it, then apply the tokenization algorithm on each word. That is, we look for the biggest subword starting at the beginning of the first word and split it, then we repeat the process on the second part, and so on for the rest of that word and the following words in the text:"
      ],
      "metadata": {
        "id": "G3ZvVwwufBCQ"
      }
    },
    {
      "cell_type": "code",
      "source": [
        "def encode_word(word):\n",
        "    tokens = []\n",
        "    while len(word) > 0:\n",
        "        i = len(word)\n",
        "        while i > 0 and word[:i] not in vocab:\n",
        "            i -= 1\n",
        "        if i == 0:\n",
        "            return [\"[UNK]\"]\n",
        "        tokens.append(word[:i])\n",
        "        word = word[i:]\n",
        "        if len(word) > 0:\n",
        "            word = f\"##{word}\"\n",
        "    return tokens\n",
        "\n",
        "print(encode_word(\"Hugging\"))\n",
        "print(encode_word(\"HOgging\"))"
      ],
      "metadata": {
        "colab": {
          "base_uri": "https://localhost:8080/"
        },
        "id": "Lp1s0kwBezWc",
        "outputId": "36ff8798-963d-4924-90f9-211223f46241"
      },
      "execution_count": null,
      "outputs": [
        {
          "output_type": "stream",
          "name": "stdout",
          "text": [
            "['Hugg', '##i', '##n', '##g']\n",
            "['[UNK]']\n"
          ]
        }
      ]
    },
    {
      "cell_type": "markdown",
      "source": [
        "**The final tokenizer function**"
      ],
      "metadata": {
        "id": "TU3Sh08PfHws"
      }
    },
    {
      "cell_type": "code",
      "source": [
        "def tokenize(text):\n",
        "    pre_tokenize_result = tokenizer._tokenizer.pre_tokenizer.pre_tokenize_str(text)\n",
        "    pre_tokenized_text = [word for word, offset in pre_tokenize_result]\n",
        "    encoded_words = [encode_word(word) for word in pre_tokenized_text]\n",
        "    return sum(encoded_words, [])\n",
        "\n",
        "tokenize(\"This is the Hugging Face course!\")"
      ],
      "metadata": {
        "colab": {
          "base_uri": "https://localhost:8080/"
        },
        "id": "NOSFOmKefEQO",
        "outputId": "bd8d8e43-e7ca-4c2f-927b-20371f28a205"
      },
      "execution_count": null,
      "outputs": [
        {
          "output_type": "execute_result",
          "data": {
            "text/plain": [
              "['Th',\n",
              " '##i',\n",
              " '##s',\n",
              " 'is',\n",
              " 'th',\n",
              " '##e',\n",
              " 'Hugg',\n",
              " '##i',\n",
              " '##n',\n",
              " '##g',\n",
              " 'Fac',\n",
              " '##e',\n",
              " 'c',\n",
              " '##o',\n",
              " '##u',\n",
              " '##r',\n",
              " '##s',\n",
              " '##e',\n",
              " '[UNK]']"
            ]
          },
          "metadata": {},
          "execution_count": 19
        }
      ]
    },
    {
      "cell_type": "code",
      "source": [],
      "metadata": {
        "id": "sJLkfgNSfK7r"
      },
      "execution_count": null,
      "outputs": []
    }
  ],
  "metadata": {
    "colab": {
      "provenance": [],
      "collapsed_sections": [
        "RYR-PDfUG_sc",
        "9XBOQxPcZAo5",
        "UJr-2qDBQP_b",
        "om6-VF29-kmx"
      ]
    },
    "kernelspec": {
      "display_name": "Python 3",
      "name": "python3"
    },
    "language_info": {
      "name": "python"
    },
    "widgets": {
      "application/vnd.jupyter.widget-state+json": {
        "79dc234d3f094650b99538100cf9b685": {
          "model_module": "@jupyter-widgets/controls",
          "model_name": "HBoxModel",
          "model_module_version": "1.5.0",
          "state": {
            "_dom_classes": [],
            "_model_module": "@jupyter-widgets/controls",
            "_model_module_version": "1.5.0",
            "_model_name": "HBoxModel",
            "_view_count": null,
            "_view_module": "@jupyter-widgets/controls",
            "_view_module_version": "1.5.0",
            "_view_name": "HBoxView",
            "box_style": "",
            "children": [
              "IPY_MODEL_34ff485603874f96853b0927bb04665d",
              "IPY_MODEL_fd978f37c302450097d4839e9c4bc0b3",
              "IPY_MODEL_01ca804380b9411c8662f72b9904806c"
            ],
            "layout": "IPY_MODEL_02fb2c8c3e4443f09766aa3a054c132f"
          }
        },
        "34ff485603874f96853b0927bb04665d": {
          "model_module": "@jupyter-widgets/controls",
          "model_name": "HTMLModel",
          "model_module_version": "1.5.0",
          "state": {
            "_dom_classes": [],
            "_model_module": "@jupyter-widgets/controls",
            "_model_module_version": "1.5.0",
            "_model_name": "HTMLModel",
            "_view_count": null,
            "_view_module": "@jupyter-widgets/controls",
            "_view_module_version": "1.5.0",
            "_view_name": "HTMLView",
            "description": "",
            "description_tooltip": null,
            "layout": "IPY_MODEL_669824c8717e4f5e9a0a7baab193bcf3",
            "placeholder": "​",
            "style": "IPY_MODEL_666868674d7a4401b29891ab244d1412",
            "value": "config.json: 100%"
          }
        },
        "fd978f37c302450097d4839e9c4bc0b3": {
          "model_module": "@jupyter-widgets/controls",
          "model_name": "FloatProgressModel",
          "model_module_version": "1.5.0",
          "state": {
            "_dom_classes": [],
            "_model_module": "@jupyter-widgets/controls",
            "_model_module_version": "1.5.0",
            "_model_name": "FloatProgressModel",
            "_view_count": null,
            "_view_module": "@jupyter-widgets/controls",
            "_view_module_version": "1.5.0",
            "_view_name": "ProgressView",
            "bar_style": "success",
            "description": "",
            "description_tooltip": null,
            "layout": "IPY_MODEL_075ddd9a6473438cb64fc1c0b9bb7b47",
            "max": 473,
            "min": 0,
            "orientation": "horizontal",
            "style": "IPY_MODEL_104615c185ae47978a637b9dff8bf9d2",
            "value": 473
          }
        },
        "01ca804380b9411c8662f72b9904806c": {
          "model_module": "@jupyter-widgets/controls",
          "model_name": "HTMLModel",
          "model_module_version": "1.5.0",
          "state": {
            "_dom_classes": [],
            "_model_module": "@jupyter-widgets/controls",
            "_model_module_version": "1.5.0",
            "_model_name": "HTMLModel",
            "_view_count": null,
            "_view_module": "@jupyter-widgets/controls",
            "_view_module_version": "1.5.0",
            "_view_name": "HTMLView",
            "description": "",
            "description_tooltip": null,
            "layout": "IPY_MODEL_c66027105b4c4bcb89610eee064f3ce2",
            "placeholder": "​",
            "style": "IPY_MODEL_6b0567a951dd41a686a8e108d8496f7f",
            "value": " 473/473 [00:00&lt;00:00, 30.7kB/s]"
          }
        },
        "02fb2c8c3e4443f09766aa3a054c132f": {
          "model_module": "@jupyter-widgets/base",
          "model_name": "LayoutModel",
          "model_module_version": "1.2.0",
          "state": {
            "_model_module": "@jupyter-widgets/base",
            "_model_module_version": "1.2.0",
            "_model_name": "LayoutModel",
            "_view_count": null,
            "_view_module": "@jupyter-widgets/base",
            "_view_module_version": "1.2.0",
            "_view_name": "LayoutView",
            "align_content": null,
            "align_items": null,
            "align_self": null,
            "border": null,
            "bottom": null,
            "display": null,
            "flex": null,
            "flex_flow": null,
            "grid_area": null,
            "grid_auto_columns": null,
            "grid_auto_flow": null,
            "grid_auto_rows": null,
            "grid_column": null,
            "grid_gap": null,
            "grid_row": null,
            "grid_template_areas": null,
            "grid_template_columns": null,
            "grid_template_rows": null,
            "height": null,
            "justify_content": null,
            "justify_items": null,
            "left": null,
            "margin": null,
            "max_height": null,
            "max_width": null,
            "min_height": null,
            "min_width": null,
            "object_fit": null,
            "object_position": null,
            "order": null,
            "overflow": null,
            "overflow_x": null,
            "overflow_y": null,
            "padding": null,
            "right": null,
            "top": null,
            "visibility": null,
            "width": null
          }
        },
        "669824c8717e4f5e9a0a7baab193bcf3": {
          "model_module": "@jupyter-widgets/base",
          "model_name": "LayoutModel",
          "model_module_version": "1.2.0",
          "state": {
            "_model_module": "@jupyter-widgets/base",
            "_model_module_version": "1.2.0",
            "_model_name": "LayoutModel",
            "_view_count": null,
            "_view_module": "@jupyter-widgets/base",
            "_view_module_version": "1.2.0",
            "_view_name": "LayoutView",
            "align_content": null,
            "align_items": null,
            "align_self": null,
            "border": null,
            "bottom": null,
            "display": null,
            "flex": null,
            "flex_flow": null,
            "grid_area": null,
            "grid_auto_columns": null,
            "grid_auto_flow": null,
            "grid_auto_rows": null,
            "grid_column": null,
            "grid_gap": null,
            "grid_row": null,
            "grid_template_areas": null,
            "grid_template_columns": null,
            "grid_template_rows": null,
            "height": null,
            "justify_content": null,
            "justify_items": null,
            "left": null,
            "margin": null,
            "max_height": null,
            "max_width": null,
            "min_height": null,
            "min_width": null,
            "object_fit": null,
            "object_position": null,
            "order": null,
            "overflow": null,
            "overflow_x": null,
            "overflow_y": null,
            "padding": null,
            "right": null,
            "top": null,
            "visibility": null,
            "width": null
          }
        },
        "666868674d7a4401b29891ab244d1412": {
          "model_module": "@jupyter-widgets/controls",
          "model_name": "DescriptionStyleModel",
          "model_module_version": "1.5.0",
          "state": {
            "_model_module": "@jupyter-widgets/controls",
            "_model_module_version": "1.5.0",
            "_model_name": "DescriptionStyleModel",
            "_view_count": null,
            "_view_module": "@jupyter-widgets/base",
            "_view_module_version": "1.2.0",
            "_view_name": "StyleView",
            "description_width": ""
          }
        },
        "075ddd9a6473438cb64fc1c0b9bb7b47": {
          "model_module": "@jupyter-widgets/base",
          "model_name": "LayoutModel",
          "model_module_version": "1.2.0",
          "state": {
            "_model_module": "@jupyter-widgets/base",
            "_model_module_version": "1.2.0",
            "_model_name": "LayoutModel",
            "_view_count": null,
            "_view_module": "@jupyter-widgets/base",
            "_view_module_version": "1.2.0",
            "_view_name": "LayoutView",
            "align_content": null,
            "align_items": null,
            "align_self": null,
            "border": null,
            "bottom": null,
            "display": null,
            "flex": null,
            "flex_flow": null,
            "grid_area": null,
            "grid_auto_columns": null,
            "grid_auto_flow": null,
            "grid_auto_rows": null,
            "grid_column": null,
            "grid_gap": null,
            "grid_row": null,
            "grid_template_areas": null,
            "grid_template_columns": null,
            "grid_template_rows": null,
            "height": null,
            "justify_content": null,
            "justify_items": null,
            "left": null,
            "margin": null,
            "max_height": null,
            "max_width": null,
            "min_height": null,
            "min_width": null,
            "object_fit": null,
            "object_position": null,
            "order": null,
            "overflow": null,
            "overflow_x": null,
            "overflow_y": null,
            "padding": null,
            "right": null,
            "top": null,
            "visibility": null,
            "width": null
          }
        },
        "104615c185ae47978a637b9dff8bf9d2": {
          "model_module": "@jupyter-widgets/controls",
          "model_name": "ProgressStyleModel",
          "model_module_version": "1.5.0",
          "state": {
            "_model_module": "@jupyter-widgets/controls",
            "_model_module_version": "1.5.0",
            "_model_name": "ProgressStyleModel",
            "_view_count": null,
            "_view_module": "@jupyter-widgets/base",
            "_view_module_version": "1.2.0",
            "_view_name": "StyleView",
            "bar_color": null,
            "description_width": ""
          }
        },
        "c66027105b4c4bcb89610eee064f3ce2": {
          "model_module": "@jupyter-widgets/base",
          "model_name": "LayoutModel",
          "model_module_version": "1.2.0",
          "state": {
            "_model_module": "@jupyter-widgets/base",
            "_model_module_version": "1.2.0",
            "_model_name": "LayoutModel",
            "_view_count": null,
            "_view_module": "@jupyter-widgets/base",
            "_view_module_version": "1.2.0",
            "_view_name": "LayoutView",
            "align_content": null,
            "align_items": null,
            "align_self": null,
            "border": null,
            "bottom": null,
            "display": null,
            "flex": null,
            "flex_flow": null,
            "grid_area": null,
            "grid_auto_columns": null,
            "grid_auto_flow": null,
            "grid_auto_rows": null,
            "grid_column": null,
            "grid_gap": null,
            "grid_row": null,
            "grid_template_areas": null,
            "grid_template_columns": null,
            "grid_template_rows": null,
            "height": null,
            "justify_content": null,
            "justify_items": null,
            "left": null,
            "margin": null,
            "max_height": null,
            "max_width": null,
            "min_height": null,
            "min_width": null,
            "object_fit": null,
            "object_position": null,
            "order": null,
            "overflow": null,
            "overflow_x": null,
            "overflow_y": null,
            "padding": null,
            "right": null,
            "top": null,
            "visibility": null,
            "width": null
          }
        },
        "6b0567a951dd41a686a8e108d8496f7f": {
          "model_module": "@jupyter-widgets/controls",
          "model_name": "DescriptionStyleModel",
          "model_module_version": "1.5.0",
          "state": {
            "_model_module": "@jupyter-widgets/controls",
            "_model_module_version": "1.5.0",
            "_model_name": "DescriptionStyleModel",
            "_view_count": null,
            "_view_module": "@jupyter-widgets/base",
            "_view_module_version": "1.2.0",
            "_view_name": "StyleView",
            "description_width": ""
          }
        },
        "aaf3eea672714326b3ddbc4a9b08fba5": {
          "model_module": "@jupyter-widgets/controls",
          "model_name": "HBoxModel",
          "model_module_version": "1.5.0",
          "state": {
            "_dom_classes": [],
            "_model_module": "@jupyter-widgets/controls",
            "_model_module_version": "1.5.0",
            "_model_name": "HBoxModel",
            "_view_count": null,
            "_view_module": "@jupyter-widgets/controls",
            "_view_module_version": "1.5.0",
            "_view_name": "HBoxView",
            "box_style": "",
            "children": [
              "IPY_MODEL_46a8c43206f648b7960b2b49dbeba140",
              "IPY_MODEL_21e9e231f6e84d56becfd1ed2d554fe8",
              "IPY_MODEL_deb8be49902447d0a428d6591e6e987c"
            ],
            "layout": "IPY_MODEL_efec8f9378524827bf8a061021944f0c"
          }
        },
        "46a8c43206f648b7960b2b49dbeba140": {
          "model_module": "@jupyter-widgets/controls",
          "model_name": "HTMLModel",
          "model_module_version": "1.5.0",
          "state": {
            "_dom_classes": [],
            "_model_module": "@jupyter-widgets/controls",
            "_model_module_version": "1.5.0",
            "_model_name": "HTMLModel",
            "_view_count": null,
            "_view_module": "@jupyter-widgets/controls",
            "_view_module_version": "1.5.0",
            "_view_name": "HTMLView",
            "description": "",
            "description_tooltip": null,
            "layout": "IPY_MODEL_cb282ed943c547d5a2d52d44fb1c7840",
            "placeholder": "​",
            "style": "IPY_MODEL_0a6f0dbf954646969a1520ff5f092200",
            "value": "model.safetensors: 100%"
          }
        },
        "21e9e231f6e84d56becfd1ed2d554fe8": {
          "model_module": "@jupyter-widgets/controls",
          "model_name": "FloatProgressModel",
          "model_module_version": "1.5.0",
          "state": {
            "_dom_classes": [],
            "_model_module": "@jupyter-widgets/controls",
            "_model_module_version": "1.5.0",
            "_model_name": "FloatProgressModel",
            "_view_count": null,
            "_view_module": "@jupyter-widgets/controls",
            "_view_module_version": "1.5.0",
            "_view_name": "ProgressView",
            "bar_style": "success",
            "description": "",
            "description_tooltip": null,
            "layout": "IPY_MODEL_067c22147d524b4ca9eb74b415b667bd",
            "max": 260782156,
            "min": 0,
            "orientation": "horizontal",
            "style": "IPY_MODEL_660a6af9e1b64da694109cc2830135d2",
            "value": 260782156
          }
        },
        "deb8be49902447d0a428d6591e6e987c": {
          "model_module": "@jupyter-widgets/controls",
          "model_name": "HTMLModel",
          "model_module_version": "1.5.0",
          "state": {
            "_dom_classes": [],
            "_model_module": "@jupyter-widgets/controls",
            "_model_module_version": "1.5.0",
            "_model_name": "HTMLModel",
            "_view_count": null,
            "_view_module": "@jupyter-widgets/controls",
            "_view_module_version": "1.5.0",
            "_view_name": "HTMLView",
            "description": "",
            "description_tooltip": null,
            "layout": "IPY_MODEL_eff820319ace4ff4ac3b9025307bfa3a",
            "placeholder": "​",
            "style": "IPY_MODEL_a272e0d4fb2949ef912cb082df537430",
            "value": " 261M/261M [00:05&lt;00:00, 22.6MB/s]"
          }
        },
        "efec8f9378524827bf8a061021944f0c": {
          "model_module": "@jupyter-widgets/base",
          "model_name": "LayoutModel",
          "model_module_version": "1.2.0",
          "state": {
            "_model_module": "@jupyter-widgets/base",
            "_model_module_version": "1.2.0",
            "_model_name": "LayoutModel",
            "_view_count": null,
            "_view_module": "@jupyter-widgets/base",
            "_view_module_version": "1.2.0",
            "_view_name": "LayoutView",
            "align_content": null,
            "align_items": null,
            "align_self": null,
            "border": null,
            "bottom": null,
            "display": null,
            "flex": null,
            "flex_flow": null,
            "grid_area": null,
            "grid_auto_columns": null,
            "grid_auto_flow": null,
            "grid_auto_rows": null,
            "grid_column": null,
            "grid_gap": null,
            "grid_row": null,
            "grid_template_areas": null,
            "grid_template_columns": null,
            "grid_template_rows": null,
            "height": null,
            "justify_content": null,
            "justify_items": null,
            "left": null,
            "margin": null,
            "max_height": null,
            "max_width": null,
            "min_height": null,
            "min_width": null,
            "object_fit": null,
            "object_position": null,
            "order": null,
            "overflow": null,
            "overflow_x": null,
            "overflow_y": null,
            "padding": null,
            "right": null,
            "top": null,
            "visibility": null,
            "width": null
          }
        },
        "cb282ed943c547d5a2d52d44fb1c7840": {
          "model_module": "@jupyter-widgets/base",
          "model_name": "LayoutModel",
          "model_module_version": "1.2.0",
          "state": {
            "_model_module": "@jupyter-widgets/base",
            "_model_module_version": "1.2.0",
            "_model_name": "LayoutModel",
            "_view_count": null,
            "_view_module": "@jupyter-widgets/base",
            "_view_module_version": "1.2.0",
            "_view_name": "LayoutView",
            "align_content": null,
            "align_items": null,
            "align_self": null,
            "border": null,
            "bottom": null,
            "display": null,
            "flex": null,
            "flex_flow": null,
            "grid_area": null,
            "grid_auto_columns": null,
            "grid_auto_flow": null,
            "grid_auto_rows": null,
            "grid_column": null,
            "grid_gap": null,
            "grid_row": null,
            "grid_template_areas": null,
            "grid_template_columns": null,
            "grid_template_rows": null,
            "height": null,
            "justify_content": null,
            "justify_items": null,
            "left": null,
            "margin": null,
            "max_height": null,
            "max_width": null,
            "min_height": null,
            "min_width": null,
            "object_fit": null,
            "object_position": null,
            "order": null,
            "overflow": null,
            "overflow_x": null,
            "overflow_y": null,
            "padding": null,
            "right": null,
            "top": null,
            "visibility": null,
            "width": null
          }
        },
        "0a6f0dbf954646969a1520ff5f092200": {
          "model_module": "@jupyter-widgets/controls",
          "model_name": "DescriptionStyleModel",
          "model_module_version": "1.5.0",
          "state": {
            "_model_module": "@jupyter-widgets/controls",
            "_model_module_version": "1.5.0",
            "_model_name": "DescriptionStyleModel",
            "_view_count": null,
            "_view_module": "@jupyter-widgets/base",
            "_view_module_version": "1.2.0",
            "_view_name": "StyleView",
            "description_width": ""
          }
        },
        "067c22147d524b4ca9eb74b415b667bd": {
          "model_module": "@jupyter-widgets/base",
          "model_name": "LayoutModel",
          "model_module_version": "1.2.0",
          "state": {
            "_model_module": "@jupyter-widgets/base",
            "_model_module_version": "1.2.0",
            "_model_name": "LayoutModel",
            "_view_count": null,
            "_view_module": "@jupyter-widgets/base",
            "_view_module_version": "1.2.0",
            "_view_name": "LayoutView",
            "align_content": null,
            "align_items": null,
            "align_self": null,
            "border": null,
            "bottom": null,
            "display": null,
            "flex": null,
            "flex_flow": null,
            "grid_area": null,
            "grid_auto_columns": null,
            "grid_auto_flow": null,
            "grid_auto_rows": null,
            "grid_column": null,
            "grid_gap": null,
            "grid_row": null,
            "grid_template_areas": null,
            "grid_template_columns": null,
            "grid_template_rows": null,
            "height": null,
            "justify_content": null,
            "justify_items": null,
            "left": null,
            "margin": null,
            "max_height": null,
            "max_width": null,
            "min_height": null,
            "min_width": null,
            "object_fit": null,
            "object_position": null,
            "order": null,
            "overflow": null,
            "overflow_x": null,
            "overflow_y": null,
            "padding": null,
            "right": null,
            "top": null,
            "visibility": null,
            "width": null
          }
        },
        "660a6af9e1b64da694109cc2830135d2": {
          "model_module": "@jupyter-widgets/controls",
          "model_name": "ProgressStyleModel",
          "model_module_version": "1.5.0",
          "state": {
            "_model_module": "@jupyter-widgets/controls",
            "_model_module_version": "1.5.0",
            "_model_name": "ProgressStyleModel",
            "_view_count": null,
            "_view_module": "@jupyter-widgets/base",
            "_view_module_version": "1.2.0",
            "_view_name": "StyleView",
            "bar_color": null,
            "description_width": ""
          }
        },
        "eff820319ace4ff4ac3b9025307bfa3a": {
          "model_module": "@jupyter-widgets/base",
          "model_name": "LayoutModel",
          "model_module_version": "1.2.0",
          "state": {
            "_model_module": "@jupyter-widgets/base",
            "_model_module_version": "1.2.0",
            "_model_name": "LayoutModel",
            "_view_count": null,
            "_view_module": "@jupyter-widgets/base",
            "_view_module_version": "1.2.0",
            "_view_name": "LayoutView",
            "align_content": null,
            "align_items": null,
            "align_self": null,
            "border": null,
            "bottom": null,
            "display": null,
            "flex": null,
            "flex_flow": null,
            "grid_area": null,
            "grid_auto_columns": null,
            "grid_auto_flow": null,
            "grid_auto_rows": null,
            "grid_column": null,
            "grid_gap": null,
            "grid_row": null,
            "grid_template_areas": null,
            "grid_template_columns": null,
            "grid_template_rows": null,
            "height": null,
            "justify_content": null,
            "justify_items": null,
            "left": null,
            "margin": null,
            "max_height": null,
            "max_width": null,
            "min_height": null,
            "min_width": null,
            "object_fit": null,
            "object_position": null,
            "order": null,
            "overflow": null,
            "overflow_x": null,
            "overflow_y": null,
            "padding": null,
            "right": null,
            "top": null,
            "visibility": null,
            "width": null
          }
        },
        "a272e0d4fb2949ef912cb082df537430": {
          "model_module": "@jupyter-widgets/controls",
          "model_name": "DescriptionStyleModel",
          "model_module_version": "1.5.0",
          "state": {
            "_model_module": "@jupyter-widgets/controls",
            "_model_module_version": "1.5.0",
            "_model_name": "DescriptionStyleModel",
            "_view_count": null,
            "_view_module": "@jupyter-widgets/base",
            "_view_module_version": "1.2.0",
            "_view_name": "StyleView",
            "description_width": ""
          }
        },
        "12b826083eaa483b98375cc13c39303a": {
          "model_module": "@jupyter-widgets/controls",
          "model_name": "HBoxModel",
          "model_module_version": "1.5.0",
          "state": {
            "_dom_classes": [],
            "_model_module": "@jupyter-widgets/controls",
            "_model_module_version": "1.5.0",
            "_model_name": "HBoxModel",
            "_view_count": null,
            "_view_module": "@jupyter-widgets/controls",
            "_view_module_version": "1.5.0",
            "_view_name": "HBoxView",
            "box_style": "",
            "children": [
              "IPY_MODEL_76bd97ac82bf45a995c449f532acfa58",
              "IPY_MODEL_29a11d9653ee49a0af797cb054cf06f1",
              "IPY_MODEL_4931639a9c0d482695e4398d7d60069f"
            ],
            "layout": "IPY_MODEL_d373234d967545d2a2be4f238bf40a07"
          }
        },
        "76bd97ac82bf45a995c449f532acfa58": {
          "model_module": "@jupyter-widgets/controls",
          "model_name": "HTMLModel",
          "model_module_version": "1.5.0",
          "state": {
            "_dom_classes": [],
            "_model_module": "@jupyter-widgets/controls",
            "_model_module_version": "1.5.0",
            "_model_name": "HTMLModel",
            "_view_count": null,
            "_view_module": "@jupyter-widgets/controls",
            "_view_module_version": "1.5.0",
            "_view_name": "HTMLView",
            "description": "",
            "description_tooltip": null,
            "layout": "IPY_MODEL_a081024131294afeb58556ff6b68d5e6",
            "placeholder": "​",
            "style": "IPY_MODEL_ec90f9b6f9c04e32a738d28ecf651331",
            "value": "tokenizer_config.json: 100%"
          }
        },
        "29a11d9653ee49a0af797cb054cf06f1": {
          "model_module": "@jupyter-widgets/controls",
          "model_name": "FloatProgressModel",
          "model_module_version": "1.5.0",
          "state": {
            "_dom_classes": [],
            "_model_module": "@jupyter-widgets/controls",
            "_model_module_version": "1.5.0",
            "_model_name": "FloatProgressModel",
            "_view_count": null,
            "_view_module": "@jupyter-widgets/controls",
            "_view_module_version": "1.5.0",
            "_view_name": "ProgressView",
            "bar_style": "success",
            "description": "",
            "description_tooltip": null,
            "layout": "IPY_MODEL_fc19071600d24093af1f7a3f9ea8b300",
            "max": 49,
            "min": 0,
            "orientation": "horizontal",
            "style": "IPY_MODEL_d22553483585472d92177aa5e2985411",
            "value": 49
          }
        },
        "4931639a9c0d482695e4398d7d60069f": {
          "model_module": "@jupyter-widgets/controls",
          "model_name": "HTMLModel",
          "model_module_version": "1.5.0",
          "state": {
            "_dom_classes": [],
            "_model_module": "@jupyter-widgets/controls",
            "_model_module_version": "1.5.0",
            "_model_name": "HTMLModel",
            "_view_count": null,
            "_view_module": "@jupyter-widgets/controls",
            "_view_module_version": "1.5.0",
            "_view_name": "HTMLView",
            "description": "",
            "description_tooltip": null,
            "layout": "IPY_MODEL_02820457e66546d78f20c6f25828ad4d",
            "placeholder": "​",
            "style": "IPY_MODEL_2d788e5ea761455ba3722eeee7022cc3",
            "value": " 49.0/49.0 [00:00&lt;00:00, 2.37kB/s]"
          }
        },
        "d373234d967545d2a2be4f238bf40a07": {
          "model_module": "@jupyter-widgets/base",
          "model_name": "LayoutModel",
          "model_module_version": "1.2.0",
          "state": {
            "_model_module": "@jupyter-widgets/base",
            "_model_module_version": "1.2.0",
            "_model_name": "LayoutModel",
            "_view_count": null,
            "_view_module": "@jupyter-widgets/base",
            "_view_module_version": "1.2.0",
            "_view_name": "LayoutView",
            "align_content": null,
            "align_items": null,
            "align_self": null,
            "border": null,
            "bottom": null,
            "display": null,
            "flex": null,
            "flex_flow": null,
            "grid_area": null,
            "grid_auto_columns": null,
            "grid_auto_flow": null,
            "grid_auto_rows": null,
            "grid_column": null,
            "grid_gap": null,
            "grid_row": null,
            "grid_template_areas": null,
            "grid_template_columns": null,
            "grid_template_rows": null,
            "height": null,
            "justify_content": null,
            "justify_items": null,
            "left": null,
            "margin": null,
            "max_height": null,
            "max_width": null,
            "min_height": null,
            "min_width": null,
            "object_fit": null,
            "object_position": null,
            "order": null,
            "overflow": null,
            "overflow_x": null,
            "overflow_y": null,
            "padding": null,
            "right": null,
            "top": null,
            "visibility": null,
            "width": null
          }
        },
        "a081024131294afeb58556ff6b68d5e6": {
          "model_module": "@jupyter-widgets/base",
          "model_name": "LayoutModel",
          "model_module_version": "1.2.0",
          "state": {
            "_model_module": "@jupyter-widgets/base",
            "_model_module_version": "1.2.0",
            "_model_name": "LayoutModel",
            "_view_count": null,
            "_view_module": "@jupyter-widgets/base",
            "_view_module_version": "1.2.0",
            "_view_name": "LayoutView",
            "align_content": null,
            "align_items": null,
            "align_self": null,
            "border": null,
            "bottom": null,
            "display": null,
            "flex": null,
            "flex_flow": null,
            "grid_area": null,
            "grid_auto_columns": null,
            "grid_auto_flow": null,
            "grid_auto_rows": null,
            "grid_column": null,
            "grid_gap": null,
            "grid_row": null,
            "grid_template_areas": null,
            "grid_template_columns": null,
            "grid_template_rows": null,
            "height": null,
            "justify_content": null,
            "justify_items": null,
            "left": null,
            "margin": null,
            "max_height": null,
            "max_width": null,
            "min_height": null,
            "min_width": null,
            "object_fit": null,
            "object_position": null,
            "order": null,
            "overflow": null,
            "overflow_x": null,
            "overflow_y": null,
            "padding": null,
            "right": null,
            "top": null,
            "visibility": null,
            "width": null
          }
        },
        "ec90f9b6f9c04e32a738d28ecf651331": {
          "model_module": "@jupyter-widgets/controls",
          "model_name": "DescriptionStyleModel",
          "model_module_version": "1.5.0",
          "state": {
            "_model_module": "@jupyter-widgets/controls",
            "_model_module_version": "1.5.0",
            "_model_name": "DescriptionStyleModel",
            "_view_count": null,
            "_view_module": "@jupyter-widgets/base",
            "_view_module_version": "1.2.0",
            "_view_name": "StyleView",
            "description_width": ""
          }
        },
        "fc19071600d24093af1f7a3f9ea8b300": {
          "model_module": "@jupyter-widgets/base",
          "model_name": "LayoutModel",
          "model_module_version": "1.2.0",
          "state": {
            "_model_module": "@jupyter-widgets/base",
            "_model_module_version": "1.2.0",
            "_model_name": "LayoutModel",
            "_view_count": null,
            "_view_module": "@jupyter-widgets/base",
            "_view_module_version": "1.2.0",
            "_view_name": "LayoutView",
            "align_content": null,
            "align_items": null,
            "align_self": null,
            "border": null,
            "bottom": null,
            "display": null,
            "flex": null,
            "flex_flow": null,
            "grid_area": null,
            "grid_auto_columns": null,
            "grid_auto_flow": null,
            "grid_auto_rows": null,
            "grid_column": null,
            "grid_gap": null,
            "grid_row": null,
            "grid_template_areas": null,
            "grid_template_columns": null,
            "grid_template_rows": null,
            "height": null,
            "justify_content": null,
            "justify_items": null,
            "left": null,
            "margin": null,
            "max_height": null,
            "max_width": null,
            "min_height": null,
            "min_width": null,
            "object_fit": null,
            "object_position": null,
            "order": null,
            "overflow": null,
            "overflow_x": null,
            "overflow_y": null,
            "padding": null,
            "right": null,
            "top": null,
            "visibility": null,
            "width": null
          }
        },
        "d22553483585472d92177aa5e2985411": {
          "model_module": "@jupyter-widgets/controls",
          "model_name": "ProgressStyleModel",
          "model_module_version": "1.5.0",
          "state": {
            "_model_module": "@jupyter-widgets/controls",
            "_model_module_version": "1.5.0",
            "_model_name": "ProgressStyleModel",
            "_view_count": null,
            "_view_module": "@jupyter-widgets/base",
            "_view_module_version": "1.2.0",
            "_view_name": "StyleView",
            "bar_color": null,
            "description_width": ""
          }
        },
        "02820457e66546d78f20c6f25828ad4d": {
          "model_module": "@jupyter-widgets/base",
          "model_name": "LayoutModel",
          "model_module_version": "1.2.0",
          "state": {
            "_model_module": "@jupyter-widgets/base",
            "_model_module_version": "1.2.0",
            "_model_name": "LayoutModel",
            "_view_count": null,
            "_view_module": "@jupyter-widgets/base",
            "_view_module_version": "1.2.0",
            "_view_name": "LayoutView",
            "align_content": null,
            "align_items": null,
            "align_self": null,
            "border": null,
            "bottom": null,
            "display": null,
            "flex": null,
            "flex_flow": null,
            "grid_area": null,
            "grid_auto_columns": null,
            "grid_auto_flow": null,
            "grid_auto_rows": null,
            "grid_column": null,
            "grid_gap": null,
            "grid_row": null,
            "grid_template_areas": null,
            "grid_template_columns": null,
            "grid_template_rows": null,
            "height": null,
            "justify_content": null,
            "justify_items": null,
            "left": null,
            "margin": null,
            "max_height": null,
            "max_width": null,
            "min_height": null,
            "min_width": null,
            "object_fit": null,
            "object_position": null,
            "order": null,
            "overflow": null,
            "overflow_x": null,
            "overflow_y": null,
            "padding": null,
            "right": null,
            "top": null,
            "visibility": null,
            "width": null
          }
        },
        "2d788e5ea761455ba3722eeee7022cc3": {
          "model_module": "@jupyter-widgets/controls",
          "model_name": "DescriptionStyleModel",
          "model_module_version": "1.5.0",
          "state": {
            "_model_module": "@jupyter-widgets/controls",
            "_model_module_version": "1.5.0",
            "_model_name": "DescriptionStyleModel",
            "_view_count": null,
            "_view_module": "@jupyter-widgets/base",
            "_view_module_version": "1.2.0",
            "_view_name": "StyleView",
            "description_width": ""
          }
        },
        "8a9357f8e29d4110b2ab8ade1c65f68a": {
          "model_module": "@jupyter-widgets/controls",
          "model_name": "HBoxModel",
          "model_module_version": "1.5.0",
          "state": {
            "_dom_classes": [],
            "_model_module": "@jupyter-widgets/controls",
            "_model_module_version": "1.5.0",
            "_model_name": "HBoxModel",
            "_view_count": null,
            "_view_module": "@jupyter-widgets/controls",
            "_view_module_version": "1.5.0",
            "_view_name": "HBoxView",
            "box_style": "",
            "children": [
              "IPY_MODEL_7c5ca00a1fba447caf908bc318608008",
              "IPY_MODEL_ae0762d5d85444dba7116c61bec79ce9",
              "IPY_MODEL_e7ae73776b7145b4afddf2b630e6678f"
            ],
            "layout": "IPY_MODEL_b6ed2df5573343c0a993d8b060ea8398"
          }
        },
        "7c5ca00a1fba447caf908bc318608008": {
          "model_module": "@jupyter-widgets/controls",
          "model_name": "HTMLModel",
          "model_module_version": "1.5.0",
          "state": {
            "_dom_classes": [],
            "_model_module": "@jupyter-widgets/controls",
            "_model_module_version": "1.5.0",
            "_model_name": "HTMLModel",
            "_view_count": null,
            "_view_module": "@jupyter-widgets/controls",
            "_view_module_version": "1.5.0",
            "_view_name": "HTMLView",
            "description": "",
            "description_tooltip": null,
            "layout": "IPY_MODEL_f21cbf69bbce40e295b03c520519f758",
            "placeholder": "​",
            "style": "IPY_MODEL_ce931fae37444c44bfd66741aaff1458",
            "value": "vocab.txt: 100%"
          }
        },
        "ae0762d5d85444dba7116c61bec79ce9": {
          "model_module": "@jupyter-widgets/controls",
          "model_name": "FloatProgressModel",
          "model_module_version": "1.5.0",
          "state": {
            "_dom_classes": [],
            "_model_module": "@jupyter-widgets/controls",
            "_model_module_version": "1.5.0",
            "_model_name": "FloatProgressModel",
            "_view_count": null,
            "_view_module": "@jupyter-widgets/controls",
            "_view_module_version": "1.5.0",
            "_view_name": "ProgressView",
            "bar_style": "success",
            "description": "",
            "description_tooltip": null,
            "layout": "IPY_MODEL_44ed5ea3347d4950804b53077509cea9",
            "max": 213450,
            "min": 0,
            "orientation": "horizontal",
            "style": "IPY_MODEL_17dec6e01a754c80beb48e327d6609e7",
            "value": 213450
          }
        },
        "e7ae73776b7145b4afddf2b630e6678f": {
          "model_module": "@jupyter-widgets/controls",
          "model_name": "HTMLModel",
          "model_module_version": "1.5.0",
          "state": {
            "_dom_classes": [],
            "_model_module": "@jupyter-widgets/controls",
            "_model_module_version": "1.5.0",
            "_model_name": "HTMLModel",
            "_view_count": null,
            "_view_module": "@jupyter-widgets/controls",
            "_view_module_version": "1.5.0",
            "_view_name": "HTMLView",
            "description": "",
            "description_tooltip": null,
            "layout": "IPY_MODEL_0db8361f9a3249d7b2945c65236113f5",
            "placeholder": "​",
            "style": "IPY_MODEL_e80623bf71a74e5f957bc946358b9407",
            "value": " 213k/213k [00:00&lt;00:00, 1.72MB/s]"
          }
        },
        "b6ed2df5573343c0a993d8b060ea8398": {
          "model_module": "@jupyter-widgets/base",
          "model_name": "LayoutModel",
          "model_module_version": "1.2.0",
          "state": {
            "_model_module": "@jupyter-widgets/base",
            "_model_module_version": "1.2.0",
            "_model_name": "LayoutModel",
            "_view_count": null,
            "_view_module": "@jupyter-widgets/base",
            "_view_module_version": "1.2.0",
            "_view_name": "LayoutView",
            "align_content": null,
            "align_items": null,
            "align_self": null,
            "border": null,
            "bottom": null,
            "display": null,
            "flex": null,
            "flex_flow": null,
            "grid_area": null,
            "grid_auto_columns": null,
            "grid_auto_flow": null,
            "grid_auto_rows": null,
            "grid_column": null,
            "grid_gap": null,
            "grid_row": null,
            "grid_template_areas": null,
            "grid_template_columns": null,
            "grid_template_rows": null,
            "height": null,
            "justify_content": null,
            "justify_items": null,
            "left": null,
            "margin": null,
            "max_height": null,
            "max_width": null,
            "min_height": null,
            "min_width": null,
            "object_fit": null,
            "object_position": null,
            "order": null,
            "overflow": null,
            "overflow_x": null,
            "overflow_y": null,
            "padding": null,
            "right": null,
            "top": null,
            "visibility": null,
            "width": null
          }
        },
        "f21cbf69bbce40e295b03c520519f758": {
          "model_module": "@jupyter-widgets/base",
          "model_name": "LayoutModel",
          "model_module_version": "1.2.0",
          "state": {
            "_model_module": "@jupyter-widgets/base",
            "_model_module_version": "1.2.0",
            "_model_name": "LayoutModel",
            "_view_count": null,
            "_view_module": "@jupyter-widgets/base",
            "_view_module_version": "1.2.0",
            "_view_name": "LayoutView",
            "align_content": null,
            "align_items": null,
            "align_self": null,
            "border": null,
            "bottom": null,
            "display": null,
            "flex": null,
            "flex_flow": null,
            "grid_area": null,
            "grid_auto_columns": null,
            "grid_auto_flow": null,
            "grid_auto_rows": null,
            "grid_column": null,
            "grid_gap": null,
            "grid_row": null,
            "grid_template_areas": null,
            "grid_template_columns": null,
            "grid_template_rows": null,
            "height": null,
            "justify_content": null,
            "justify_items": null,
            "left": null,
            "margin": null,
            "max_height": null,
            "max_width": null,
            "min_height": null,
            "min_width": null,
            "object_fit": null,
            "object_position": null,
            "order": null,
            "overflow": null,
            "overflow_x": null,
            "overflow_y": null,
            "padding": null,
            "right": null,
            "top": null,
            "visibility": null,
            "width": null
          }
        },
        "ce931fae37444c44bfd66741aaff1458": {
          "model_module": "@jupyter-widgets/controls",
          "model_name": "DescriptionStyleModel",
          "model_module_version": "1.5.0",
          "state": {
            "_model_module": "@jupyter-widgets/controls",
            "_model_module_version": "1.5.0",
            "_model_name": "DescriptionStyleModel",
            "_view_count": null,
            "_view_module": "@jupyter-widgets/base",
            "_view_module_version": "1.2.0",
            "_view_name": "StyleView",
            "description_width": ""
          }
        },
        "44ed5ea3347d4950804b53077509cea9": {
          "model_module": "@jupyter-widgets/base",
          "model_name": "LayoutModel",
          "model_module_version": "1.2.0",
          "state": {
            "_model_module": "@jupyter-widgets/base",
            "_model_module_version": "1.2.0",
            "_model_name": "LayoutModel",
            "_view_count": null,
            "_view_module": "@jupyter-widgets/base",
            "_view_module_version": "1.2.0",
            "_view_name": "LayoutView",
            "align_content": null,
            "align_items": null,
            "align_self": null,
            "border": null,
            "bottom": null,
            "display": null,
            "flex": null,
            "flex_flow": null,
            "grid_area": null,
            "grid_auto_columns": null,
            "grid_auto_flow": null,
            "grid_auto_rows": null,
            "grid_column": null,
            "grid_gap": null,
            "grid_row": null,
            "grid_template_areas": null,
            "grid_template_columns": null,
            "grid_template_rows": null,
            "height": null,
            "justify_content": null,
            "justify_items": null,
            "left": null,
            "margin": null,
            "max_height": null,
            "max_width": null,
            "min_height": null,
            "min_width": null,
            "object_fit": null,
            "object_position": null,
            "order": null,
            "overflow": null,
            "overflow_x": null,
            "overflow_y": null,
            "padding": null,
            "right": null,
            "top": null,
            "visibility": null,
            "width": null
          }
        },
        "17dec6e01a754c80beb48e327d6609e7": {
          "model_module": "@jupyter-widgets/controls",
          "model_name": "ProgressStyleModel",
          "model_module_version": "1.5.0",
          "state": {
            "_model_module": "@jupyter-widgets/controls",
            "_model_module_version": "1.5.0",
            "_model_name": "ProgressStyleModel",
            "_view_count": null,
            "_view_module": "@jupyter-widgets/base",
            "_view_module_version": "1.2.0",
            "_view_name": "StyleView",
            "bar_color": null,
            "description_width": ""
          }
        },
        "0db8361f9a3249d7b2945c65236113f5": {
          "model_module": "@jupyter-widgets/base",
          "model_name": "LayoutModel",
          "model_module_version": "1.2.0",
          "state": {
            "_model_module": "@jupyter-widgets/base",
            "_model_module_version": "1.2.0",
            "_model_name": "LayoutModel",
            "_view_count": null,
            "_view_module": "@jupyter-widgets/base",
            "_view_module_version": "1.2.0",
            "_view_name": "LayoutView",
            "align_content": null,
            "align_items": null,
            "align_self": null,
            "border": null,
            "bottom": null,
            "display": null,
            "flex": null,
            "flex_flow": null,
            "grid_area": null,
            "grid_auto_columns": null,
            "grid_auto_flow": null,
            "grid_auto_rows": null,
            "grid_column": null,
            "grid_gap": null,
            "grid_row": null,
            "grid_template_areas": null,
            "grid_template_columns": null,
            "grid_template_rows": null,
            "height": null,
            "justify_content": null,
            "justify_items": null,
            "left": null,
            "margin": null,
            "max_height": null,
            "max_width": null,
            "min_height": null,
            "min_width": null,
            "object_fit": null,
            "object_position": null,
            "order": null,
            "overflow": null,
            "overflow_x": null,
            "overflow_y": null,
            "padding": null,
            "right": null,
            "top": null,
            "visibility": null,
            "width": null
          }
        },
        "e80623bf71a74e5f957bc946358b9407": {
          "model_module": "@jupyter-widgets/controls",
          "model_name": "DescriptionStyleModel",
          "model_module_version": "1.5.0",
          "state": {
            "_model_module": "@jupyter-widgets/controls",
            "_model_module_version": "1.5.0",
            "_model_name": "DescriptionStyleModel",
            "_view_count": null,
            "_view_module": "@jupyter-widgets/base",
            "_view_module_version": "1.2.0",
            "_view_name": "StyleView",
            "description_width": ""
          }
        },
        "459354a40ee649609c1f6d04262f0889": {
          "model_module": "@jupyter-widgets/controls",
          "model_name": "HBoxModel",
          "model_module_version": "1.5.0",
          "state": {
            "_dom_classes": [],
            "_model_module": "@jupyter-widgets/controls",
            "_model_module_version": "1.5.0",
            "_model_name": "HBoxModel",
            "_view_count": null,
            "_view_module": "@jupyter-widgets/controls",
            "_view_module_version": "1.5.0",
            "_view_name": "HBoxView",
            "box_style": "",
            "children": [
              "IPY_MODEL_b79199096ef945549065b9fad035f4ca",
              "IPY_MODEL_f56671a63cab460dbd18b72d9569949d",
              "IPY_MODEL_27d9452b6b51491fa00585a26e5eb36d"
            ],
            "layout": "IPY_MODEL_c8241efc45464eac9b726907e14bb474"
          }
        },
        "b79199096ef945549065b9fad035f4ca": {
          "model_module": "@jupyter-widgets/controls",
          "model_name": "HTMLModel",
          "model_module_version": "1.5.0",
          "state": {
            "_dom_classes": [],
            "_model_module": "@jupyter-widgets/controls",
            "_model_module_version": "1.5.0",
            "_model_name": "HTMLModel",
            "_view_count": null,
            "_view_module": "@jupyter-widgets/controls",
            "_view_module_version": "1.5.0",
            "_view_name": "HTMLView",
            "description": "",
            "description_tooltip": null,
            "layout": "IPY_MODEL_c282bb1107474dcc882d17a30bcb5014",
            "placeholder": "​",
            "style": "IPY_MODEL_3e14a3cec4964b4c9b7c8d0913031694",
            "value": "tokenizer.json: 100%"
          }
        },
        "f56671a63cab460dbd18b72d9569949d": {
          "model_module": "@jupyter-widgets/controls",
          "model_name": "FloatProgressModel",
          "model_module_version": "1.5.0",
          "state": {
            "_dom_classes": [],
            "_model_module": "@jupyter-widgets/controls",
            "_model_module_version": "1.5.0",
            "_model_name": "FloatProgressModel",
            "_view_count": null,
            "_view_module": "@jupyter-widgets/controls",
            "_view_module_version": "1.5.0",
            "_view_name": "ProgressView",
            "bar_style": "success",
            "description": "",
            "description_tooltip": null,
            "layout": "IPY_MODEL_608666e4b9ad406892337ac1fcee3ca1",
            "max": 435797,
            "min": 0,
            "orientation": "horizontal",
            "style": "IPY_MODEL_93b27d4178234b6eaebcbb54bc26ac18",
            "value": 435797
          }
        },
        "27d9452b6b51491fa00585a26e5eb36d": {
          "model_module": "@jupyter-widgets/controls",
          "model_name": "HTMLModel",
          "model_module_version": "1.5.0",
          "state": {
            "_dom_classes": [],
            "_model_module": "@jupyter-widgets/controls",
            "_model_module_version": "1.5.0",
            "_model_name": "HTMLModel",
            "_view_count": null,
            "_view_module": "@jupyter-widgets/controls",
            "_view_module_version": "1.5.0",
            "_view_name": "HTMLView",
            "description": "",
            "description_tooltip": null,
            "layout": "IPY_MODEL_9edc39c036ea412b9cd24f3fdb10c68c",
            "placeholder": "​",
            "style": "IPY_MODEL_d7828fdf2d644cbea5b47d7a81df919e",
            "value": " 436k/436k [00:00&lt;00:00, 18.4MB/s]"
          }
        },
        "c8241efc45464eac9b726907e14bb474": {
          "model_module": "@jupyter-widgets/base",
          "model_name": "LayoutModel",
          "model_module_version": "1.2.0",
          "state": {
            "_model_module": "@jupyter-widgets/base",
            "_model_module_version": "1.2.0",
            "_model_name": "LayoutModel",
            "_view_count": null,
            "_view_module": "@jupyter-widgets/base",
            "_view_module_version": "1.2.0",
            "_view_name": "LayoutView",
            "align_content": null,
            "align_items": null,
            "align_self": null,
            "border": null,
            "bottom": null,
            "display": null,
            "flex": null,
            "flex_flow": null,
            "grid_area": null,
            "grid_auto_columns": null,
            "grid_auto_flow": null,
            "grid_auto_rows": null,
            "grid_column": null,
            "grid_gap": null,
            "grid_row": null,
            "grid_template_areas": null,
            "grid_template_columns": null,
            "grid_template_rows": null,
            "height": null,
            "justify_content": null,
            "justify_items": null,
            "left": null,
            "margin": null,
            "max_height": null,
            "max_width": null,
            "min_height": null,
            "min_width": null,
            "object_fit": null,
            "object_position": null,
            "order": null,
            "overflow": null,
            "overflow_x": null,
            "overflow_y": null,
            "padding": null,
            "right": null,
            "top": null,
            "visibility": null,
            "width": null
          }
        },
        "c282bb1107474dcc882d17a30bcb5014": {
          "model_module": "@jupyter-widgets/base",
          "model_name": "LayoutModel",
          "model_module_version": "1.2.0",
          "state": {
            "_model_module": "@jupyter-widgets/base",
            "_model_module_version": "1.2.0",
            "_model_name": "LayoutModel",
            "_view_count": null,
            "_view_module": "@jupyter-widgets/base",
            "_view_module_version": "1.2.0",
            "_view_name": "LayoutView",
            "align_content": null,
            "align_items": null,
            "align_self": null,
            "border": null,
            "bottom": null,
            "display": null,
            "flex": null,
            "flex_flow": null,
            "grid_area": null,
            "grid_auto_columns": null,
            "grid_auto_flow": null,
            "grid_auto_rows": null,
            "grid_column": null,
            "grid_gap": null,
            "grid_row": null,
            "grid_template_areas": null,
            "grid_template_columns": null,
            "grid_template_rows": null,
            "height": null,
            "justify_content": null,
            "justify_items": null,
            "left": null,
            "margin": null,
            "max_height": null,
            "max_width": null,
            "min_height": null,
            "min_width": null,
            "object_fit": null,
            "object_position": null,
            "order": null,
            "overflow": null,
            "overflow_x": null,
            "overflow_y": null,
            "padding": null,
            "right": null,
            "top": null,
            "visibility": null,
            "width": null
          }
        },
        "3e14a3cec4964b4c9b7c8d0913031694": {
          "model_module": "@jupyter-widgets/controls",
          "model_name": "DescriptionStyleModel",
          "model_module_version": "1.5.0",
          "state": {
            "_model_module": "@jupyter-widgets/controls",
            "_model_module_version": "1.5.0",
            "_model_name": "DescriptionStyleModel",
            "_view_count": null,
            "_view_module": "@jupyter-widgets/base",
            "_view_module_version": "1.2.0",
            "_view_name": "StyleView",
            "description_width": ""
          }
        },
        "608666e4b9ad406892337ac1fcee3ca1": {
          "model_module": "@jupyter-widgets/base",
          "model_name": "LayoutModel",
          "model_module_version": "1.2.0",
          "state": {
            "_model_module": "@jupyter-widgets/base",
            "_model_module_version": "1.2.0",
            "_model_name": "LayoutModel",
            "_view_count": null,
            "_view_module": "@jupyter-widgets/base",
            "_view_module_version": "1.2.0",
            "_view_name": "LayoutView",
            "align_content": null,
            "align_items": null,
            "align_self": null,
            "border": null,
            "bottom": null,
            "display": null,
            "flex": null,
            "flex_flow": null,
            "grid_area": null,
            "grid_auto_columns": null,
            "grid_auto_flow": null,
            "grid_auto_rows": null,
            "grid_column": null,
            "grid_gap": null,
            "grid_row": null,
            "grid_template_areas": null,
            "grid_template_columns": null,
            "grid_template_rows": null,
            "height": null,
            "justify_content": null,
            "justify_items": null,
            "left": null,
            "margin": null,
            "max_height": null,
            "max_width": null,
            "min_height": null,
            "min_width": null,
            "object_fit": null,
            "object_position": null,
            "order": null,
            "overflow": null,
            "overflow_x": null,
            "overflow_y": null,
            "padding": null,
            "right": null,
            "top": null,
            "visibility": null,
            "width": null
          }
        },
        "93b27d4178234b6eaebcbb54bc26ac18": {
          "model_module": "@jupyter-widgets/controls",
          "model_name": "ProgressStyleModel",
          "model_module_version": "1.5.0",
          "state": {
            "_model_module": "@jupyter-widgets/controls",
            "_model_module_version": "1.5.0",
            "_model_name": "ProgressStyleModel",
            "_view_count": null,
            "_view_module": "@jupyter-widgets/base",
            "_view_module_version": "1.2.0",
            "_view_name": "StyleView",
            "bar_color": null,
            "description_width": ""
          }
        },
        "9edc39c036ea412b9cd24f3fdb10c68c": {
          "model_module": "@jupyter-widgets/base",
          "model_name": "LayoutModel",
          "model_module_version": "1.2.0",
          "state": {
            "_model_module": "@jupyter-widgets/base",
            "_model_module_version": "1.2.0",
            "_model_name": "LayoutModel",
            "_view_count": null,
            "_view_module": "@jupyter-widgets/base",
            "_view_module_version": "1.2.0",
            "_view_name": "LayoutView",
            "align_content": null,
            "align_items": null,
            "align_self": null,
            "border": null,
            "bottom": null,
            "display": null,
            "flex": null,
            "flex_flow": null,
            "grid_area": null,
            "grid_auto_columns": null,
            "grid_auto_flow": null,
            "grid_auto_rows": null,
            "grid_column": null,
            "grid_gap": null,
            "grid_row": null,
            "grid_template_areas": null,
            "grid_template_columns": null,
            "grid_template_rows": null,
            "height": null,
            "justify_content": null,
            "justify_items": null,
            "left": null,
            "margin": null,
            "max_height": null,
            "max_width": null,
            "min_height": null,
            "min_width": null,
            "object_fit": null,
            "object_position": null,
            "order": null,
            "overflow": null,
            "overflow_x": null,
            "overflow_y": null,
            "padding": null,
            "right": null,
            "top": null,
            "visibility": null,
            "width": null
          }
        },
        "d7828fdf2d644cbea5b47d7a81df919e": {
          "model_module": "@jupyter-widgets/controls",
          "model_name": "DescriptionStyleModel",
          "model_module_version": "1.5.0",
          "state": {
            "_model_module": "@jupyter-widgets/controls",
            "_model_module_version": "1.5.0",
            "_model_name": "DescriptionStyleModel",
            "_view_count": null,
            "_view_module": "@jupyter-widgets/base",
            "_view_module_version": "1.2.0",
            "_view_name": "StyleView",
            "description_width": ""
          }
        },
        "a478faae4fdb47f382c69d9fbb171467": {
          "model_module": "@jupyter-widgets/controls",
          "model_name": "HBoxModel",
          "model_module_version": "1.5.0",
          "state": {
            "_dom_classes": [],
            "_model_module": "@jupyter-widgets/controls",
            "_model_module_version": "1.5.0",
            "_model_name": "HBoxModel",
            "_view_count": null,
            "_view_module": "@jupyter-widgets/controls",
            "_view_module_version": "1.5.0",
            "_view_name": "HBoxView",
            "box_style": "",
            "children": [
              "IPY_MODEL_4c72d2171c00404abae9d623fdeaa1a6",
              "IPY_MODEL_166a4a0575eb4497b759e3db0dc47349",
              "IPY_MODEL_ebe5f8768a434c7caf89196e5088464b"
            ],
            "layout": "IPY_MODEL_e531249163084163900126d2f897c291"
          }
        },
        "4c72d2171c00404abae9d623fdeaa1a6": {
          "model_module": "@jupyter-widgets/controls",
          "model_name": "HTMLModel",
          "model_module_version": "1.5.0",
          "state": {
            "_dom_classes": [],
            "_model_module": "@jupyter-widgets/controls",
            "_model_module_version": "1.5.0",
            "_model_name": "HTMLModel",
            "_view_count": null,
            "_view_module": "@jupyter-widgets/controls",
            "_view_module_version": "1.5.0",
            "_view_name": "HTMLView",
            "description": "",
            "description_tooltip": null,
            "layout": "IPY_MODEL_de1ba5797700498c894c8f5a2f613c86",
            "placeholder": "​",
            "style": "IPY_MODEL_32d5b012edd4486e8a9f76f3bc6627f1",
            "value": "tokenizer_config.json: 100%"
          }
        },
        "166a4a0575eb4497b759e3db0dc47349": {
          "model_module": "@jupyter-widgets/controls",
          "model_name": "FloatProgressModel",
          "model_module_version": "1.5.0",
          "state": {
            "_dom_classes": [],
            "_model_module": "@jupyter-widgets/controls",
            "_model_module_version": "1.5.0",
            "_model_name": "FloatProgressModel",
            "_view_count": null,
            "_view_module": "@jupyter-widgets/controls",
            "_view_module_version": "1.5.0",
            "_view_name": "ProgressView",
            "bar_style": "success",
            "description": "",
            "description_tooltip": null,
            "layout": "IPY_MODEL_c327ec613a70434abf18326caa40114e",
            "max": 49,
            "min": 0,
            "orientation": "horizontal",
            "style": "IPY_MODEL_a78268b0278f4a64840592d376521d60",
            "value": 49
          }
        },
        "ebe5f8768a434c7caf89196e5088464b": {
          "model_module": "@jupyter-widgets/controls",
          "model_name": "HTMLModel",
          "model_module_version": "1.5.0",
          "state": {
            "_dom_classes": [],
            "_model_module": "@jupyter-widgets/controls",
            "_model_module_version": "1.5.0",
            "_model_name": "HTMLModel",
            "_view_count": null,
            "_view_module": "@jupyter-widgets/controls",
            "_view_module_version": "1.5.0",
            "_view_name": "HTMLView",
            "description": "",
            "description_tooltip": null,
            "layout": "IPY_MODEL_570f44eeeaca4df2a47275ce2f275878",
            "placeholder": "​",
            "style": "IPY_MODEL_78be1878fe6f4683aaaf6eec65c29276",
            "value": " 49.0/49.0 [00:00&lt;00:00, 890B/s]"
          }
        },
        "e531249163084163900126d2f897c291": {
          "model_module": "@jupyter-widgets/base",
          "model_name": "LayoutModel",
          "model_module_version": "1.2.0",
          "state": {
            "_model_module": "@jupyter-widgets/base",
            "_model_module_version": "1.2.0",
            "_model_name": "LayoutModel",
            "_view_count": null,
            "_view_module": "@jupyter-widgets/base",
            "_view_module_version": "1.2.0",
            "_view_name": "LayoutView",
            "align_content": null,
            "align_items": null,
            "align_self": null,
            "border": null,
            "bottom": null,
            "display": null,
            "flex": null,
            "flex_flow": null,
            "grid_area": null,
            "grid_auto_columns": null,
            "grid_auto_flow": null,
            "grid_auto_rows": null,
            "grid_column": null,
            "grid_gap": null,
            "grid_row": null,
            "grid_template_areas": null,
            "grid_template_columns": null,
            "grid_template_rows": null,
            "height": null,
            "justify_content": null,
            "justify_items": null,
            "left": null,
            "margin": null,
            "max_height": null,
            "max_width": null,
            "min_height": null,
            "min_width": null,
            "object_fit": null,
            "object_position": null,
            "order": null,
            "overflow": null,
            "overflow_x": null,
            "overflow_y": null,
            "padding": null,
            "right": null,
            "top": null,
            "visibility": null,
            "width": null
          }
        },
        "de1ba5797700498c894c8f5a2f613c86": {
          "model_module": "@jupyter-widgets/base",
          "model_name": "LayoutModel",
          "model_module_version": "1.2.0",
          "state": {
            "_model_module": "@jupyter-widgets/base",
            "_model_module_version": "1.2.0",
            "_model_name": "LayoutModel",
            "_view_count": null,
            "_view_module": "@jupyter-widgets/base",
            "_view_module_version": "1.2.0",
            "_view_name": "LayoutView",
            "align_content": null,
            "align_items": null,
            "align_self": null,
            "border": null,
            "bottom": null,
            "display": null,
            "flex": null,
            "flex_flow": null,
            "grid_area": null,
            "grid_auto_columns": null,
            "grid_auto_flow": null,
            "grid_auto_rows": null,
            "grid_column": null,
            "grid_gap": null,
            "grid_row": null,
            "grid_template_areas": null,
            "grid_template_columns": null,
            "grid_template_rows": null,
            "height": null,
            "justify_content": null,
            "justify_items": null,
            "left": null,
            "margin": null,
            "max_height": null,
            "max_width": null,
            "min_height": null,
            "min_width": null,
            "object_fit": null,
            "object_position": null,
            "order": null,
            "overflow": null,
            "overflow_x": null,
            "overflow_y": null,
            "padding": null,
            "right": null,
            "top": null,
            "visibility": null,
            "width": null
          }
        },
        "32d5b012edd4486e8a9f76f3bc6627f1": {
          "model_module": "@jupyter-widgets/controls",
          "model_name": "DescriptionStyleModel",
          "model_module_version": "1.5.0",
          "state": {
            "_model_module": "@jupyter-widgets/controls",
            "_model_module_version": "1.5.0",
            "_model_name": "DescriptionStyleModel",
            "_view_count": null,
            "_view_module": "@jupyter-widgets/base",
            "_view_module_version": "1.2.0",
            "_view_name": "StyleView",
            "description_width": ""
          }
        },
        "c327ec613a70434abf18326caa40114e": {
          "model_module": "@jupyter-widgets/base",
          "model_name": "LayoutModel",
          "model_module_version": "1.2.0",
          "state": {
            "_model_module": "@jupyter-widgets/base",
            "_model_module_version": "1.2.0",
            "_model_name": "LayoutModel",
            "_view_count": null,
            "_view_module": "@jupyter-widgets/base",
            "_view_module_version": "1.2.0",
            "_view_name": "LayoutView",
            "align_content": null,
            "align_items": null,
            "align_self": null,
            "border": null,
            "bottom": null,
            "display": null,
            "flex": null,
            "flex_flow": null,
            "grid_area": null,
            "grid_auto_columns": null,
            "grid_auto_flow": null,
            "grid_auto_rows": null,
            "grid_column": null,
            "grid_gap": null,
            "grid_row": null,
            "grid_template_areas": null,
            "grid_template_columns": null,
            "grid_template_rows": null,
            "height": null,
            "justify_content": null,
            "justify_items": null,
            "left": null,
            "margin": null,
            "max_height": null,
            "max_width": null,
            "min_height": null,
            "min_width": null,
            "object_fit": null,
            "object_position": null,
            "order": null,
            "overflow": null,
            "overflow_x": null,
            "overflow_y": null,
            "padding": null,
            "right": null,
            "top": null,
            "visibility": null,
            "width": null
          }
        },
        "a78268b0278f4a64840592d376521d60": {
          "model_module": "@jupyter-widgets/controls",
          "model_name": "ProgressStyleModel",
          "model_module_version": "1.5.0",
          "state": {
            "_model_module": "@jupyter-widgets/controls",
            "_model_module_version": "1.5.0",
            "_model_name": "ProgressStyleModel",
            "_view_count": null,
            "_view_module": "@jupyter-widgets/base",
            "_view_module_version": "1.2.0",
            "_view_name": "StyleView",
            "bar_color": null,
            "description_width": ""
          }
        },
        "570f44eeeaca4df2a47275ce2f275878": {
          "model_module": "@jupyter-widgets/base",
          "model_name": "LayoutModel",
          "model_module_version": "1.2.0",
          "state": {
            "_model_module": "@jupyter-widgets/base",
            "_model_module_version": "1.2.0",
            "_model_name": "LayoutModel",
            "_view_count": null,
            "_view_module": "@jupyter-widgets/base",
            "_view_module_version": "1.2.0",
            "_view_name": "LayoutView",
            "align_content": null,
            "align_items": null,
            "align_self": null,
            "border": null,
            "bottom": null,
            "display": null,
            "flex": null,
            "flex_flow": null,
            "grid_area": null,
            "grid_auto_columns": null,
            "grid_auto_flow": null,
            "grid_auto_rows": null,
            "grid_column": null,
            "grid_gap": null,
            "grid_row": null,
            "grid_template_areas": null,
            "grid_template_columns": null,
            "grid_template_rows": null,
            "height": null,
            "justify_content": null,
            "justify_items": null,
            "left": null,
            "margin": null,
            "max_height": null,
            "max_width": null,
            "min_height": null,
            "min_width": null,
            "object_fit": null,
            "object_position": null,
            "order": null,
            "overflow": null,
            "overflow_x": null,
            "overflow_y": null,
            "padding": null,
            "right": null,
            "top": null,
            "visibility": null,
            "width": null
          }
        },
        "78be1878fe6f4683aaaf6eec65c29276": {
          "model_module": "@jupyter-widgets/controls",
          "model_name": "DescriptionStyleModel",
          "model_module_version": "1.5.0",
          "state": {
            "_model_module": "@jupyter-widgets/controls",
            "_model_module_version": "1.5.0",
            "_model_name": "DescriptionStyleModel",
            "_view_count": null,
            "_view_module": "@jupyter-widgets/base",
            "_view_module_version": "1.2.0",
            "_view_name": "StyleView",
            "description_width": ""
          }
        },
        "ef6631b73ceb47c1a363d70c36df0099": {
          "model_module": "@jupyter-widgets/controls",
          "model_name": "HBoxModel",
          "model_module_version": "1.5.0",
          "state": {
            "_dom_classes": [],
            "_model_module": "@jupyter-widgets/controls",
            "_model_module_version": "1.5.0",
            "_model_name": "HBoxModel",
            "_view_count": null,
            "_view_module": "@jupyter-widgets/controls",
            "_view_module_version": "1.5.0",
            "_view_name": "HBoxView",
            "box_style": "",
            "children": [
              "IPY_MODEL_06612e9bd6474144bd2319c94a1c637b",
              "IPY_MODEL_414cc605f4844feca4a675e41d439014",
              "IPY_MODEL_37e1cb662f8946d39725003575b0901a"
            ],
            "layout": "IPY_MODEL_5329d9b93fc14ebc8ffddeb47b8f9979"
          }
        },
        "06612e9bd6474144bd2319c94a1c637b": {
          "model_module": "@jupyter-widgets/controls",
          "model_name": "HTMLModel",
          "model_module_version": "1.5.0",
          "state": {
            "_dom_classes": [],
            "_model_module": "@jupyter-widgets/controls",
            "_model_module_version": "1.5.0",
            "_model_name": "HTMLModel",
            "_view_count": null,
            "_view_module": "@jupyter-widgets/controls",
            "_view_module_version": "1.5.0",
            "_view_name": "HTMLView",
            "description": "",
            "description_tooltip": null,
            "layout": "IPY_MODEL_26b45171123e4543beb9ab72b32db336",
            "placeholder": "​",
            "style": "IPY_MODEL_faf454578ddf42de828eaa071a307267",
            "value": "config.json: 100%"
          }
        },
        "414cc605f4844feca4a675e41d439014": {
          "model_module": "@jupyter-widgets/controls",
          "model_name": "FloatProgressModel",
          "model_module_version": "1.5.0",
          "state": {
            "_dom_classes": [],
            "_model_module": "@jupyter-widgets/controls",
            "_model_module_version": "1.5.0",
            "_model_name": "FloatProgressModel",
            "_view_count": null,
            "_view_module": "@jupyter-widgets/controls",
            "_view_module_version": "1.5.0",
            "_view_name": "ProgressView",
            "bar_style": "success",
            "description": "",
            "description_tooltip": null,
            "layout": "IPY_MODEL_c9f6fdb8236b4ceda7433c6dc10766b2",
            "max": 473,
            "min": 0,
            "orientation": "horizontal",
            "style": "IPY_MODEL_62262aeb5a27416d904dcf3e8737690a",
            "value": 473
          }
        },
        "37e1cb662f8946d39725003575b0901a": {
          "model_module": "@jupyter-widgets/controls",
          "model_name": "HTMLModel",
          "model_module_version": "1.5.0",
          "state": {
            "_dom_classes": [],
            "_model_module": "@jupyter-widgets/controls",
            "_model_module_version": "1.5.0",
            "_model_name": "HTMLModel",
            "_view_count": null,
            "_view_module": "@jupyter-widgets/controls",
            "_view_module_version": "1.5.0",
            "_view_name": "HTMLView",
            "description": "",
            "description_tooltip": null,
            "layout": "IPY_MODEL_b3610d9367384142a685aab3370c737d",
            "placeholder": "​",
            "style": "IPY_MODEL_3514f82611c44618888a373dd781a952",
            "value": " 473/473 [00:00&lt;00:00, 14.5kB/s]"
          }
        },
        "5329d9b93fc14ebc8ffddeb47b8f9979": {
          "model_module": "@jupyter-widgets/base",
          "model_name": "LayoutModel",
          "model_module_version": "1.2.0",
          "state": {
            "_model_module": "@jupyter-widgets/base",
            "_model_module_version": "1.2.0",
            "_model_name": "LayoutModel",
            "_view_count": null,
            "_view_module": "@jupyter-widgets/base",
            "_view_module_version": "1.2.0",
            "_view_name": "LayoutView",
            "align_content": null,
            "align_items": null,
            "align_self": null,
            "border": null,
            "bottom": null,
            "display": null,
            "flex": null,
            "flex_flow": null,
            "grid_area": null,
            "grid_auto_columns": null,
            "grid_auto_flow": null,
            "grid_auto_rows": null,
            "grid_column": null,
            "grid_gap": null,
            "grid_row": null,
            "grid_template_areas": null,
            "grid_template_columns": null,
            "grid_template_rows": null,
            "height": null,
            "justify_content": null,
            "justify_items": null,
            "left": null,
            "margin": null,
            "max_height": null,
            "max_width": null,
            "min_height": null,
            "min_width": null,
            "object_fit": null,
            "object_position": null,
            "order": null,
            "overflow": null,
            "overflow_x": null,
            "overflow_y": null,
            "padding": null,
            "right": null,
            "top": null,
            "visibility": null,
            "width": null
          }
        },
        "26b45171123e4543beb9ab72b32db336": {
          "model_module": "@jupyter-widgets/base",
          "model_name": "LayoutModel",
          "model_module_version": "1.2.0",
          "state": {
            "_model_module": "@jupyter-widgets/base",
            "_model_module_version": "1.2.0",
            "_model_name": "LayoutModel",
            "_view_count": null,
            "_view_module": "@jupyter-widgets/base",
            "_view_module_version": "1.2.0",
            "_view_name": "LayoutView",
            "align_content": null,
            "align_items": null,
            "align_self": null,
            "border": null,
            "bottom": null,
            "display": null,
            "flex": null,
            "flex_flow": null,
            "grid_area": null,
            "grid_auto_columns": null,
            "grid_auto_flow": null,
            "grid_auto_rows": null,
            "grid_column": null,
            "grid_gap": null,
            "grid_row": null,
            "grid_template_areas": null,
            "grid_template_columns": null,
            "grid_template_rows": null,
            "height": null,
            "justify_content": null,
            "justify_items": null,
            "left": null,
            "margin": null,
            "max_height": null,
            "max_width": null,
            "min_height": null,
            "min_width": null,
            "object_fit": null,
            "object_position": null,
            "order": null,
            "overflow": null,
            "overflow_x": null,
            "overflow_y": null,
            "padding": null,
            "right": null,
            "top": null,
            "visibility": null,
            "width": null
          }
        },
        "faf454578ddf42de828eaa071a307267": {
          "model_module": "@jupyter-widgets/controls",
          "model_name": "DescriptionStyleModel",
          "model_module_version": "1.5.0",
          "state": {
            "_model_module": "@jupyter-widgets/controls",
            "_model_module_version": "1.5.0",
            "_model_name": "DescriptionStyleModel",
            "_view_count": null,
            "_view_module": "@jupyter-widgets/base",
            "_view_module_version": "1.2.0",
            "_view_name": "StyleView",
            "description_width": ""
          }
        },
        "c9f6fdb8236b4ceda7433c6dc10766b2": {
          "model_module": "@jupyter-widgets/base",
          "model_name": "LayoutModel",
          "model_module_version": "1.2.0",
          "state": {
            "_model_module": "@jupyter-widgets/base",
            "_model_module_version": "1.2.0",
            "_model_name": "LayoutModel",
            "_view_count": null,
            "_view_module": "@jupyter-widgets/base",
            "_view_module_version": "1.2.0",
            "_view_name": "LayoutView",
            "align_content": null,
            "align_items": null,
            "align_self": null,
            "border": null,
            "bottom": null,
            "display": null,
            "flex": null,
            "flex_flow": null,
            "grid_area": null,
            "grid_auto_columns": null,
            "grid_auto_flow": null,
            "grid_auto_rows": null,
            "grid_column": null,
            "grid_gap": null,
            "grid_row": null,
            "grid_template_areas": null,
            "grid_template_columns": null,
            "grid_template_rows": null,
            "height": null,
            "justify_content": null,
            "justify_items": null,
            "left": null,
            "margin": null,
            "max_height": null,
            "max_width": null,
            "min_height": null,
            "min_width": null,
            "object_fit": null,
            "object_position": null,
            "order": null,
            "overflow": null,
            "overflow_x": null,
            "overflow_y": null,
            "padding": null,
            "right": null,
            "top": null,
            "visibility": null,
            "width": null
          }
        },
        "62262aeb5a27416d904dcf3e8737690a": {
          "model_module": "@jupyter-widgets/controls",
          "model_name": "ProgressStyleModel",
          "model_module_version": "1.5.0",
          "state": {
            "_model_module": "@jupyter-widgets/controls",
            "_model_module_version": "1.5.0",
            "_model_name": "ProgressStyleModel",
            "_view_count": null,
            "_view_module": "@jupyter-widgets/base",
            "_view_module_version": "1.2.0",
            "_view_name": "StyleView",
            "bar_color": null,
            "description_width": ""
          }
        },
        "b3610d9367384142a685aab3370c737d": {
          "model_module": "@jupyter-widgets/base",
          "model_name": "LayoutModel",
          "model_module_version": "1.2.0",
          "state": {
            "_model_module": "@jupyter-widgets/base",
            "_model_module_version": "1.2.0",
            "_model_name": "LayoutModel",
            "_view_count": null,
            "_view_module": "@jupyter-widgets/base",
            "_view_module_version": "1.2.0",
            "_view_name": "LayoutView",
            "align_content": null,
            "align_items": null,
            "align_self": null,
            "border": null,
            "bottom": null,
            "display": null,
            "flex": null,
            "flex_flow": null,
            "grid_area": null,
            "grid_auto_columns": null,
            "grid_auto_flow": null,
            "grid_auto_rows": null,
            "grid_column": null,
            "grid_gap": null,
            "grid_row": null,
            "grid_template_areas": null,
            "grid_template_columns": null,
            "grid_template_rows": null,
            "height": null,
            "justify_content": null,
            "justify_items": null,
            "left": null,
            "margin": null,
            "max_height": null,
            "max_width": null,
            "min_height": null,
            "min_width": null,
            "object_fit": null,
            "object_position": null,
            "order": null,
            "overflow": null,
            "overflow_x": null,
            "overflow_y": null,
            "padding": null,
            "right": null,
            "top": null,
            "visibility": null,
            "width": null
          }
        },
        "3514f82611c44618888a373dd781a952": {
          "model_module": "@jupyter-widgets/controls",
          "model_name": "DescriptionStyleModel",
          "model_module_version": "1.5.0",
          "state": {
            "_model_module": "@jupyter-widgets/controls",
            "_model_module_version": "1.5.0",
            "_model_name": "DescriptionStyleModel",
            "_view_count": null,
            "_view_module": "@jupyter-widgets/base",
            "_view_module_version": "1.2.0",
            "_view_name": "StyleView",
            "description_width": ""
          }
        },
        "be80b9ded4414bcfb4e7c93b31efcc3c": {
          "model_module": "@jupyter-widgets/controls",
          "model_name": "HBoxModel",
          "model_module_version": "1.5.0",
          "state": {
            "_dom_classes": [],
            "_model_module": "@jupyter-widgets/controls",
            "_model_module_version": "1.5.0",
            "_model_name": "HBoxModel",
            "_view_count": null,
            "_view_module": "@jupyter-widgets/controls",
            "_view_module_version": "1.5.0",
            "_view_name": "HBoxView",
            "box_style": "",
            "children": [
              "IPY_MODEL_c6032f7781d7414391c30184cd73fb13",
              "IPY_MODEL_fff82f8816d4426b80fa17b72db4b919",
              "IPY_MODEL_19e4912ce9b74038b27ca2f820ad5f22"
            ],
            "layout": "IPY_MODEL_355c3f6b538b494683105013d444fd08"
          }
        },
        "c6032f7781d7414391c30184cd73fb13": {
          "model_module": "@jupyter-widgets/controls",
          "model_name": "HTMLModel",
          "model_module_version": "1.5.0",
          "state": {
            "_dom_classes": [],
            "_model_module": "@jupyter-widgets/controls",
            "_model_module_version": "1.5.0",
            "_model_name": "HTMLModel",
            "_view_count": null,
            "_view_module": "@jupyter-widgets/controls",
            "_view_module_version": "1.5.0",
            "_view_name": "HTMLView",
            "description": "",
            "description_tooltip": null,
            "layout": "IPY_MODEL_92a889db9bec42c3b8a151f40474ed19",
            "placeholder": "​",
            "style": "IPY_MODEL_7ff8046fdb48473083417bd1aa7a1460",
            "value": "vocab.txt: 100%"
          }
        },
        "fff82f8816d4426b80fa17b72db4b919": {
          "model_module": "@jupyter-widgets/controls",
          "model_name": "FloatProgressModel",
          "model_module_version": "1.5.0",
          "state": {
            "_dom_classes": [],
            "_model_module": "@jupyter-widgets/controls",
            "_model_module_version": "1.5.0",
            "_model_name": "FloatProgressModel",
            "_view_count": null,
            "_view_module": "@jupyter-widgets/controls",
            "_view_module_version": "1.5.0",
            "_view_name": "ProgressView",
            "bar_style": "success",
            "description": "",
            "description_tooltip": null,
            "layout": "IPY_MODEL_600f8668513e4a688ed02d52fd5dfda0",
            "max": 213450,
            "min": 0,
            "orientation": "horizontal",
            "style": "IPY_MODEL_6b2146783f68492eba0b02b7198c0d06",
            "value": 213450
          }
        },
        "19e4912ce9b74038b27ca2f820ad5f22": {
          "model_module": "@jupyter-widgets/controls",
          "model_name": "HTMLModel",
          "model_module_version": "1.5.0",
          "state": {
            "_dom_classes": [],
            "_model_module": "@jupyter-widgets/controls",
            "_model_module_version": "1.5.0",
            "_model_name": "HTMLModel",
            "_view_count": null,
            "_view_module": "@jupyter-widgets/controls",
            "_view_module_version": "1.5.0",
            "_view_name": "HTMLView",
            "description": "",
            "description_tooltip": null,
            "layout": "IPY_MODEL_8a731efa94074c5a938a32eb84b79c0b",
            "placeholder": "​",
            "style": "IPY_MODEL_7e1bcc4a5c24498d85c33b61f6fe704f",
            "value": " 213k/213k [00:00&lt;00:00, 3.35MB/s]"
          }
        },
        "355c3f6b538b494683105013d444fd08": {
          "model_module": "@jupyter-widgets/base",
          "model_name": "LayoutModel",
          "model_module_version": "1.2.0",
          "state": {
            "_model_module": "@jupyter-widgets/base",
            "_model_module_version": "1.2.0",
            "_model_name": "LayoutModel",
            "_view_count": null,
            "_view_module": "@jupyter-widgets/base",
            "_view_module_version": "1.2.0",
            "_view_name": "LayoutView",
            "align_content": null,
            "align_items": null,
            "align_self": null,
            "border": null,
            "bottom": null,
            "display": null,
            "flex": null,
            "flex_flow": null,
            "grid_area": null,
            "grid_auto_columns": null,
            "grid_auto_flow": null,
            "grid_auto_rows": null,
            "grid_column": null,
            "grid_gap": null,
            "grid_row": null,
            "grid_template_areas": null,
            "grid_template_columns": null,
            "grid_template_rows": null,
            "height": null,
            "justify_content": null,
            "justify_items": null,
            "left": null,
            "margin": null,
            "max_height": null,
            "max_width": null,
            "min_height": null,
            "min_width": null,
            "object_fit": null,
            "object_position": null,
            "order": null,
            "overflow": null,
            "overflow_x": null,
            "overflow_y": null,
            "padding": null,
            "right": null,
            "top": null,
            "visibility": null,
            "width": null
          }
        },
        "92a889db9bec42c3b8a151f40474ed19": {
          "model_module": "@jupyter-widgets/base",
          "model_name": "LayoutModel",
          "model_module_version": "1.2.0",
          "state": {
            "_model_module": "@jupyter-widgets/base",
            "_model_module_version": "1.2.0",
            "_model_name": "LayoutModel",
            "_view_count": null,
            "_view_module": "@jupyter-widgets/base",
            "_view_module_version": "1.2.0",
            "_view_name": "LayoutView",
            "align_content": null,
            "align_items": null,
            "align_self": null,
            "border": null,
            "bottom": null,
            "display": null,
            "flex": null,
            "flex_flow": null,
            "grid_area": null,
            "grid_auto_columns": null,
            "grid_auto_flow": null,
            "grid_auto_rows": null,
            "grid_column": null,
            "grid_gap": null,
            "grid_row": null,
            "grid_template_areas": null,
            "grid_template_columns": null,
            "grid_template_rows": null,
            "height": null,
            "justify_content": null,
            "justify_items": null,
            "left": null,
            "margin": null,
            "max_height": null,
            "max_width": null,
            "min_height": null,
            "min_width": null,
            "object_fit": null,
            "object_position": null,
            "order": null,
            "overflow": null,
            "overflow_x": null,
            "overflow_y": null,
            "padding": null,
            "right": null,
            "top": null,
            "visibility": null,
            "width": null
          }
        },
        "7ff8046fdb48473083417bd1aa7a1460": {
          "model_module": "@jupyter-widgets/controls",
          "model_name": "DescriptionStyleModel",
          "model_module_version": "1.5.0",
          "state": {
            "_model_module": "@jupyter-widgets/controls",
            "_model_module_version": "1.5.0",
            "_model_name": "DescriptionStyleModel",
            "_view_count": null,
            "_view_module": "@jupyter-widgets/base",
            "_view_module_version": "1.2.0",
            "_view_name": "StyleView",
            "description_width": ""
          }
        },
        "600f8668513e4a688ed02d52fd5dfda0": {
          "model_module": "@jupyter-widgets/base",
          "model_name": "LayoutModel",
          "model_module_version": "1.2.0",
          "state": {
            "_model_module": "@jupyter-widgets/base",
            "_model_module_version": "1.2.0",
            "_model_name": "LayoutModel",
            "_view_count": null,
            "_view_module": "@jupyter-widgets/base",
            "_view_module_version": "1.2.0",
            "_view_name": "LayoutView",
            "align_content": null,
            "align_items": null,
            "align_self": null,
            "border": null,
            "bottom": null,
            "display": null,
            "flex": null,
            "flex_flow": null,
            "grid_area": null,
            "grid_auto_columns": null,
            "grid_auto_flow": null,
            "grid_auto_rows": null,
            "grid_column": null,
            "grid_gap": null,
            "grid_row": null,
            "grid_template_areas": null,
            "grid_template_columns": null,
            "grid_template_rows": null,
            "height": null,
            "justify_content": null,
            "justify_items": null,
            "left": null,
            "margin": null,
            "max_height": null,
            "max_width": null,
            "min_height": null,
            "min_width": null,
            "object_fit": null,
            "object_position": null,
            "order": null,
            "overflow": null,
            "overflow_x": null,
            "overflow_y": null,
            "padding": null,
            "right": null,
            "top": null,
            "visibility": null,
            "width": null
          }
        },
        "6b2146783f68492eba0b02b7198c0d06": {
          "model_module": "@jupyter-widgets/controls",
          "model_name": "ProgressStyleModel",
          "model_module_version": "1.5.0",
          "state": {
            "_model_module": "@jupyter-widgets/controls",
            "_model_module_version": "1.5.0",
            "_model_name": "ProgressStyleModel",
            "_view_count": null,
            "_view_module": "@jupyter-widgets/base",
            "_view_module_version": "1.2.0",
            "_view_name": "StyleView",
            "bar_color": null,
            "description_width": ""
          }
        },
        "8a731efa94074c5a938a32eb84b79c0b": {
          "model_module": "@jupyter-widgets/base",
          "model_name": "LayoutModel",
          "model_module_version": "1.2.0",
          "state": {
            "_model_module": "@jupyter-widgets/base",
            "_model_module_version": "1.2.0",
            "_model_name": "LayoutModel",
            "_view_count": null,
            "_view_module": "@jupyter-widgets/base",
            "_view_module_version": "1.2.0",
            "_view_name": "LayoutView",
            "align_content": null,
            "align_items": null,
            "align_self": null,
            "border": null,
            "bottom": null,
            "display": null,
            "flex": null,
            "flex_flow": null,
            "grid_area": null,
            "grid_auto_columns": null,
            "grid_auto_flow": null,
            "grid_auto_rows": null,
            "grid_column": null,
            "grid_gap": null,
            "grid_row": null,
            "grid_template_areas": null,
            "grid_template_columns": null,
            "grid_template_rows": null,
            "height": null,
            "justify_content": null,
            "justify_items": null,
            "left": null,
            "margin": null,
            "max_height": null,
            "max_width": null,
            "min_height": null,
            "min_width": null,
            "object_fit": null,
            "object_position": null,
            "order": null,
            "overflow": null,
            "overflow_x": null,
            "overflow_y": null,
            "padding": null,
            "right": null,
            "top": null,
            "visibility": null,
            "width": null
          }
        },
        "7e1bcc4a5c24498d85c33b61f6fe704f": {
          "model_module": "@jupyter-widgets/controls",
          "model_name": "DescriptionStyleModel",
          "model_module_version": "1.5.0",
          "state": {
            "_model_module": "@jupyter-widgets/controls",
            "_model_module_version": "1.5.0",
            "_model_name": "DescriptionStyleModel",
            "_view_count": null,
            "_view_module": "@jupyter-widgets/base",
            "_view_module_version": "1.2.0",
            "_view_name": "StyleView",
            "description_width": ""
          }
        },
        "38217f80b0af4aa3861a9b57b9a042f6": {
          "model_module": "@jupyter-widgets/controls",
          "model_name": "HBoxModel",
          "model_module_version": "1.5.0",
          "state": {
            "_dom_classes": [],
            "_model_module": "@jupyter-widgets/controls",
            "_model_module_version": "1.5.0",
            "_model_name": "HBoxModel",
            "_view_count": null,
            "_view_module": "@jupyter-widgets/controls",
            "_view_module_version": "1.5.0",
            "_view_name": "HBoxView",
            "box_style": "",
            "children": [
              "IPY_MODEL_d054c395c2524fd8b51cc4b8cfec3200",
              "IPY_MODEL_82ffa0a0ca3b40a18ee3d34be2c53706",
              "IPY_MODEL_9ff2092f1a4b487dbe7b823333a2d6f4"
            ],
            "layout": "IPY_MODEL_8b6cdb862ed24cde9ba2f1c52bc83584"
          }
        },
        "d054c395c2524fd8b51cc4b8cfec3200": {
          "model_module": "@jupyter-widgets/controls",
          "model_name": "HTMLModel",
          "model_module_version": "1.5.0",
          "state": {
            "_dom_classes": [],
            "_model_module": "@jupyter-widgets/controls",
            "_model_module_version": "1.5.0",
            "_model_name": "HTMLModel",
            "_view_count": null,
            "_view_module": "@jupyter-widgets/controls",
            "_view_module_version": "1.5.0",
            "_view_name": "HTMLView",
            "description": "",
            "description_tooltip": null,
            "layout": "IPY_MODEL_40eaf8b23067410f813442b5ba15c110",
            "placeholder": "​",
            "style": "IPY_MODEL_1bf1f84cd9fd4e3fa42891d3ebd4f9cc",
            "value": "tokenizer.json: 100%"
          }
        },
        "82ffa0a0ca3b40a18ee3d34be2c53706": {
          "model_module": "@jupyter-widgets/controls",
          "model_name": "FloatProgressModel",
          "model_module_version": "1.5.0",
          "state": {
            "_dom_classes": [],
            "_model_module": "@jupyter-widgets/controls",
            "_model_module_version": "1.5.0",
            "_model_name": "FloatProgressModel",
            "_view_count": null,
            "_view_module": "@jupyter-widgets/controls",
            "_view_module_version": "1.5.0",
            "_view_name": "ProgressView",
            "bar_style": "success",
            "description": "",
            "description_tooltip": null,
            "layout": "IPY_MODEL_e56b30d5721d4ab2827dfb9b8d538c39",
            "max": 435797,
            "min": 0,
            "orientation": "horizontal",
            "style": "IPY_MODEL_cd488dbcf7c54614a14773f4fb66a431",
            "value": 435797
          }
        },
        "9ff2092f1a4b487dbe7b823333a2d6f4": {
          "model_module": "@jupyter-widgets/controls",
          "model_name": "HTMLModel",
          "model_module_version": "1.5.0",
          "state": {
            "_dom_classes": [],
            "_model_module": "@jupyter-widgets/controls",
            "_model_module_version": "1.5.0",
            "_model_name": "HTMLModel",
            "_view_count": null,
            "_view_module": "@jupyter-widgets/controls",
            "_view_module_version": "1.5.0",
            "_view_name": "HTMLView",
            "description": "",
            "description_tooltip": null,
            "layout": "IPY_MODEL_933d3ce96bd44a4a92559911886e69fd",
            "placeholder": "​",
            "style": "IPY_MODEL_35a7f6b739f149f99cb2958d35aeeb19",
            "value": " 436k/436k [00:00&lt;00:00, 2.48MB/s]"
          }
        },
        "8b6cdb862ed24cde9ba2f1c52bc83584": {
          "model_module": "@jupyter-widgets/base",
          "model_name": "LayoutModel",
          "model_module_version": "1.2.0",
          "state": {
            "_model_module": "@jupyter-widgets/base",
            "_model_module_version": "1.2.0",
            "_model_name": "LayoutModel",
            "_view_count": null,
            "_view_module": "@jupyter-widgets/base",
            "_view_module_version": "1.2.0",
            "_view_name": "LayoutView",
            "align_content": null,
            "align_items": null,
            "align_self": null,
            "border": null,
            "bottom": null,
            "display": null,
            "flex": null,
            "flex_flow": null,
            "grid_area": null,
            "grid_auto_columns": null,
            "grid_auto_flow": null,
            "grid_auto_rows": null,
            "grid_column": null,
            "grid_gap": null,
            "grid_row": null,
            "grid_template_areas": null,
            "grid_template_columns": null,
            "grid_template_rows": null,
            "height": null,
            "justify_content": null,
            "justify_items": null,
            "left": null,
            "margin": null,
            "max_height": null,
            "max_width": null,
            "min_height": null,
            "min_width": null,
            "object_fit": null,
            "object_position": null,
            "order": null,
            "overflow": null,
            "overflow_x": null,
            "overflow_y": null,
            "padding": null,
            "right": null,
            "top": null,
            "visibility": null,
            "width": null
          }
        },
        "40eaf8b23067410f813442b5ba15c110": {
          "model_module": "@jupyter-widgets/base",
          "model_name": "LayoutModel",
          "model_module_version": "1.2.0",
          "state": {
            "_model_module": "@jupyter-widgets/base",
            "_model_module_version": "1.2.0",
            "_model_name": "LayoutModel",
            "_view_count": null,
            "_view_module": "@jupyter-widgets/base",
            "_view_module_version": "1.2.0",
            "_view_name": "LayoutView",
            "align_content": null,
            "align_items": null,
            "align_self": null,
            "border": null,
            "bottom": null,
            "display": null,
            "flex": null,
            "flex_flow": null,
            "grid_area": null,
            "grid_auto_columns": null,
            "grid_auto_flow": null,
            "grid_auto_rows": null,
            "grid_column": null,
            "grid_gap": null,
            "grid_row": null,
            "grid_template_areas": null,
            "grid_template_columns": null,
            "grid_template_rows": null,
            "height": null,
            "justify_content": null,
            "justify_items": null,
            "left": null,
            "margin": null,
            "max_height": null,
            "max_width": null,
            "min_height": null,
            "min_width": null,
            "object_fit": null,
            "object_position": null,
            "order": null,
            "overflow": null,
            "overflow_x": null,
            "overflow_y": null,
            "padding": null,
            "right": null,
            "top": null,
            "visibility": null,
            "width": null
          }
        },
        "1bf1f84cd9fd4e3fa42891d3ebd4f9cc": {
          "model_module": "@jupyter-widgets/controls",
          "model_name": "DescriptionStyleModel",
          "model_module_version": "1.5.0",
          "state": {
            "_model_module": "@jupyter-widgets/controls",
            "_model_module_version": "1.5.0",
            "_model_name": "DescriptionStyleModel",
            "_view_count": null,
            "_view_module": "@jupyter-widgets/base",
            "_view_module_version": "1.2.0",
            "_view_name": "StyleView",
            "description_width": ""
          }
        },
        "e56b30d5721d4ab2827dfb9b8d538c39": {
          "model_module": "@jupyter-widgets/base",
          "model_name": "LayoutModel",
          "model_module_version": "1.2.0",
          "state": {
            "_model_module": "@jupyter-widgets/base",
            "_model_module_version": "1.2.0",
            "_model_name": "LayoutModel",
            "_view_count": null,
            "_view_module": "@jupyter-widgets/base",
            "_view_module_version": "1.2.0",
            "_view_name": "LayoutView",
            "align_content": null,
            "align_items": null,
            "align_self": null,
            "border": null,
            "bottom": null,
            "display": null,
            "flex": null,
            "flex_flow": null,
            "grid_area": null,
            "grid_auto_columns": null,
            "grid_auto_flow": null,
            "grid_auto_rows": null,
            "grid_column": null,
            "grid_gap": null,
            "grid_row": null,
            "grid_template_areas": null,
            "grid_template_columns": null,
            "grid_template_rows": null,
            "height": null,
            "justify_content": null,
            "justify_items": null,
            "left": null,
            "margin": null,
            "max_height": null,
            "max_width": null,
            "min_height": null,
            "min_width": null,
            "object_fit": null,
            "object_position": null,
            "order": null,
            "overflow": null,
            "overflow_x": null,
            "overflow_y": null,
            "padding": null,
            "right": null,
            "top": null,
            "visibility": null,
            "width": null
          }
        },
        "cd488dbcf7c54614a14773f4fb66a431": {
          "model_module": "@jupyter-widgets/controls",
          "model_name": "ProgressStyleModel",
          "model_module_version": "1.5.0",
          "state": {
            "_model_module": "@jupyter-widgets/controls",
            "_model_module_version": "1.5.0",
            "_model_name": "ProgressStyleModel",
            "_view_count": null,
            "_view_module": "@jupyter-widgets/base",
            "_view_module_version": "1.2.0",
            "_view_name": "StyleView",
            "bar_color": null,
            "description_width": ""
          }
        },
        "933d3ce96bd44a4a92559911886e69fd": {
          "model_module": "@jupyter-widgets/base",
          "model_name": "LayoutModel",
          "model_module_version": "1.2.0",
          "state": {
            "_model_module": "@jupyter-widgets/base",
            "_model_module_version": "1.2.0",
            "_model_name": "LayoutModel",
            "_view_count": null,
            "_view_module": "@jupyter-widgets/base",
            "_view_module_version": "1.2.0",
            "_view_name": "LayoutView",
            "align_content": null,
            "align_items": null,
            "align_self": null,
            "border": null,
            "bottom": null,
            "display": null,
            "flex": null,
            "flex_flow": null,
            "grid_area": null,
            "grid_auto_columns": null,
            "grid_auto_flow": null,
            "grid_auto_rows": null,
            "grid_column": null,
            "grid_gap": null,
            "grid_row": null,
            "grid_template_areas": null,
            "grid_template_columns": null,
            "grid_template_rows": null,
            "height": null,
            "justify_content": null,
            "justify_items": null,
            "left": null,
            "margin": null,
            "max_height": null,
            "max_width": null,
            "min_height": null,
            "min_width": null,
            "object_fit": null,
            "object_position": null,
            "order": null,
            "overflow": null,
            "overflow_x": null,
            "overflow_y": null,
            "padding": null,
            "right": null,
            "top": null,
            "visibility": null,
            "width": null
          }
        },
        "35a7f6b739f149f99cb2958d35aeeb19": {
          "model_module": "@jupyter-widgets/controls",
          "model_name": "DescriptionStyleModel",
          "model_module_version": "1.5.0",
          "state": {
            "_model_module": "@jupyter-widgets/controls",
            "_model_module_version": "1.5.0",
            "_model_name": "DescriptionStyleModel",
            "_view_count": null,
            "_view_module": "@jupyter-widgets/base",
            "_view_module_version": "1.2.0",
            "_view_name": "StyleView",
            "description_width": ""
          }
        },
        "3374ffdcad16483ba192c0744588097c": {
          "model_module": "@jupyter-widgets/controls",
          "model_name": "HBoxModel",
          "model_module_version": "1.5.0",
          "state": {
            "_dom_classes": [],
            "_model_module": "@jupyter-widgets/controls",
            "_model_module_version": "1.5.0",
            "_model_name": "HBoxModel",
            "_view_count": null,
            "_view_module": "@jupyter-widgets/controls",
            "_view_module_version": "1.5.0",
            "_view_name": "HBoxView",
            "box_style": "",
            "children": [
              "IPY_MODEL_e88e55211ae440f7b00bd3afd603cbaa",
              "IPY_MODEL_7ca2b1e62f2f4827927ef146bfc0a272",
              "IPY_MODEL_8adc0eb956b44a45a38a820f02404101"
            ],
            "layout": "IPY_MODEL_08ab597d0f57479da077b3560995ee55"
          }
        },
        "e88e55211ae440f7b00bd3afd603cbaa": {
          "model_module": "@jupyter-widgets/controls",
          "model_name": "HTMLModel",
          "model_module_version": "1.5.0",
          "state": {
            "_dom_classes": [],
            "_model_module": "@jupyter-widgets/controls",
            "_model_module_version": "1.5.0",
            "_model_name": "HTMLModel",
            "_view_count": null,
            "_view_module": "@jupyter-widgets/controls",
            "_view_module_version": "1.5.0",
            "_view_name": "HTMLView",
            "description": "",
            "description_tooltip": null,
            "layout": "IPY_MODEL_158d287783bd4279ac30908b75f83395",
            "placeholder": "​",
            "style": "IPY_MODEL_5f553006f18a40109bcb1397926f8549",
            "value": "model.safetensors: 100%"
          }
        },
        "7ca2b1e62f2f4827927ef146bfc0a272": {
          "model_module": "@jupyter-widgets/controls",
          "model_name": "FloatProgressModel",
          "model_module_version": "1.5.0",
          "state": {
            "_dom_classes": [],
            "_model_module": "@jupyter-widgets/controls",
            "_model_module_version": "1.5.0",
            "_model_name": "FloatProgressModel",
            "_view_count": null,
            "_view_module": "@jupyter-widgets/controls",
            "_view_module_version": "1.5.0",
            "_view_name": "ProgressView",
            "bar_style": "success",
            "description": "",
            "description_tooltip": null,
            "layout": "IPY_MODEL_73b9ffcdb36b44d3bff849889464b5ff",
            "max": 260782156,
            "min": 0,
            "orientation": "horizontal",
            "style": "IPY_MODEL_d1e4776720fd4d33b29cbb98ecbef357",
            "value": 260782156
          }
        },
        "8adc0eb956b44a45a38a820f02404101": {
          "model_module": "@jupyter-widgets/controls",
          "model_name": "HTMLModel",
          "model_module_version": "1.5.0",
          "state": {
            "_dom_classes": [],
            "_model_module": "@jupyter-widgets/controls",
            "_model_module_version": "1.5.0",
            "_model_name": "HTMLModel",
            "_view_count": null,
            "_view_module": "@jupyter-widgets/controls",
            "_view_module_version": "1.5.0",
            "_view_name": "HTMLView",
            "description": "",
            "description_tooltip": null,
            "layout": "IPY_MODEL_06a27ac3ac454744bdcd86a9008dfe82",
            "placeholder": "​",
            "style": "IPY_MODEL_f196783ac990440aba9db020ae5fa1c1",
            "value": " 261M/261M [00:02&lt;00:00, 108MB/s]"
          }
        },
        "08ab597d0f57479da077b3560995ee55": {
          "model_module": "@jupyter-widgets/base",
          "model_name": "LayoutModel",
          "model_module_version": "1.2.0",
          "state": {
            "_model_module": "@jupyter-widgets/base",
            "_model_module_version": "1.2.0",
            "_model_name": "LayoutModel",
            "_view_count": null,
            "_view_module": "@jupyter-widgets/base",
            "_view_module_version": "1.2.0",
            "_view_name": "LayoutView",
            "align_content": null,
            "align_items": null,
            "align_self": null,
            "border": null,
            "bottom": null,
            "display": null,
            "flex": null,
            "flex_flow": null,
            "grid_area": null,
            "grid_auto_columns": null,
            "grid_auto_flow": null,
            "grid_auto_rows": null,
            "grid_column": null,
            "grid_gap": null,
            "grid_row": null,
            "grid_template_areas": null,
            "grid_template_columns": null,
            "grid_template_rows": null,
            "height": null,
            "justify_content": null,
            "justify_items": null,
            "left": null,
            "margin": null,
            "max_height": null,
            "max_width": null,
            "min_height": null,
            "min_width": null,
            "object_fit": null,
            "object_position": null,
            "order": null,
            "overflow": null,
            "overflow_x": null,
            "overflow_y": null,
            "padding": null,
            "right": null,
            "top": null,
            "visibility": null,
            "width": null
          }
        },
        "158d287783bd4279ac30908b75f83395": {
          "model_module": "@jupyter-widgets/base",
          "model_name": "LayoutModel",
          "model_module_version": "1.2.0",
          "state": {
            "_model_module": "@jupyter-widgets/base",
            "_model_module_version": "1.2.0",
            "_model_name": "LayoutModel",
            "_view_count": null,
            "_view_module": "@jupyter-widgets/base",
            "_view_module_version": "1.2.0",
            "_view_name": "LayoutView",
            "align_content": null,
            "align_items": null,
            "align_self": null,
            "border": null,
            "bottom": null,
            "display": null,
            "flex": null,
            "flex_flow": null,
            "grid_area": null,
            "grid_auto_columns": null,
            "grid_auto_flow": null,
            "grid_auto_rows": null,
            "grid_column": null,
            "grid_gap": null,
            "grid_row": null,
            "grid_template_areas": null,
            "grid_template_columns": null,
            "grid_template_rows": null,
            "height": null,
            "justify_content": null,
            "justify_items": null,
            "left": null,
            "margin": null,
            "max_height": null,
            "max_width": null,
            "min_height": null,
            "min_width": null,
            "object_fit": null,
            "object_position": null,
            "order": null,
            "overflow": null,
            "overflow_x": null,
            "overflow_y": null,
            "padding": null,
            "right": null,
            "top": null,
            "visibility": null,
            "width": null
          }
        },
        "5f553006f18a40109bcb1397926f8549": {
          "model_module": "@jupyter-widgets/controls",
          "model_name": "DescriptionStyleModel",
          "model_module_version": "1.5.0",
          "state": {
            "_model_module": "@jupyter-widgets/controls",
            "_model_module_version": "1.5.0",
            "_model_name": "DescriptionStyleModel",
            "_view_count": null,
            "_view_module": "@jupyter-widgets/base",
            "_view_module_version": "1.2.0",
            "_view_name": "StyleView",
            "description_width": ""
          }
        },
        "73b9ffcdb36b44d3bff849889464b5ff": {
          "model_module": "@jupyter-widgets/base",
          "model_name": "LayoutModel",
          "model_module_version": "1.2.0",
          "state": {
            "_model_module": "@jupyter-widgets/base",
            "_model_module_version": "1.2.0",
            "_model_name": "LayoutModel",
            "_view_count": null,
            "_view_module": "@jupyter-widgets/base",
            "_view_module_version": "1.2.0",
            "_view_name": "LayoutView",
            "align_content": null,
            "align_items": null,
            "align_self": null,
            "border": null,
            "bottom": null,
            "display": null,
            "flex": null,
            "flex_flow": null,
            "grid_area": null,
            "grid_auto_columns": null,
            "grid_auto_flow": null,
            "grid_auto_rows": null,
            "grid_column": null,
            "grid_gap": null,
            "grid_row": null,
            "grid_template_areas": null,
            "grid_template_columns": null,
            "grid_template_rows": null,
            "height": null,
            "justify_content": null,
            "justify_items": null,
            "left": null,
            "margin": null,
            "max_height": null,
            "max_width": null,
            "min_height": null,
            "min_width": null,
            "object_fit": null,
            "object_position": null,
            "order": null,
            "overflow": null,
            "overflow_x": null,
            "overflow_y": null,
            "padding": null,
            "right": null,
            "top": null,
            "visibility": null,
            "width": null
          }
        },
        "d1e4776720fd4d33b29cbb98ecbef357": {
          "model_module": "@jupyter-widgets/controls",
          "model_name": "ProgressStyleModel",
          "model_module_version": "1.5.0",
          "state": {
            "_model_module": "@jupyter-widgets/controls",
            "_model_module_version": "1.5.0",
            "_model_name": "ProgressStyleModel",
            "_view_count": null,
            "_view_module": "@jupyter-widgets/base",
            "_view_module_version": "1.2.0",
            "_view_name": "StyleView",
            "bar_color": null,
            "description_width": ""
          }
        },
        "06a27ac3ac454744bdcd86a9008dfe82": {
          "model_module": "@jupyter-widgets/base",
          "model_name": "LayoutModel",
          "model_module_version": "1.2.0",
          "state": {
            "_model_module": "@jupyter-widgets/base",
            "_model_module_version": "1.2.0",
            "_model_name": "LayoutModel",
            "_view_count": null,
            "_view_module": "@jupyter-widgets/base",
            "_view_module_version": "1.2.0",
            "_view_name": "LayoutView",
            "align_content": null,
            "align_items": null,
            "align_self": null,
            "border": null,
            "bottom": null,
            "display": null,
            "flex": null,
            "flex_flow": null,
            "grid_area": null,
            "grid_auto_columns": null,
            "grid_auto_flow": null,
            "grid_auto_rows": null,
            "grid_column": null,
            "grid_gap": null,
            "grid_row": null,
            "grid_template_areas": null,
            "grid_template_columns": null,
            "grid_template_rows": null,
            "height": null,
            "justify_content": null,
            "justify_items": null,
            "left": null,
            "margin": null,
            "max_height": null,
            "max_width": null,
            "min_height": null,
            "min_width": null,
            "object_fit": null,
            "object_position": null,
            "order": null,
            "overflow": null,
            "overflow_x": null,
            "overflow_y": null,
            "padding": null,
            "right": null,
            "top": null,
            "visibility": null,
            "width": null
          }
        },
        "f196783ac990440aba9db020ae5fa1c1": {
          "model_module": "@jupyter-widgets/controls",
          "model_name": "DescriptionStyleModel",
          "model_module_version": "1.5.0",
          "state": {
            "_model_module": "@jupyter-widgets/controls",
            "_model_module_version": "1.5.0",
            "_model_name": "DescriptionStyleModel",
            "_view_count": null,
            "_view_module": "@jupyter-widgets/base",
            "_view_module_version": "1.2.0",
            "_view_name": "StyleView",
            "description_width": ""
          }
        }
      }
    }
  },
  "nbformat": 4,
  "nbformat_minor": 0
}