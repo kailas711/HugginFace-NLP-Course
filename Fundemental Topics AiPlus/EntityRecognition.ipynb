{
 "cells": [
  {
   "cell_type": "markdown",
   "id": "70fa398b",
   "metadata": {},
   "source": [
    "# Entity Recognition \n",
    "**Entity recognition**, also known as entity extraction or entity linking, refers to the process of identifying and categorizing specific entities within text. Entities can be any well-defined objects, such as people, organizations, locations, dates, numerical expressions, or other named or generic entities of interest.\n",
    "\n",
    "The main objective of entity recognition is to extract meaningful information from unstructured text and link it to known or predefined categories. This enables the organization and analysis of textual data, supporting various downstream applications such as information retrieval, knowledge graph construction, recommendation systems, and more.\n",
    "\n",
    "Entity recognition involves the following steps:\n",
    "\n",
    "1. *Tokenization*: The text is divided into individual tokens, typically words, to provide the basic units of analysis.\n",
    "\n",
    "2. *Part-of-speech (POS) Tagging*: Each token is assigned a POS tag, which represents the grammatical role of the word (noun, verb, adjective, etc.). POS tags provide contextual information that can assist in entity recognition.\n",
    "\n",
    "3. *Entity Recognition*: This is the core step where the NLP model identifies and classifies entities within the text. The model analyzes the tokens and their contextual information to determine if a token represents an entity and assigns it a specific label or category. The labels can include commonly recognized entities such as PERSON, ORGANIZATION, LOCATION, DATE, TIME, MONEY, and more."
   ]
  },
  {
   "cell_type": "markdown",
   "id": "8d611945",
   "metadata": {},
   "source": [
    "Entity recognition can be approached using different techniques:\n",
    "\n",
    "Rule-based approach: This approach involves designing and applying handcrafted rules or patterns to identify and classify entities based on specific linguistic patterns, lexical features, or syntactic structures. For example, a rule might state that a token following the word \"President\" is likely to be a person's name. Rule-based systems require manual effort to create and maintain rules, but they can be effective for specific domains or languages with well-defined patterns.\n",
    "\n",
    "Statistical/machine learning approach: This approach involves training models using annotated data, where human annotators mark the entities in the text with their corresponding labels. Techniques like Conditional Random Fields (CRF), Hidden Markov Models (HMM), or more advanced methods such as Recurrent Neural Networks (RNNs) and Transformer-based architectures can be used to learn patterns and features from the annotated data and make predictions on new, unseen text.\n",
    "\n",
    "Entity recognition models are trained using labeled datasets, where entities are manually annotated or leveraged from existing labeled resources. These models learn to recognize patterns, context, and linguistic features associated with different types of entities, allowing them to make predictions on unseen text."
   ]
  },
  {
   "cell_type": "markdown",
   "id": "6c756aa4",
   "metadata": {},
   "source": [
    "Evaluation of entity recognition systems is commonly done using metrics like precision, recall, and F1-score, which measure the accuracy and completeness of the predicted entities compared to the reference annotations.\n",
    "\n",
    "Entity recognition is a fundamental task in NLP, as it helps in extracting and structuring important information from text, enabling further analysis and understanding of textual data in various applications."
   ]
  },
  {
   "cell_type": "code",
   "execution_count": null,
   "id": "ec105ecd",
   "metadata": {},
   "outputs": [],
   "source": [
    "from bs4 import BeautifulSoup\n",
    "import requests\n",
    "import re\n",
    "\n",
    "import spacy\n",
    "from spacy import displacy"
   ]
  },
  {
   "cell_type": "markdown",
   "id": "7f8842dc",
   "metadata": {},
   "source": [
    "Similar to other notebooks, we'll levearge the `spaCy` library. `spaCy` has some pretty stellar built in tools for entity recognition. In addition to `spaCy`, for this exampe we'll be doing entity recognition (ER) on a simple news article about the Boston Marathon. We'll be using the `BeautifulSoup` library to scrap the article and bring it into memory for parsing and entity recognition"
   ]
  },
  {
   "cell_type": "code",
   "execution_count": null,
   "id": "f68034c6",
   "metadata": {},
   "outputs": [],
   "source": [
    "# Load the spaCy model \n",
    "NER = spacy.load(\"en_core_web_sm\")"
   ]
  },
  {
   "cell_type": "code",
   "execution_count": null,
   "id": "713a4d28",
   "metadata": {},
   "outputs": [],
   "source": [
    "# Pull in the article using BeautifulSoup\n",
    "url = \"https://www.outsideonline.com/health/running/gear/tech/the-boston-marathon-in-data/\"\n",
    "\n",
    "html_content = requests.get(url).text\n",
    "soup = BeautifulSoup(html_content, \"lxml\")"
   ]
  },
  {
   "cell_type": "code",
   "execution_count": null,
   "id": "f56fd193",
   "metadata": {},
   "outputs": [],
   "source": [
    "# Parse the body of text for only relevant information \n",
    "body = soup.body.text\n",
    "body = body.split('\\n\\n')\n",
    "ner_body = body[217] + body[218] + body[219] + body[220]\n",
    "ner_body"
   ]
  },
  {
   "cell_type": "code",
   "execution_count": null,
   "id": "345696d8",
   "metadata": {},
   "outputs": [],
   "source": [
    "# Apply the spaCy model and display the results \n",
    "result = NER(ner_body)\n",
    "displacy.render(result,style=\"ent\",jupyter=True)"
   ]
  }
 ],
 "metadata": {
  "kernelspec": {
   "display_name": "Python 3 (ipykernel)",
   "language": "python",
   "name": "python3"
  },
  "language_info": {
   "codemirror_mode": {
    "name": "ipython",
    "version": 3
   },
   "file_extension": ".py",
   "mimetype": "text/x-python",
   "name": "python",
   "nbconvert_exporter": "python",
   "pygments_lexer": "ipython3",
   "version": "3.8.9"
  }
 },
 "nbformat": 4,
 "nbformat_minor": 5
}
