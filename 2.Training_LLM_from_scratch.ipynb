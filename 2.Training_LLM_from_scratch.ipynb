{
  "cells": [
    {
      "cell_type": "markdown",
      "source": [
        "We'll Build a scaled down version of GPT-2 model, train it from scratch.\n",
        "\n",
        "This is a good approach to take if you have a lot of data and it is very different from the pretraining data used for the available models. However, it also requires considerably more compute resources to pretrain a language model than just to fine-tune an existing one. Examples where it can make sense to train a new model include for datasets consisting of musical notes, molecular sequences such as DNA, or programming languages.\n",
        "\n",
        "We will then use the Trainer API and 🤗 Accelerate to train the model. Let’s get to it!\n",
        "\n",
        "**Gathering Dataset**\n",
        "\n",
        "\n",
        "We'll use HuggingFace filtered version of `codeparrot` dataset."
      ],
      "metadata": {
        "id": "gFoUHwBEkjb5"
      }
    },
    {
      "cell_type": "code",
      "source": [
        "!pip -q install datasets tokenizers\n",
        "!pip -q install accelerate"
      ],
      "metadata": {
        "id": "fx9LHYqNIuOc"
      },
      "execution_count": null,
      "outputs": []
    },
    {
      "cell_type": "code",
      "source": [
        "from huggingface_hub import notebook_login\n",
        "\n",
        "notebook_login()"
      ],
      "metadata": {
        "colab": {
          "base_uri": "https://localhost:8080/",
          "height": 113,
          "referenced_widgets": [
            "7e7d7c68fe2c46d1be5f61cdeadbdf23",
            "06c753692c7e45afa0f525eea08eddc5",
            "b9855f380f9e4bbba72506efa4d7c23d",
            "157bac0eb7cb48fd8964bbd49f9fd6e2",
            "06fb484922714cc4884d330721906675",
            "482f945049834216b08cdc846814e56c",
            "419baa465b7f4eafbeb608ae79bfdb08",
            "72707009757645fab309dd3b996ceee7",
            "a4c049e4bf7f402f889d608c20e6d759",
            "12b11d4980f648d79602fbc7b885ab6a",
            "eb76d03e4fa24e01bc458622976cf80a",
            "afceb54b90c847cdb2d21a2b3fb9c3df",
            "6b3daeb0acbb4703b3207908a67d787d",
            "17d9109889b44a1d9226a1864f4c4870",
            "30370b61e5e648ff9653ad99f5dc37a7",
            "2d47b476f4004056add272f112dab15f",
            "4cde4ad982294b77901768c824f5a03e",
            "b6b9f5eebfb044e5ba805f1c27c7961c",
            "04ee82a0da6b42c3a4e8bc53d3fe57c8",
            "b609bd59aadc4b72ba0f7ba01bc9e356",
            "5a23ef5245264098b6a88fc88657688f",
            "cc346c54db0b4259a19345e3640ed16d",
            "c332afa3935c436486e453533f1c8857",
            "d0f88d44f9fc41cbb2426d941f001c80",
            "5dc531c6d84940d78ba6d571f306fea8",
            "b11b5abde87345b6a9cefc0e00582c74",
            "1a6af88f5d694eb1868c387589592cbf",
            "1114b3be9fb44220bc6cba0b112ba758",
            "53698089768c4ba6a67198711e444575"
          ]
        },
        "id": "ZiMmUTG48HIp",
        "outputId": "a34a08ec-4ece-452b-cad9-d682388e6fd8"
      },
      "execution_count": null,
      "outputs": [
        {
          "output_type": "display_data",
          "data": {
            "text/plain": [
              "VBox(children=(HTML(value='<center> <img\\nsrc=https://huggingface.co/front/assets/huggingface_logo-noborder.sv…"
            ],
            "application/vnd.jupyter.widget-view+json": {
              "version_major": 2,
              "version_minor": 0,
              "model_id": "7e7d7c68fe2c46d1be5f61cdeadbdf23"
            }
          },
          "metadata": {}
        }
      ]
    },
    {
      "cell_type": "code",
      "source": [
        "from datasets import load_dataset, DatasetDict\n",
        "ds_valid = load_dataset(\"huggingface-course/codeparrot-ds-valid\", split=\"validation\")\n",
        "\n",
        "raw_datasets = DatasetDict(\n",
        "    {\n",
        "        \"valid\": ds_valid,  # .shuffle().select(range(500))\n",
        "    })\n",
        "\n",
        "raw_datasets"
      ],
      "metadata": {
        "colab": {
          "base_uri": "https://localhost:8080/"
        },
        "id": "BlUxD-7xGlJA",
        "outputId": "86166083-d5a7-42c3-c775-a72fb2de7695"
      },
      "execution_count": null,
      "outputs": [
        {
          "output_type": "execute_result",
          "data": {
            "text/plain": [
              "DatasetDict({\n",
              "    valid: Dataset({\n",
              "        features: ['repo_name', 'path', 'copies', 'size', 'content', 'license'],\n",
              "        num_rows: 3322\n",
              "    })\n",
              "})"
            ]
          },
          "metadata": {},
          "execution_count": 3
        }
      ]
    },
    {
      "cell_type": "code",
      "source": [
        "# We’ll look at an example 200 characters of each field.\n",
        "for key in raw_datasets[\"valid\"][0]:\n",
        "    print(f\"{key.upper()}: {raw_datasets['valid'][0][key][:200]}\")"
      ],
      "metadata": {
        "colab": {
          "base_uri": "https://localhost:8080/"
        },
        "id": "Ez4NP3NoIz0S",
        "outputId": "52d4b021-8c3d-4a2a-d047-f7ff082e6092"
      },
      "execution_count": null,
      "outputs": [
        {
          "output_type": "stream",
          "name": "stdout",
          "text": [
            "REPO_NAME: ratnania/pigasus\n",
            "PATH: doc/manual/include/demo/test_neumann_quartcircle.py\n",
            "COPIES: 1\n",
            "SIZE: 2730\n",
            "CONTENT: #! /usr/bin/python\n",
            "\n",
            "# ...\n",
            "try:\n",
            "    from matplotlib import pyplot as plt\n",
            "    PLOT=True\n",
            "except ImportError:\n",
            "    PLOT=False\n",
            "# ...\n",
            "import numpy                as np\n",
            "from pigasus.gallery.poisson import *\n",
            "i\n",
            "LICENSE: mit\n"
          ]
        }
      ]
    },
    {
      "cell_type": "markdown",
      "source": [
        "**Prepare Dataset**\n",
        "\n",
        "First step is to tokenizer the dataset. Here are going to fix the context length to 138 since we're doing just autocompletion of short sequnces. Larger context length comes with more GPU memory footprint.\n",
        "\n",
        "\n",
        "Most documents contain many more than 128 tokens, so simply truncating the inputs to the maximum length would eliminate a large fraction of our dataset. Instead, we’ll use the `return_overflowing_tokens` option to tokenize the whole input and split it into several chunks.\n",
        "\n",
        "We’ll also use the return_length option to return the length of each created chunk automatically. Often the last chunk will be smaller than the context size, and we’ll get rid of these pieces to avoid padding issues; we don’t really need them as we have plenty of data anyway.\n",
        "\n",
        "\n",
        "![image.png](data:image/png;base64,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)"
      ],
      "metadata": {
        "id": "Ex45Ie7xKeiy"
      }
    },
    {
      "cell_type": "code",
      "source": [
        "from transformers import AutoTokenizer\n",
        "\n",
        "context_length = 128\n",
        "tokenizer = AutoTokenizer.from_pretrained(\"huggingface-course/code-search-net-tokenizer\")\n",
        "\n",
        "outputs = tokenizer(\n",
        "    raw_datasets[\"valid\"][:2][\"content\"],\n",
        "    truncation=True,\n",
        "    max_length=context_length,\n",
        "    return_overflowing_tokens=True,\n",
        "    return_length=True,\n",
        ")\n",
        "\n",
        "print(f\"Input IDs length: {len(outputs['input_ids'])}\")\n",
        "print(f\"Input chunk lengths: {(outputs['length'])}\")\n",
        "print(f\"Chunk mapping: {outputs['overflow_to_sample_mapping']}\")"
      ],
      "metadata": {
        "colab": {
          "base_uri": "https://localhost:8080/"
        },
        "id": "Y7BOybZfJSvl",
        "outputId": "6738d577-c255-4abe-ead1-961409e16fae"
      },
      "execution_count": null,
      "outputs": [
        {
          "output_type": "stream",
          "name": "stdout",
          "text": [
            "Input IDs length: 17\n",
            "Input chunk lengths: [128, 128, 128, 128, 128, 128, 128, 60, 128, 128, 128, 128, 128, 128, 128, 128, 111]\n",
            "Chunk mapping: [0, 0, 0, 0, 0, 0, 0, 0, 1, 1, 1, 1, 1, 1, 1, 1, 1]\n"
          ]
        }
      ]
    },
    {
      "cell_type": "markdown",
      "source": [
        "We got 34 segments in total from those examples. Looking at the chunk lengths we can see the ones at the end of both documnets have less than 128 (117 and 41).These represent just a small fraction of the total chunks that we have, so we can safely throw them away. With the `overflow_to_sample_mapping` field, we can also reconstruct which chunks belonged to which input samples.\n",
        "\n",
        "\n",
        "With this operation we’re using a handy feature of the Dataset.map() function in 🤗 Datasets\n",
        "- we can create batches with more or fewer elements than the input batch.\n",
        "- This is useful when doing operations like data augmentation or data filtering that change the number of elements.\n",
        "- In our case, when tokenizing each element into chunks of the specified context size\n",
        "- We just need to make sure to delete the existing columns, since they have a conflicting size.\n",
        "\n",
        "*We're using the `valid` set here to accomodate memory while training.*\n"
      ],
      "metadata": {
        "id": "5YrYx1iKNlOc"
      }
    },
    {
      "cell_type": "code",
      "source": [
        "import os\n",
        "os.cpu_count()"
      ],
      "metadata": {
        "colab": {
          "base_uri": "https://localhost:8080/"
        },
        "id": "24VGhwzZR2Q3",
        "outputId": "cdb7cc44-a33f-47c2-edd1-5e72763ba6e4"
      },
      "execution_count": null,
      "outputs": [
        {
          "output_type": "execute_result",
          "data": {
            "text/plain": [
              "2"
            ]
          },
          "metadata": {},
          "execution_count": 6
        }
      ]
    },
    {
      "cell_type": "code",
      "source": [
        "def tokenize(element):\n",
        "    outputs = tokenizer(\n",
        "        element[\"content\"],\n",
        "        truncation=True,\n",
        "        max_length=context_length,\n",
        "        return_overflowing_tokens=True,\n",
        "        return_length=True)\n",
        "\n",
        "    input_batch = []\n",
        "\n",
        "    for length, input_ids in zip(outputs[\"length\"], outputs[\"input_ids\"]):\n",
        "        if length == context_length:\n",
        "            input_batch.append(input_ids)\n",
        "\n",
        "    return {\"input_ids\": input_batch}\n",
        "\n",
        "tokenized_datasets = raw_datasets.map(tokenize, batched=True, remove_columns=raw_datasets[\"valid\"].column_names, num_proc=2)"
      ],
      "metadata": {
        "id": "hBOBDFhmgZgg"
      },
      "execution_count": null,
      "outputs": []
    },
    {
      "cell_type": "markdown",
      "source": [
        "*We now have 16.7 million examples with 128 tokens each, which corresponds to about 2.1 billion tokens in total.*\n",
        "\n",
        "\n",
        "**Initializing a new model**\n",
        "\n",
        "We freshly initiliaze the GPT 2 model. We'll load the pretrained configuration and adjust to make sure that the tokenizer size matches the model vocabulary size and pass the `bos` and `eos`.\n",
        "\n",
        "With that configuration we’re actually initializing a model ourself. Note that  we don’t use the `from_pretrained()` function.\n",
        "\n"
      ],
      "metadata": {
        "id": "rCC75Z2PP8rL"
      }
    },
    {
      "cell_type": "code",
      "source": [
        "from transformers import AutoTokenizer, GPT2LMHeadModel, AutoConfig\n",
        "\n",
        "config = AutoConfig.from_pretrained(\n",
        "    \"gpt2\",\n",
        "    vocab_size=len(tokenizer),\n",
        "    n_ctx=context_length,\n",
        "    bos_token_id=tokenizer.bos_token_id,\n",
        "    eos_token_id=tokenizer.eos_token_id,\n",
        ")\n",
        "\n",
        "model = GPT2LMHeadModel(config)\n",
        "model_size = sum(t.numel() for t in model.parameters())\n",
        "print(f\"GPT-2 size: {model_size/1000**2:.1f}M parameters\")"
      ],
      "metadata": {
        "colab": {
          "base_uri": "https://localhost:8080/"
        },
        "id": "AaewaxuwPthg",
        "outputId": "f1024fd4-7e02-473a-945a-1da164f76bcd"
      },
      "execution_count": null,
      "outputs": [
        {
          "output_type": "stream",
          "name": "stdout",
          "text": [
            "GPT-2 size: 124.2M parameters\n"
          ]
        }
      ]
    },
    {
      "cell_type": "markdown",
      "source": [
        "We'll use 1B paramter TinyLlama model for this time to see how much time and resource does it take to train 1B param model.\n",
        "\n",
        "```from huggingface_hub import notebook_login\n",
        "notebook_login()```"
      ],
      "metadata": {
        "id": "PsMpdRCSVtbp"
      }
    },
    {
      "cell_type": "markdown",
      "source": [
        "Before we can start training, we need to set up a data collator that will take care of creating the batches. We can use the `DataCollatorForLanguageModeling` collator. Besides stacking and padding batches, it also takes care of creating the language model labels.\n",
        "\n",
        "In causal language modeling the inputs serve as labels too (shifted by one element on the fly during training)"
      ],
      "metadata": {
        "id": "ccY70tFtWRqB"
      }
    },
    {
      "cell_type": "code",
      "source": [
        "from transformers import DataCollatorForLanguageModeling\n",
        "\n",
        "tokenizer.pad_token = tokenizer.eos_token\n",
        "data_collator = DataCollatorForLanguageModeling(tokenizer, mlm=False)\n",
        "\n",
        "# Lets look at an example\n",
        "\n",
        "out = data_collator([tokenized_datasets[\"valid\"][i] for i in range(5)])\n",
        "for key in out:\n",
        "    print(f\"{key} shape: {out[key].shape}\")\n",
        "\n",
        "# We can see that the examples have been stacked and all the tensors have the same shape."
      ],
      "metadata": {
        "colab": {
          "base_uri": "https://localhost:8080/"
        },
        "id": "IxDZhl5dWaQx",
        "outputId": "c99bd607-404c-453f-e7cb-cc8d77efef94"
      },
      "execution_count": null,
      "outputs": [
        {
          "output_type": "stream",
          "name": "stdout",
          "text": [
            "input_ids shape: torch.Size([5, 128])\n",
            "attention_mask shape: torch.Size([5, 128])\n",
            "labels shape: torch.Size([5, 128])\n"
          ]
        }
      ]
    },
    {
      "cell_type": "markdown",
      "source": [
        "**Training Loop**\n",
        "\n",
        "All that’s left to do is configure the training arguments and fire up the Trainer. We’ll use a cosine learning rate schedule with some warmup and an effective `batch size` of 256 (`per_device_train_batch_size * gradient_accumulation_steps`)\n",
        "\n",
        "**Gradient accumulation**"
      ],
      "metadata": {
        "id": "JVTMmdD-ZXzv"
      }
    },
    {
      "cell_type": "code",
      "source": [
        "from transformers import Trainer, TrainingArguments\n",
        "\n",
        "args = TrainingArguments(\n",
        "    output_dir=\"codeparrot-ds\",\n",
        "    per_device_train_batch_size=32,\n",
        "    per_device_eval_batch_size=32,\n",
        "    eval_strategy=\"steps\",\n",
        "    eval_steps=5_000,\n",
        "    logging_steps=5_000,\n",
        "    gradient_accumulation_steps=8,\n",
        "    num_train_epochs=1,\n",
        "    weight_decay=0.1,\n",
        "    warmup_steps=1_000,\n",
        "    lr_scheduler_type=\"cosine\",\n",
        "    learning_rate=5e-4,\n",
        "    save_steps=5_000,\n",
        "    fp16=True,\n",
        "    push_to_hub=True,\n",
        ")\n",
        "\n",
        "trainer = Trainer(\n",
        "    model=model,\n",
        "    tokenizer=tokenizer,\n",
        "    args=args,\n",
        "    data_collator=data_collator,\n",
        "    train_dataset=tokenized_datasets[\"valid\"],\n",
        ")"
      ],
      "metadata": {
        "id": "iT35H5XlZs1H"
      },
      "execution_count": null,
      "outputs": []
    },
    {
      "cell_type": "code",
      "source": [
        "trainer.train()"
      ],
      "metadata": {
        "colab": {
          "base_uri": "https://localhost:8080/",
          "height": 110
        },
        "id": "fPvEvZ2s2382",
        "outputId": "a9861a91-d78d-41ff-f077-693d5d8b8851"
      },
      "execution_count": null,
      "outputs": [
        {
          "output_type": "display_data",
          "data": {
            "text/plain": [
              "<IPython.core.display.HTML object>"
            ],
            "text/html": [
              "\n",
              "    <div>\n",
              "      \n",
              "      <progress value='364' max='364' style='width:300px; height:20px; vertical-align: middle;'></progress>\n",
              "      [364/364 17:30, Epoch 1/1]\n",
              "    </div>\n",
              "    <table border=\"1\" class=\"dataframe\">\n",
              "  <thead>\n",
              " <tr style=\"text-align: left;\">\n",
              "      <th>Step</th>\n",
              "      <th>Training Loss</th>\n",
              "      <th>Validation Loss</th>\n",
              "    </tr>\n",
              "  </thead>\n",
              "  <tbody>\n",
              "  </tbody>\n",
              "</table><p>"
            ]
          },
          "metadata": {}
        },
        {
          "output_type": "execute_result",
          "data": {
            "text/plain": [
              "TrainOutput(global_step=364, training_loss=6.0028699937757555, metrics={'train_runtime': 1054.3116, 'train_samples_per_second': 88.365, 'train_steps_per_second': 0.345, 'total_flos': 6085752717312000.0, 'train_loss': 6.0028699937757555, 'epoch': 1.0})"
            ]
          },
          "metadata": {},
          "execution_count": 12
        }
      ]
    },
    {
      "cell_type": "code",
      "source": [
        "trainer.push_to_hub()"
      ],
      "metadata": {
        "colab": {
          "base_uri": "https://localhost:8080/",
          "height": 52
        },
        "id": "kn5lCDVg73yO",
        "outputId": "7d1db941-c40a-4ae7-e4ef-1d0c5962630e"
      },
      "execution_count": null,
      "outputs": [
        {
          "output_type": "execute_result",
          "data": {
            "text/plain": [
              "CommitInfo(commit_url='https://huggingface.co/kailasps/codeparrot-ds/commit/8c1e544f68411bfa5fa1326bea3784b68ea78330', commit_message='End of training', commit_description='', oid='8c1e544f68411bfa5fa1326bea3784b68ea78330', pr_url=None, pr_revision=None, pr_num=None)"
            ],
            "application/vnd.google.colaboratory.intrinsic+json": {
              "type": "string"
            }
          },
          "metadata": {},
          "execution_count": 13
        }
      ]
    }
  ],
  "metadata": {
    "accelerator": "GPU",
    "colab": {
      "provenance": [],
      "gpuType": "T4"
    },
    "kernelspec": {
      "display_name": "Python 3",
      "name": "python3"
    },
    "language_info": {
      "name": "python"
    },
    "widgets": {
      "application/vnd.jupyter.widget-state+json": {
        "7e7d7c68fe2c46d1be5f61cdeadbdf23": {
          "model_module": "@jupyter-widgets/controls",
          "model_name": "VBoxModel",
          "model_module_version": "1.5.0",
          "state": {
            "_dom_classes": [],
            "_model_module": "@jupyter-widgets/controls",
            "_model_module_version": "1.5.0",
            "_model_name": "VBoxModel",
            "_view_count": null,
            "_view_module": "@jupyter-widgets/controls",
            "_view_module_version": "1.5.0",
            "_view_name": "VBoxView",
            "box_style": "",
            "children": [
              "IPY_MODEL_5a23ef5245264098b6a88fc88657688f",
              "IPY_MODEL_cc346c54db0b4259a19345e3640ed16d",
              "IPY_MODEL_c332afa3935c436486e453533f1c8857"
            ],
            "layout": "IPY_MODEL_419baa465b7f4eafbeb608ae79bfdb08"
          }
        },
        "06c753692c7e45afa0f525eea08eddc5": {
          "model_module": "@jupyter-widgets/controls",
          "model_name": "HTMLModel",
          "model_module_version": "1.5.0",
          "state": {
            "_dom_classes": [],
            "_model_module": "@jupyter-widgets/controls",
            "_model_module_version": "1.5.0",
            "_model_name": "HTMLModel",
            "_view_count": null,
            "_view_module": "@jupyter-widgets/controls",
            "_view_module_version": "1.5.0",
            "_view_name": "HTMLView",
            "description": "",
            "description_tooltip": null,
            "layout": "IPY_MODEL_72707009757645fab309dd3b996ceee7",
            "placeholder": "​",
            "style": "IPY_MODEL_a4c049e4bf7f402f889d608c20e6d759",
            "value": "<center> <img\nsrc=https://huggingface.co/front/assets/huggingface_logo-noborder.svg\nalt='Hugging Face'> <br> Copy a token from <a\nhref=\"https://huggingface.co/settings/tokens\" target=\"_blank\">your Hugging Face\ntokens page</a> and paste it below. <br> Immediately click login after copying\nyour token or it might be stored in plain text in this notebook file. </center>"
          }
        },
        "b9855f380f9e4bbba72506efa4d7c23d": {
          "model_module": "@jupyter-widgets/controls",
          "model_name": "PasswordModel",
          "model_module_version": "1.5.0",
          "state": {
            "_dom_classes": [],
            "_model_module": "@jupyter-widgets/controls",
            "_model_module_version": "1.5.0",
            "_model_name": "PasswordModel",
            "_view_count": null,
            "_view_module": "@jupyter-widgets/controls",
            "_view_module_version": "1.5.0",
            "_view_name": "PasswordView",
            "continuous_update": true,
            "description": "Token:",
            "description_tooltip": null,
            "disabled": false,
            "layout": "IPY_MODEL_12b11d4980f648d79602fbc7b885ab6a",
            "placeholder": "​",
            "style": "IPY_MODEL_eb76d03e4fa24e01bc458622976cf80a",
            "value": ""
          }
        },
        "157bac0eb7cb48fd8964bbd49f9fd6e2": {
          "model_module": "@jupyter-widgets/controls",
          "model_name": "CheckboxModel",
          "model_module_version": "1.5.0",
          "state": {
            "_dom_classes": [],
            "_model_module": "@jupyter-widgets/controls",
            "_model_module_version": "1.5.0",
            "_model_name": "CheckboxModel",
            "_view_count": null,
            "_view_module": "@jupyter-widgets/controls",
            "_view_module_version": "1.5.0",
            "_view_name": "CheckboxView",
            "description": "Add token as git credential?",
            "description_tooltip": null,
            "disabled": false,
            "indent": true,
            "layout": "IPY_MODEL_afceb54b90c847cdb2d21a2b3fb9c3df",
            "style": "IPY_MODEL_6b3daeb0acbb4703b3207908a67d787d",
            "value": false
          }
        },
        "06fb484922714cc4884d330721906675": {
          "model_module": "@jupyter-widgets/controls",
          "model_name": "ButtonModel",
          "model_module_version": "1.5.0",
          "state": {
            "_dom_classes": [],
            "_model_module": "@jupyter-widgets/controls",
            "_model_module_version": "1.5.0",
            "_model_name": "ButtonModel",
            "_view_count": null,
            "_view_module": "@jupyter-widgets/controls",
            "_view_module_version": "1.5.0",
            "_view_name": "ButtonView",
            "button_style": "",
            "description": "Login",
            "disabled": false,
            "icon": "",
            "layout": "IPY_MODEL_17d9109889b44a1d9226a1864f4c4870",
            "style": "IPY_MODEL_30370b61e5e648ff9653ad99f5dc37a7",
            "tooltip": ""
          }
        },
        "482f945049834216b08cdc846814e56c": {
          "model_module": "@jupyter-widgets/controls",
          "model_name": "HTMLModel",
          "model_module_version": "1.5.0",
          "state": {
            "_dom_classes": [],
            "_model_module": "@jupyter-widgets/controls",
            "_model_module_version": "1.5.0",
            "_model_name": "HTMLModel",
            "_view_count": null,
            "_view_module": "@jupyter-widgets/controls",
            "_view_module_version": "1.5.0",
            "_view_name": "HTMLView",
            "description": "",
            "description_tooltip": null,
            "layout": "IPY_MODEL_2d47b476f4004056add272f112dab15f",
            "placeholder": "​",
            "style": "IPY_MODEL_4cde4ad982294b77901768c824f5a03e",
            "value": "\n<b>Pro Tip:</b> If you don't already have one, you can create a dedicated\n'notebooks' token with 'write' access, that you can then easily reuse for all\nnotebooks. </center>"
          }
        },
        "419baa465b7f4eafbeb608ae79bfdb08": {
          "model_module": "@jupyter-widgets/base",
          "model_name": "LayoutModel",
          "model_module_version": "1.2.0",
          "state": {
            "_model_module": "@jupyter-widgets/base",
            "_model_module_version": "1.2.0",
            "_model_name": "LayoutModel",
            "_view_count": null,
            "_view_module": "@jupyter-widgets/base",
            "_view_module_version": "1.2.0",
            "_view_name": "LayoutView",
            "align_content": null,
            "align_items": "center",
            "align_self": null,
            "border": null,
            "bottom": null,
            "display": "flex",
            "flex": null,
            "flex_flow": "column",
            "grid_area": null,
            "grid_auto_columns": null,
            "grid_auto_flow": null,
            "grid_auto_rows": null,
            "grid_column": null,
            "grid_gap": null,
            "grid_row": null,
            "grid_template_areas": null,
            "grid_template_columns": null,
            "grid_template_rows": null,
            "height": null,
            "justify_content": null,
            "justify_items": null,
            "left": null,
            "margin": null,
            "max_height": null,
            "max_width": null,
            "min_height": null,
            "min_width": null,
            "object_fit": null,
            "object_position": null,
            "order": null,
            "overflow": null,
            "overflow_x": null,
            "overflow_y": null,
            "padding": null,
            "right": null,
            "top": null,
            "visibility": null,
            "width": "50%"
          }
        },
        "72707009757645fab309dd3b996ceee7": {
          "model_module": "@jupyter-widgets/base",
          "model_name": "LayoutModel",
          "model_module_version": "1.2.0",
          "state": {
            "_model_module": "@jupyter-widgets/base",
            "_model_module_version": "1.2.0",
            "_model_name": "LayoutModel",
            "_view_count": null,
            "_view_module": "@jupyter-widgets/base",
            "_view_module_version": "1.2.0",
            "_view_name": "LayoutView",
            "align_content": null,
            "align_items": null,
            "align_self": null,
            "border": null,
            "bottom": null,
            "display": null,
            "flex": null,
            "flex_flow": null,
            "grid_area": null,
            "grid_auto_columns": null,
            "grid_auto_flow": null,
            "grid_auto_rows": null,
            "grid_column": null,
            "grid_gap": null,
            "grid_row": null,
            "grid_template_areas": null,
            "grid_template_columns": null,
            "grid_template_rows": null,
            "height": null,
            "justify_content": null,
            "justify_items": null,
            "left": null,
            "margin": null,
            "max_height": null,
            "max_width": null,
            "min_height": null,
            "min_width": null,
            "object_fit": null,
            "object_position": null,
            "order": null,
            "overflow": null,
            "overflow_x": null,
            "overflow_y": null,
            "padding": null,
            "right": null,
            "top": null,
            "visibility": null,
            "width": null
          }
        },
        "a4c049e4bf7f402f889d608c20e6d759": {
          "model_module": "@jupyter-widgets/controls",
          "model_name": "DescriptionStyleModel",
          "model_module_version": "1.5.0",
          "state": {
            "_model_module": "@jupyter-widgets/controls",
            "_model_module_version": "1.5.0",
            "_model_name": "DescriptionStyleModel",
            "_view_count": null,
            "_view_module": "@jupyter-widgets/base",
            "_view_module_version": "1.2.0",
            "_view_name": "StyleView",
            "description_width": ""
          }
        },
        "12b11d4980f648d79602fbc7b885ab6a": {
          "model_module": "@jupyter-widgets/base",
          "model_name": "LayoutModel",
          "model_module_version": "1.2.0",
          "state": {
            "_model_module": "@jupyter-widgets/base",
            "_model_module_version": "1.2.0",
            "_model_name": "LayoutModel",
            "_view_count": null,
            "_view_module": "@jupyter-widgets/base",
            "_view_module_version": "1.2.0",
            "_view_name": "LayoutView",
            "align_content": null,
            "align_items": null,
            "align_self": null,
            "border": null,
            "bottom": null,
            "display": null,
            "flex": null,
            "flex_flow": null,
            "grid_area": null,
            "grid_auto_columns": null,
            "grid_auto_flow": null,
            "grid_auto_rows": null,
            "grid_column": null,
            "grid_gap": null,
            "grid_row": null,
            "grid_template_areas": null,
            "grid_template_columns": null,
            "grid_template_rows": null,
            "height": null,
            "justify_content": null,
            "justify_items": null,
            "left": null,
            "margin": null,
            "max_height": null,
            "max_width": null,
            "min_height": null,
            "min_width": null,
            "object_fit": null,
            "object_position": null,
            "order": null,
            "overflow": null,
            "overflow_x": null,
            "overflow_y": null,
            "padding": null,
            "right": null,
            "top": null,
            "visibility": null,
            "width": null
          }
        },
        "eb76d03e4fa24e01bc458622976cf80a": {
          "model_module": "@jupyter-widgets/controls",
          "model_name": "DescriptionStyleModel",
          "model_module_version": "1.5.0",
          "state": {
            "_model_module": "@jupyter-widgets/controls",
            "_model_module_version": "1.5.0",
            "_model_name": "DescriptionStyleModel",
            "_view_count": null,
            "_view_module": "@jupyter-widgets/base",
            "_view_module_version": "1.2.0",
            "_view_name": "StyleView",
            "description_width": ""
          }
        },
        "afceb54b90c847cdb2d21a2b3fb9c3df": {
          "model_module": "@jupyter-widgets/base",
          "model_name": "LayoutModel",
          "model_module_version": "1.2.0",
          "state": {
            "_model_module": "@jupyter-widgets/base",
            "_model_module_version": "1.2.0",
            "_model_name": "LayoutModel",
            "_view_count": null,
            "_view_module": "@jupyter-widgets/base",
            "_view_module_version": "1.2.0",
            "_view_name": "LayoutView",
            "align_content": null,
            "align_items": null,
            "align_self": null,
            "border": null,
            "bottom": null,
            "display": null,
            "flex": null,
            "flex_flow": null,
            "grid_area": null,
            "grid_auto_columns": null,
            "grid_auto_flow": null,
            "grid_auto_rows": null,
            "grid_column": null,
            "grid_gap": null,
            "grid_row": null,
            "grid_template_areas": null,
            "grid_template_columns": null,
            "grid_template_rows": null,
            "height": null,
            "justify_content": null,
            "justify_items": null,
            "left": null,
            "margin": null,
            "max_height": null,
            "max_width": null,
            "min_height": null,
            "min_width": null,
            "object_fit": null,
            "object_position": null,
            "order": null,
            "overflow": null,
            "overflow_x": null,
            "overflow_y": null,
            "padding": null,
            "right": null,
            "top": null,
            "visibility": null,
            "width": null
          }
        },
        "6b3daeb0acbb4703b3207908a67d787d": {
          "model_module": "@jupyter-widgets/controls",
          "model_name": "DescriptionStyleModel",
          "model_module_version": "1.5.0",
          "state": {
            "_model_module": "@jupyter-widgets/controls",
            "_model_module_version": "1.5.0",
            "_model_name": "DescriptionStyleModel",
            "_view_count": null,
            "_view_module": "@jupyter-widgets/base",
            "_view_module_version": "1.2.0",
            "_view_name": "StyleView",
            "description_width": ""
          }
        },
        "17d9109889b44a1d9226a1864f4c4870": {
          "model_module": "@jupyter-widgets/base",
          "model_name": "LayoutModel",
          "model_module_version": "1.2.0",
          "state": {
            "_model_module": "@jupyter-widgets/base",
            "_model_module_version": "1.2.0",
            "_model_name": "LayoutModel",
            "_view_count": null,
            "_view_module": "@jupyter-widgets/base",
            "_view_module_version": "1.2.0",
            "_view_name": "LayoutView",
            "align_content": null,
            "align_items": null,
            "align_self": null,
            "border": null,
            "bottom": null,
            "display": null,
            "flex": null,
            "flex_flow": null,
            "grid_area": null,
            "grid_auto_columns": null,
            "grid_auto_flow": null,
            "grid_auto_rows": null,
            "grid_column": null,
            "grid_gap": null,
            "grid_row": null,
            "grid_template_areas": null,
            "grid_template_columns": null,
            "grid_template_rows": null,
            "height": null,
            "justify_content": null,
            "justify_items": null,
            "left": null,
            "margin": null,
            "max_height": null,
            "max_width": null,
            "min_height": null,
            "min_width": null,
            "object_fit": null,
            "object_position": null,
            "order": null,
            "overflow": null,
            "overflow_x": null,
            "overflow_y": null,
            "padding": null,
            "right": null,
            "top": null,
            "visibility": null,
            "width": null
          }
        },
        "30370b61e5e648ff9653ad99f5dc37a7": {
          "model_module": "@jupyter-widgets/controls",
          "model_name": "ButtonStyleModel",
          "model_module_version": "1.5.0",
          "state": {
            "_model_module": "@jupyter-widgets/controls",
            "_model_module_version": "1.5.0",
            "_model_name": "ButtonStyleModel",
            "_view_count": null,
            "_view_module": "@jupyter-widgets/base",
            "_view_module_version": "1.2.0",
            "_view_name": "StyleView",
            "button_color": null,
            "font_weight": ""
          }
        },
        "2d47b476f4004056add272f112dab15f": {
          "model_module": "@jupyter-widgets/base",
          "model_name": "LayoutModel",
          "model_module_version": "1.2.0",
          "state": {
            "_model_module": "@jupyter-widgets/base",
            "_model_module_version": "1.2.0",
            "_model_name": "LayoutModel",
            "_view_count": null,
            "_view_module": "@jupyter-widgets/base",
            "_view_module_version": "1.2.0",
            "_view_name": "LayoutView",
            "align_content": null,
            "align_items": null,
            "align_self": null,
            "border": null,
            "bottom": null,
            "display": null,
            "flex": null,
            "flex_flow": null,
            "grid_area": null,
            "grid_auto_columns": null,
            "grid_auto_flow": null,
            "grid_auto_rows": null,
            "grid_column": null,
            "grid_gap": null,
            "grid_row": null,
            "grid_template_areas": null,
            "grid_template_columns": null,
            "grid_template_rows": null,
            "height": null,
            "justify_content": null,
            "justify_items": null,
            "left": null,
            "margin": null,
            "max_height": null,
            "max_width": null,
            "min_height": null,
            "min_width": null,
            "object_fit": null,
            "object_position": null,
            "order": null,
            "overflow": null,
            "overflow_x": null,
            "overflow_y": null,
            "padding": null,
            "right": null,
            "top": null,
            "visibility": null,
            "width": null
          }
        },
        "4cde4ad982294b77901768c824f5a03e": {
          "model_module": "@jupyter-widgets/controls",
          "model_name": "DescriptionStyleModel",
          "model_module_version": "1.5.0",
          "state": {
            "_model_module": "@jupyter-widgets/controls",
            "_model_module_version": "1.5.0",
            "_model_name": "DescriptionStyleModel",
            "_view_count": null,
            "_view_module": "@jupyter-widgets/base",
            "_view_module_version": "1.2.0",
            "_view_name": "StyleView",
            "description_width": ""
          }
        },
        "b6b9f5eebfb044e5ba805f1c27c7961c": {
          "model_module": "@jupyter-widgets/controls",
          "model_name": "LabelModel",
          "model_module_version": "1.5.0",
          "state": {
            "_dom_classes": [],
            "_model_module": "@jupyter-widgets/controls",
            "_model_module_version": "1.5.0",
            "_model_name": "LabelModel",
            "_view_count": null,
            "_view_module": "@jupyter-widgets/controls",
            "_view_module_version": "1.5.0",
            "_view_name": "LabelView",
            "description": "",
            "description_tooltip": null,
            "layout": "IPY_MODEL_04ee82a0da6b42c3a4e8bc53d3fe57c8",
            "placeholder": "​",
            "style": "IPY_MODEL_b609bd59aadc4b72ba0f7ba01bc9e356",
            "value": "Connecting..."
          }
        },
        "04ee82a0da6b42c3a4e8bc53d3fe57c8": {
          "model_module": "@jupyter-widgets/base",
          "model_name": "LayoutModel",
          "model_module_version": "1.2.0",
          "state": {
            "_model_module": "@jupyter-widgets/base",
            "_model_module_version": "1.2.0",
            "_model_name": "LayoutModel",
            "_view_count": null,
            "_view_module": "@jupyter-widgets/base",
            "_view_module_version": "1.2.0",
            "_view_name": "LayoutView",
            "align_content": null,
            "align_items": null,
            "align_self": null,
            "border": null,
            "bottom": null,
            "display": null,
            "flex": null,
            "flex_flow": null,
            "grid_area": null,
            "grid_auto_columns": null,
            "grid_auto_flow": null,
            "grid_auto_rows": null,
            "grid_column": null,
            "grid_gap": null,
            "grid_row": null,
            "grid_template_areas": null,
            "grid_template_columns": null,
            "grid_template_rows": null,
            "height": null,
            "justify_content": null,
            "justify_items": null,
            "left": null,
            "margin": null,
            "max_height": null,
            "max_width": null,
            "min_height": null,
            "min_width": null,
            "object_fit": null,
            "object_position": null,
            "order": null,
            "overflow": null,
            "overflow_x": null,
            "overflow_y": null,
            "padding": null,
            "right": null,
            "top": null,
            "visibility": null,
            "width": null
          }
        },
        "b609bd59aadc4b72ba0f7ba01bc9e356": {
          "model_module": "@jupyter-widgets/controls",
          "model_name": "DescriptionStyleModel",
          "model_module_version": "1.5.0",
          "state": {
            "_model_module": "@jupyter-widgets/controls",
            "_model_module_version": "1.5.0",
            "_model_name": "DescriptionStyleModel",
            "_view_count": null,
            "_view_module": "@jupyter-widgets/base",
            "_view_module_version": "1.2.0",
            "_view_name": "StyleView",
            "description_width": ""
          }
        },
        "5a23ef5245264098b6a88fc88657688f": {
          "model_module": "@jupyter-widgets/controls",
          "model_name": "LabelModel",
          "model_module_version": "1.5.0",
          "state": {
            "_dom_classes": [],
            "_model_module": "@jupyter-widgets/controls",
            "_model_module_version": "1.5.0",
            "_model_name": "LabelModel",
            "_view_count": null,
            "_view_module": "@jupyter-widgets/controls",
            "_view_module_version": "1.5.0",
            "_view_name": "LabelView",
            "description": "",
            "description_tooltip": null,
            "layout": "IPY_MODEL_d0f88d44f9fc41cbb2426d941f001c80",
            "placeholder": "​",
            "style": "IPY_MODEL_5dc531c6d84940d78ba6d571f306fea8",
            "value": "Token is valid (permission: write)."
          }
        },
        "cc346c54db0b4259a19345e3640ed16d": {
          "model_module": "@jupyter-widgets/controls",
          "model_name": "LabelModel",
          "model_module_version": "1.5.0",
          "state": {
            "_dom_classes": [],
            "_model_module": "@jupyter-widgets/controls",
            "_model_module_version": "1.5.0",
            "_model_name": "LabelModel",
            "_view_count": null,
            "_view_module": "@jupyter-widgets/controls",
            "_view_module_version": "1.5.0",
            "_view_name": "LabelView",
            "description": "",
            "description_tooltip": null,
            "layout": "IPY_MODEL_b11b5abde87345b6a9cefc0e00582c74",
            "placeholder": "​",
            "style": "IPY_MODEL_1a6af88f5d694eb1868c387589592cbf",
            "value": "Your token has been saved to /root/.cache/huggingface/token"
          }
        },
        "c332afa3935c436486e453533f1c8857": {
          "model_module": "@jupyter-widgets/controls",
          "model_name": "LabelModel",
          "model_module_version": "1.5.0",
          "state": {
            "_dom_classes": [],
            "_model_module": "@jupyter-widgets/controls",
            "_model_module_version": "1.5.0",
            "_model_name": "LabelModel",
            "_view_count": null,
            "_view_module": "@jupyter-widgets/controls",
            "_view_module_version": "1.5.0",
            "_view_name": "LabelView",
            "description": "",
            "description_tooltip": null,
            "layout": "IPY_MODEL_1114b3be9fb44220bc6cba0b112ba758",
            "placeholder": "​",
            "style": "IPY_MODEL_53698089768c4ba6a67198711e444575",
            "value": "Login successful"
          }
        },
        "d0f88d44f9fc41cbb2426d941f001c80": {
          "model_module": "@jupyter-widgets/base",
          "model_name": "LayoutModel",
          "model_module_version": "1.2.0",
          "state": {
            "_model_module": "@jupyter-widgets/base",
            "_model_module_version": "1.2.0",
            "_model_name": "LayoutModel",
            "_view_count": null,
            "_view_module": "@jupyter-widgets/base",
            "_view_module_version": "1.2.0",
            "_view_name": "LayoutView",
            "align_content": null,
            "align_items": null,
            "align_self": null,
            "border": null,
            "bottom": null,
            "display": null,
            "flex": null,
            "flex_flow": null,
            "grid_area": null,
            "grid_auto_columns": null,
            "grid_auto_flow": null,
            "grid_auto_rows": null,
            "grid_column": null,
            "grid_gap": null,
            "grid_row": null,
            "grid_template_areas": null,
            "grid_template_columns": null,
            "grid_template_rows": null,
            "height": null,
            "justify_content": null,
            "justify_items": null,
            "left": null,
            "margin": null,
            "max_height": null,
            "max_width": null,
            "min_height": null,
            "min_width": null,
            "object_fit": null,
            "object_position": null,
            "order": null,
            "overflow": null,
            "overflow_x": null,
            "overflow_y": null,
            "padding": null,
            "right": null,
            "top": null,
            "visibility": null,
            "width": null
          }
        },
        "5dc531c6d84940d78ba6d571f306fea8": {
          "model_module": "@jupyter-widgets/controls",
          "model_name": "DescriptionStyleModel",
          "model_module_version": "1.5.0",
          "state": {
            "_model_module": "@jupyter-widgets/controls",
            "_model_module_version": "1.5.0",
            "_model_name": "DescriptionStyleModel",
            "_view_count": null,
            "_view_module": "@jupyter-widgets/base",
            "_view_module_version": "1.2.0",
            "_view_name": "StyleView",
            "description_width": ""
          }
        },
        "b11b5abde87345b6a9cefc0e00582c74": {
          "model_module": "@jupyter-widgets/base",
          "model_name": "LayoutModel",
          "model_module_version": "1.2.0",
          "state": {
            "_model_module": "@jupyter-widgets/base",
            "_model_module_version": "1.2.0",
            "_model_name": "LayoutModel",
            "_view_count": null,
            "_view_module": "@jupyter-widgets/base",
            "_view_module_version": "1.2.0",
            "_view_name": "LayoutView",
            "align_content": null,
            "align_items": null,
            "align_self": null,
            "border": null,
            "bottom": null,
            "display": null,
            "flex": null,
            "flex_flow": null,
            "grid_area": null,
            "grid_auto_columns": null,
            "grid_auto_flow": null,
            "grid_auto_rows": null,
            "grid_column": null,
            "grid_gap": null,
            "grid_row": null,
            "grid_template_areas": null,
            "grid_template_columns": null,
            "grid_template_rows": null,
            "height": null,
            "justify_content": null,
            "justify_items": null,
            "left": null,
            "margin": null,
            "max_height": null,
            "max_width": null,
            "min_height": null,
            "min_width": null,
            "object_fit": null,
            "object_position": null,
            "order": null,
            "overflow": null,
            "overflow_x": null,
            "overflow_y": null,
            "padding": null,
            "right": null,
            "top": null,
            "visibility": null,
            "width": null
          }
        },
        "1a6af88f5d694eb1868c387589592cbf": {
          "model_module": "@jupyter-widgets/controls",
          "model_name": "DescriptionStyleModel",
          "model_module_version": "1.5.0",
          "state": {
            "_model_module": "@jupyter-widgets/controls",
            "_model_module_version": "1.5.0",
            "_model_name": "DescriptionStyleModel",
            "_view_count": null,
            "_view_module": "@jupyter-widgets/base",
            "_view_module_version": "1.2.0",
            "_view_name": "StyleView",
            "description_width": ""
          }
        },
        "1114b3be9fb44220bc6cba0b112ba758": {
          "model_module": "@jupyter-widgets/base",
          "model_name": "LayoutModel",
          "model_module_version": "1.2.0",
          "state": {
            "_model_module": "@jupyter-widgets/base",
            "_model_module_version": "1.2.0",
            "_model_name": "LayoutModel",
            "_view_count": null,
            "_view_module": "@jupyter-widgets/base",
            "_view_module_version": "1.2.0",
            "_view_name": "LayoutView",
            "align_content": null,
            "align_items": null,
            "align_self": null,
            "border": null,
            "bottom": null,
            "display": null,
            "flex": null,
            "flex_flow": null,
            "grid_area": null,
            "grid_auto_columns": null,
            "grid_auto_flow": null,
            "grid_auto_rows": null,
            "grid_column": null,
            "grid_gap": null,
            "grid_row": null,
            "grid_template_areas": null,
            "grid_template_columns": null,
            "grid_template_rows": null,
            "height": null,
            "justify_content": null,
            "justify_items": null,
            "left": null,
            "margin": null,
            "max_height": null,
            "max_width": null,
            "min_height": null,
            "min_width": null,
            "object_fit": null,
            "object_position": null,
            "order": null,
            "overflow": null,
            "overflow_x": null,
            "overflow_y": null,
            "padding": null,
            "right": null,
            "top": null,
            "visibility": null,
            "width": null
          }
        },
        "53698089768c4ba6a67198711e444575": {
          "model_module": "@jupyter-widgets/controls",
          "model_name": "DescriptionStyleModel",
          "model_module_version": "1.5.0",
          "state": {
            "_model_module": "@jupyter-widgets/controls",
            "_model_module_version": "1.5.0",
            "_model_name": "DescriptionStyleModel",
            "_view_count": null,
            "_view_module": "@jupyter-widgets/base",
            "_view_module_version": "1.2.0",
            "_view_name": "StyleView",
            "description_width": ""
          }
        }
      }
    }
  },
  "nbformat": 4,
  "nbformat_minor": 0
}